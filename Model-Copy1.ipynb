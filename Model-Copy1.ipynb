{
 "cells": [
  {
   "cell_type": "code",
   "execution_count": 201,
   "metadata": {
    "colab": {},
    "colab_type": "code",
    "id": "M5b4J2n4N_Ex"
   },
   "outputs": [],
   "source": [
    "# from google.colab import drive\n",
    "# drive.mount('/content/drive')"
   ]
  },
  {
   "cell_type": "code",
   "execution_count": 202,
   "metadata": {
    "colab": {
     "base_uri": "https://localhost:8080/",
     "height": 34
    },
    "colab_type": "code",
    "executionInfo": {
     "elapsed": 2044,
     "status": "ok",
     "timestamp": 1590262528299,
     "user": {
      "displayName": "Lahiru Senevirathne",
      "photoUrl": "https://lh3.googleusercontent.com/a-/AOh14GiRzF3KfxeuLmDoDB90oNXQ5_ivLn8-Ar4kecdc=s64",
      "userId": "12627549003426465017"
     },
     "user_tz": -330
    },
    "id": "Na4TB9R3TSGd",
    "outputId": "bc7b455e-93f4-4d1e-c264-0b0b52f450e9"
   },
   "outputs": [],
   "source": [
    "# cd /content/drive/My Drive/University/SEM7/CS4622_Machine_Learning/Project_1/Fair_Classification"
   ]
  },
  {
   "cell_type": "markdown",
   "metadata": {
    "colab_type": "text",
    "id": "5eFD3Y0C2lty"
   },
   "source": [
    "# Imports"
   ]
  },
  {
   "cell_type": "code",
   "execution_count": 203,
   "metadata": {
    "colab": {},
    "colab_type": "code",
    "id": "okX-DA52Tbme"
   },
   "outputs": [],
   "source": [
    "import pandas as pd\n",
    "import numpy as np\n",
    "import matplotlib.pyplot as plt\n",
    "import seaborn as sns\n",
    "from datetime import datetime\n",
    "import calendar\n",
    "import warnings\n",
    "from math import sin, cos, sqrt, atan2, radians,asin\n",
    "\n",
    "from scipy.stats import uniform as sp_randFloat\n",
    "from scipy.stats import randint as sp_randInt\n",
    "    \n",
    "from sklearn.model_selection import train_test_split,RandomizedSearchCV,GridSearchCV\n",
    "from sklearn.metrics import mean_squared_error,accuracy_score,f1_score,roc_auc_score\n",
    "from sklearn.linear_model import LinearRegression\n",
    "from sklearn.ensemble import RandomForestRegressor\n",
    "# import lightgbm as lgb\n",
    "# import xgboost as xgb\n",
    "# from hyperopt import hp, fmin, tpe, STATUS_OK, Trials\n",
    "warnings.filterwarnings('ignore')\n",
    "# from xgboost import XGBClassifier\n",
    "\n",
    "\n"
   ]
  },
  {
   "cell_type": "markdown",
   "metadata": {
    "colab_type": "text",
    "id": "FidOk68b2qBp"
   },
   "source": [
    "# Load Data"
   ]
  },
  {
   "cell_type": "code",
   "execution_count": 204,
   "metadata": {
    "colab": {
     "base_uri": "https://localhost:8080/",
     "height": 51
    },
    "colab_type": "code",
    "executionInfo": {
     "elapsed": 1972,
     "status": "ok",
     "timestamp": 1590262528303,
     "user": {
      "displayName": "Lahiru Senevirathne",
      "photoUrl": "https://lh3.googleusercontent.com/a-/AOh14GiRzF3KfxeuLmDoDB90oNXQ5_ivLn8-Ar4kecdc=s64",
      "userId": "12627549003426465017"
     },
     "user_tz": -330
    },
    "id": "eDxwe9qKTYRs",
    "outputId": "e7358f3e-b5ea-4bf3-d817-5b74732054bb"
   },
   "outputs": [
    {
     "name": "stdout",
     "output_type": "stream",
     "text": [
      "Shape of Training Data (17176, 25)\n",
      "Shape of Testing Data (8576, 24)\n"
     ]
    }
   ],
   "source": [
    "# train=pd.read_csv(\"/content/drive/My Drive/University/SEM7/CS4622_Machine_Learning/Project_1/Fair_Classification/features/Train_FeatureEngineering_4_without_droping_any_feature.csv\")\n",
    "# test=pd.read_csv(\"/content/drive/My Drive/University/SEM7/CS4622_Machine_Learning/Project_1/Fair_Classification/features/Test_FeatureEngineering_4.csv\")\n",
    "# for other account\n",
    "train=pd.read_csv(\"features/7_Train_FeatureEngineering_didnt_fill_null.csv\")\n",
    "test=pd.read_csv(\"features/7_Test_FeatureEngineering_didnt_fill_null.csv\")\n",
    "\n",
    "print(\"Shape of Training Data\",train.shape)\n",
    "print(\"Shape of Testing Data\", test.shape)\n"
   ]
  },
  {
   "cell_type": "code",
   "execution_count": 205,
   "metadata": {
    "colab": {
     "base_uri": "https://localhost:8080/",
     "height": 153
    },
    "colab_type": "code",
    "executionInfo": {
     "elapsed": 2802,
     "status": "ok",
     "timestamp": 1590262529167,
     "user": {
      "displayName": "Lahiru Senevirathne",
      "photoUrl": "https://lh3.googleusercontent.com/a-/AOh14GiRzF3KfxeuLmDoDB90oNXQ5_ivLn8-Ar4kecdc=s64",
      "userId": "12627549003426465017"
     },
     "user_tz": -330
    },
    "id": "H7sdqIg__vGC",
    "outputId": "92766e40-ffd6-46cb-b859-b1d94c1b56e3"
   },
   "outputs": [
    {
     "data": {
      "text/plain": [
       "Index(['tripid', 'additional_fare', 'duration', 'meter_waiting',\n",
       "       'meter_waiting_fare', 'meter_waiting_till_pickup', 'pickup_time',\n",
       "       'drop_time', 'pick_lat', 'pick_lon', 'drop_lat', 'drop_lon', 'fare',\n",
       "       'label', 'additional_fare_is_outlier', 'meter_waiting_fare_is_outlier',\n",
       "       'fare_is_outlier', 'pickup_date', 'pickup_day', 'pickup_hour',\n",
       "       'pickup_day_of_week', 'pickup_month', 'pickup_year', 'is_outlier_loc',\n",
       "       'trip_distance'],\n",
       "      dtype='object')"
      ]
     },
     "execution_count": 205,
     "metadata": {},
     "output_type": "execute_result"
    }
   ],
   "source": [
    "train.columns"
   ]
  },
  {
   "cell_type": "code",
   "execution_count": 206,
   "metadata": {
    "colab": {
     "base_uri": "https://localhost:8080/",
     "height": 153
    },
    "colab_type": "code",
    "executionInfo": {
     "elapsed": 2731,
     "status": "ok",
     "timestamp": 1590262529171,
     "user": {
      "displayName": "Lahiru Senevirathne",
      "photoUrl": "https://lh3.googleusercontent.com/a-/AOh14GiRzF3KfxeuLmDoDB90oNXQ5_ivLn8-Ar4kecdc=s64",
      "userId": "12627549003426465017"
     },
     "user_tz": -330
    },
    "id": "fETWEWheOceP",
    "outputId": "6eb4ea9b-8b21-465c-8e5f-3a0d0d75661f"
   },
   "outputs": [
    {
     "data": {
      "text/plain": [
       "Index(['tripid', 'additional_fare', 'duration', 'meter_waiting',\n",
       "       'meter_waiting_fare', 'meter_waiting_till_pickup', 'pickup_time',\n",
       "       'drop_time', 'pick_lat', 'pick_lon', 'drop_lat', 'drop_lon', 'fare',\n",
       "       'additional_fare_is_outlier', 'meter_waiting_fare_is_outlier',\n",
       "       'fare_is_outlier', 'pickup_date', 'pickup_day', 'pickup_hour',\n",
       "       'pickup_day_of_week', 'pickup_month', 'pickup_year', 'is_outlier_loc',\n",
       "       'trip_distance'],\n",
       "      dtype='object')"
      ]
     },
     "execution_count": 206,
     "metadata": {},
     "output_type": "execute_result"
    }
   ],
   "source": [
    "test.columns"
   ]
  },
  {
   "cell_type": "markdown",
   "metadata": {
    "colab_type": "text",
    "id": "iOmvy1rKlXud"
   },
   "source": [
    "# Data_Preprocessing"
   ]
  },
  {
   "cell_type": "code",
   "execution_count": 207,
   "metadata": {
    "colab": {},
    "colab_type": "code",
    "id": "ZEkEw04h_tOB"
   },
   "outputs": [],
   "source": [
    "# drop_columns_train=['tripid','pickup_time','drop_time','pick_lat','pick_lon','drop_lat','drop_lon','pickup_date','pickup_latitude_round3','pickup_longitude_round3','dropoff_latitude_round3','dropoff_longitude_round3']\n",
    "# drop_columns_test=['tripid','pickup_time','drop_time','pick_lat','pick_lon','drop_lat','drop_lon','pickup_date','pickup_latitude_round3','pickup_longitude_round3','dropoff_latitude_round3','dropoff_longitude_round3','is_outlier_loc']\n",
    "\n",
    "drop_columns_train=['tripid','pickup_time','drop_time','pickup_date','pickup_day','pickup_month','pickup_year']\n",
    "drop_columns_test=['tripid','pickup_time','drop_time','pickup_date','pickup_day','pickup_month','pickup_year']"
   ]
  },
  {
   "cell_type": "code",
   "execution_count": 208,
   "metadata": {
    "colab": {
     "base_uri": "https://localhost:8080/",
     "height": 51
    },
    "colab_type": "code",
    "executionInfo": {
     "elapsed": 2704,
     "status": "ok",
     "timestamp": 1590262529177,
     "user": {
      "displayName": "Lahiru Senevirathne",
      "photoUrl": "https://lh3.googleusercontent.com/a-/AOh14GiRzF3KfxeuLmDoDB90oNXQ5_ivLn8-Ar4kecdc=s64",
      "userId": "12627549003426465017"
     },
     "user_tz": -330
    },
    "id": "V83jeIqWAiM5",
    "outputId": "7e31382c-9005-4814-bdd5-fb44ca39b32d"
   },
   "outputs": [
    {
     "name": "stdout",
     "output_type": "stream",
     "text": [
      "Shape of Training Data after dropping columns (17176, 18)\n",
      "Shape of Testing Data after dropping columns (8576, 17)\n"
     ]
    }
   ],
   "source": [
    "train_1=train.drop(drop_columns_train,axis=1)\n",
    "test_1=test.drop(drop_columns_test,axis=1)\n",
    "print(\"Shape of Training Data after dropping columns\",train_1.shape)\n",
    "print(\"Shape of Testing Data after dropping columns\",test_1.shape)"
   ]
  },
  {
   "cell_type": "code",
   "execution_count": 209,
   "metadata": {
    "colab": {},
    "colab_type": "code",
    "id": "zmK1_ekYuPpl"
   },
   "outputs": [],
   "source": [
    "# def encodeDays(day_of_week):\n",
    "#   day_dict={'Sunday':0,'Monday':1,'Tuesday':2,'Wednesday':3,'Thursday':4,'Friday':5,'Saturday':6}\n",
    "#   return day_dict[day_of_week]\n",
    "# def encodeLabel(label):\n",
    "#   label_dict={'correct':1,'incorrect':0}\n",
    "#   return label_dict[label]\n",
    "# def clean_data(data,isTrain):\n",
    "#   data['pickup_day_of_week']=data['pickup_day_of_week'].apply(lambda x:encodeDays(x))\n",
    "#   if(isTrain):\n",
    "#     data['label']=data['label'].apply(lambda x:encodeLabel(x))\n",
    "#   return data\n",
    "\n",
    "# train_1=clean_data(train_1,True)\n",
    "# test_1=clean_data(test_1,False)\n",
    "# print(\"Shape of Training Data after cleaning \",train_1.shape)\n",
    "# print(\"Shape of Testing Data after cleaning\", test_1.shape)"
   ]
  },
  {
   "cell_type": "code",
   "execution_count": 210,
   "metadata": {
    "colab": {
     "base_uri": "https://localhost:8080/",
     "height": 476
    },
    "colab_type": "code",
    "executionInfo": {
     "elapsed": 2675,
     "status": "ok",
     "timestamp": 1590262529183,
     "user": {
      "displayName": "Lahiru Senevirathne",
      "photoUrl": "https://lh3.googleusercontent.com/a-/AOh14GiRzF3KfxeuLmDoDB90oNXQ5_ivLn8-Ar4kecdc=s64",
      "userId": "12627549003426465017"
     },
     "user_tz": -330
    },
    "id": "-UevHcHn3iqT",
    "outputId": "4822f997-cc75-403c-e746-ccfec729e4a0"
   },
   "outputs": [
    {
     "name": "stdout",
     "output_type": "stream",
     "text": [
      "<class 'pandas.core.frame.DataFrame'>\n",
      "RangeIndex: 8576 entries, 0 to 8575\n",
      "Data columns (total 17 columns):\n",
      " #   Column                         Non-Null Count  Dtype  \n",
      "---  ------                         --------------  -----  \n",
      " 0   additional_fare                8576 non-null   float64\n",
      " 1   duration                       8576 non-null   int64  \n",
      " 2   meter_waiting                  8576 non-null   int64  \n",
      " 3   meter_waiting_fare             8576 non-null   float64\n",
      " 4   meter_waiting_till_pickup      8576 non-null   int64  \n",
      " 5   pick_lat                       8576 non-null   float64\n",
      " 6   pick_lon                       8576 non-null   float64\n",
      " 7   drop_lat                       8576 non-null   float64\n",
      " 8   drop_lon                       8576 non-null   float64\n",
      " 9   fare                           8576 non-null   float64\n",
      " 10  additional_fare_is_outlier     8576 non-null   int64  \n",
      " 11  meter_waiting_fare_is_outlier  8576 non-null   int64  \n",
      " 12  fare_is_outlier                8576 non-null   int64  \n",
      " 13  pickup_hour                    8576 non-null   int64  \n",
      " 14  pickup_day_of_week             8576 non-null   int64  \n",
      " 15  is_outlier_loc                 8576 non-null   int64  \n",
      " 16  trip_distance                  8576 non-null   float64\n",
      "dtypes: float64(8), int64(9)\n",
      "memory usage: 1.1 MB\n"
     ]
    }
   ],
   "source": [
    "test_1.info()"
   ]
  },
  {
   "cell_type": "code",
   "execution_count": 211,
   "metadata": {
    "colab": {
     "base_uri": "https://localhost:8080/",
     "height": 493
    },
    "colab_type": "code",
    "executionInfo": {
     "elapsed": 1289,
     "status": "ok",
     "timestamp": 1590262536343,
     "user": {
      "displayName": "Lahiru Senevirathne",
      "photoUrl": "https://lh3.googleusercontent.com/a-/AOh14GiRzF3KfxeuLmDoDB90oNXQ5_ivLn8-Ar4kecdc=s64",
      "userId": "12627549003426465017"
     },
     "user_tz": -330
    },
    "id": "5tT6t_3v7ABT",
    "outputId": "49699b24-2879-4108-957c-70b71e631b96"
   },
   "outputs": [
    {
     "name": "stdout",
     "output_type": "stream",
     "text": [
      "<class 'pandas.core.frame.DataFrame'>\n",
      "RangeIndex: 17176 entries, 0 to 17175\n",
      "Data columns (total 18 columns):\n",
      " #   Column                         Non-Null Count  Dtype  \n",
      "---  ------                         --------------  -----  \n",
      " 0   additional_fare                16974 non-null  float64\n",
      " 1   duration                       16974 non-null  float64\n",
      " 2   meter_waiting                  16974 non-null  float64\n",
      " 3   meter_waiting_fare             16974 non-null  float64\n",
      " 4   meter_waiting_till_pickup      16974 non-null  float64\n",
      " 5   pick_lat                       17176 non-null  float64\n",
      " 6   pick_lon                       17176 non-null  float64\n",
      " 7   drop_lat                       17176 non-null  float64\n",
      " 8   drop_lon                       17176 non-null  float64\n",
      " 9   fare                           17039 non-null  float64\n",
      " 10  additional_fare_is_outlier     17176 non-null  int64  \n",
      " 11  meter_waiting_fare_is_outlier  17176 non-null  int64  \n",
      " 12  fare_is_outlier                17176 non-null  int64  \n",
      " 13  pickup_hour                    17176 non-null  int64  \n",
      " 14  pickup_day_of_week             17176 non-null  int64  \n",
      " 15  is_outlier_loc                 17176 non-null  int64  \n",
      " 16  trip_distance                  17176 non-null  float64\n",
      " 17  label                          17176 non-null  int64  \n",
      "dtypes: float64(11), int64(7)\n",
      "memory usage: 2.4 MB\n"
     ]
    }
   ],
   "source": [
    "columns_titles = ['additional_fare','duration','meter_waiting','meter_waiting_fare','meter_waiting_till_pickup','pick_lat','pick_lon','drop_lat','drop_lon','fare','additional_fare_is_outlier','meter_waiting_fare_is_outlier','fare_is_outlier','pickup_hour','pickup_day_of_week','is_outlier_loc','trip_distance','label']\n",
    "#columns_titles = ['additional_fare','duration','meter_waiting','meter_waiting_fare','meter_waiting_till_pickup','pick_lat','pick_lon','drop_lat','drop_lon','fare','additional_fare_is_outlier','meter_waiting_fare_is_outlier','fare_is_outlier','pickup_hour','pickup_day_of_week','is_outlier_loc','trip_distance','label','additional_fare_is_outlier','meter_waiting_fare_is_outlier','fare_is_outlier']\n",
    "train_1=train_1.reindex(columns=columns_titles)\n",
    "train_1.info()"
   ]
  },
  {
   "cell_type": "code",
   "execution_count": 212,
   "metadata": {
    "colab": {
     "base_uri": "https://localhost:8080/",
     "height": 51
    },
    "colab_type": "code",
    "executionInfo": {
     "elapsed": 1297,
     "status": "ok",
     "timestamp": 1590262559840,
     "user": {
      "displayName": "Lahiru Senevirathne",
      "photoUrl": "https://lh3.googleusercontent.com/a-/AOh14GiRzF3KfxeuLmDoDB90oNXQ5_ivLn8-Ar4kecdc=s64",
      "userId": "12627549003426465017"
     },
     "user_tz": -330
    },
    "id": "wajA9p8B1DLv",
    "outputId": "68365cb3-7b2c-455e-df5f-6cc1fdb94e88"
   },
   "outputs": [
    {
     "name": "stdout",
     "output_type": "stream",
     "text": [
      "\n",
      "Categorical Variables indices :  [13]\n"
     ]
    }
   ],
   "source": [
    "# categorical_var = ['additional_fare_is_outlier','meter_waiting_fare_is_outlier','fare_is_outlier','pickup_hour','pickup_day_of_week','is_outlier_loc'] \n",
    "categorical_var = ['pickup_hour'] \n",
    "categorical_var_indices = [train_1.columns.get_loc(c) for c in categorical_var if c in train_1]\n",
    "print('\\nCategorical Variables indices : ',categorical_var_indices)"
   ]
  },
  {
   "cell_type": "code",
   "execution_count": 213,
   "metadata": {},
   "outputs": [
    {
     "name": "stdout",
     "output_type": "stream",
     "text": [
      "<class 'pandas.core.frame.DataFrame'>\n",
      "RangeIndex: 17176 entries, 0 to 17175\n",
      "Data columns (total 18 columns):\n",
      " #   Column                         Non-Null Count  Dtype  \n",
      "---  ------                         --------------  -----  \n",
      " 0   additional_fare                16974 non-null  float64\n",
      " 1   duration                       16974 non-null  float64\n",
      " 2   meter_waiting                  16974 non-null  float64\n",
      " 3   meter_waiting_fare             16974 non-null  float64\n",
      " 4   meter_waiting_till_pickup      16974 non-null  float64\n",
      " 5   pick_lat                       17176 non-null  float64\n",
      " 6   pick_lon                       17176 non-null  float64\n",
      " 7   drop_lat                       17176 non-null  float64\n",
      " 8   drop_lon                       17176 non-null  float64\n",
      " 9   fare                           17039 non-null  float64\n",
      " 10  additional_fare_is_outlier     17176 non-null  int64  \n",
      " 11  meter_waiting_fare_is_outlier  17176 non-null  int64  \n",
      " 12  fare_is_outlier                17176 non-null  int64  \n",
      " 13  pickup_hour                    17176 non-null  int64  \n",
      " 14  pickup_day_of_week             17176 non-null  int64  \n",
      " 15  is_outlier_loc                 17176 non-null  int64  \n",
      " 16  trip_distance                  17176 non-null  float64\n",
      " 17  label                          17176 non-null  int64  \n",
      "dtypes: float64(11), int64(7)\n",
      "memory usage: 2.4 MB\n"
     ]
    }
   ],
   "source": [
    "train_1.info()"
   ]
  },
  {
   "cell_type": "code",
   "execution_count": 214,
   "metadata": {
    "colab": {},
    "colab_type": "code",
    "id": "ls8ttUXWBHDc"
   },
   "outputs": [],
   "source": [
    "# train_1=pd.get_dummies(train_1)\n",
    "# test_1=pd.get_dummies(test_1)\n",
    "\n",
    "# print(\"Shape of Training Data after One Hot Encoding\",train_1.shape)\n",
    "# print(\"Shape of Testing Data after One Hot Encoding\",test_1.shape)"
   ]
  },
  {
   "cell_type": "code",
   "execution_count": 215,
   "metadata": {
    "colab": {
     "base_uri": "https://localhost:8080/",
     "height": 51
    },
    "colab_type": "code",
    "executionInfo": {
     "elapsed": 1325,
     "status": "ok",
     "timestamp": 1590261509688,
     "user": {
      "displayName": "Lahiru Senevirathne",
      "photoUrl": "https://lh3.googleusercontent.com/a-/AOh14GiRzF3KfxeuLmDoDB90oNXQ5_ivLn8-Ar4kecdc=s64",
      "userId": "12627549003426465017"
     },
     "user_tz": -330
    },
    "id": "s2jVQlWGWs23",
    "outputId": "435e859e-af5e-40e7-b7e4-9c0629f279cc"
   },
   "outputs": [],
   "source": [
    "# print('Old size: %d' % len(train))\n",
    "# train_1 = train_1.dropna()\n",
    "# print('New size: %d' % len(train))"
   ]
  },
  {
   "cell_type": "code",
   "execution_count": 216,
   "metadata": {
    "colab": {},
    "colab_type": "code",
    "id": "pe21G-qjBNhn"
   },
   "outputs": [],
   "source": [
    "X=train_1.drop(['label'],axis=1)\n",
    "y=train_1['label']"
   ]
  },
  {
   "cell_type": "code",
   "execution_count": 217,
   "metadata": {
    "colab": {
     "base_uri": "https://localhost:8080/",
     "height": 51
    },
    "colab_type": "code",
    "executionInfo": {
     "elapsed": 1641,
     "status": "ok",
     "timestamp": 1590262575679,
     "user": {
      "displayName": "Lahiru Senevirathne",
      "photoUrl": "https://lh3.googleusercontent.com/a-/AOh14GiRzF3KfxeuLmDoDB90oNXQ5_ivLn8-Ar4kecdc=s64",
      "userId": "12627549003426465017"
     },
     "user_tz": -330
    },
    "id": "PYOT8bVtBt5o",
    "outputId": "d634af41-5d59-4a24-bb9d-a06963f14cea"
   },
   "outputs": [
    {
     "name": "stdout",
     "output_type": "stream",
     "text": [
      "Number of records in training data  13740\n",
      "Number of records in validation data  3436\n"
     ]
    }
   ],
   "source": [
    "#split data into train and validation data\n",
    "X_train, X_test, y_train, y_test = train_test_split(X,y, test_size=0.2)\n",
    "print(\"Number of records in training data \",X_train.shape[0])\n",
    "print(\"Number of records in validation data \",X_test.shape[0])"
   ]
  },
  {
   "cell_type": "markdown",
   "metadata": {
    "colab_type": "text",
    "id": "Z1ltsV7k2xnK"
   },
   "source": [
    "# Classifiers"
   ]
  },
  {
   "cell_type": "markdown",
   "metadata": {
    "colab_type": "text",
    "id": "b-KJaXJFld6d"
   },
   "source": [
    "## XGBoost CLassifier"
   ]
  },
  {
   "cell_type": "code",
   "execution_count": 218,
   "metadata": {
    "colab": {
     "base_uri": "https://localhost:8080/",
     "height": 136
    },
    "colab_type": "code",
    "executionInfo": {
     "elapsed": 2460,
     "status": "ok",
     "timestamp": 1589456687151,
     "user": {
      "displayName": "Lahiru Senevirathne",
      "photoUrl": "https://lh3.googleusercontent.com/a-/AOh14GiRzF3KfxeuLmDoDB90oNXQ5_ivLn8-Ar4kecdc=s64",
      "userId": "12627549003426465017"
     },
     "user_tz": -330
    },
    "id": "pe0jYgbgjPv9",
    "outputId": "ce0f1e3e-2ecc-4196-c7a1-e9820d2c55bb"
   },
   "outputs": [],
   "source": [
    "# model = XGBClassifier()\n",
    "# model.fit(X_train, y_train)"
   ]
  },
  {
   "cell_type": "markdown",
   "metadata": {
    "colab_type": "text",
    "id": "X-T6KE7ellhg"
   },
   "source": [
    "## Linear Regression Classifier"
   ]
  },
  {
   "cell_type": "code",
   "execution_count": 219,
   "metadata": {
    "colab": {
     "base_uri": "https://localhost:8080/",
     "height": 34
    },
    "colab_type": "code",
    "executionInfo": {
     "elapsed": 1169,
     "status": "ok",
     "timestamp": 1589456888449,
     "user": {
      "displayName": "Lahiru Senevirathne",
      "photoUrl": "https://lh3.googleusercontent.com/a-/AOh14GiRzF3KfxeuLmDoDB90oNXQ5_ivLn8-Ar4kecdc=s64",
      "userId": "12627549003426465017"
     },
     "user_tz": -330
    },
    "id": "TQonOSC1BwEM",
    "outputId": "cad85110-3756-4904-aee7-0457e987ceb2"
   },
   "outputs": [],
   "source": [
    "# model = LinearRegression()\n",
    "# model.fit(X_train,y_train)\n",
    "# # y_pred=model.predict(X_test)\n",
    "# # lm_rmse=np.sqrt(mean_squared_error(y_pred, y_test))\n",
    "# # print(\"RMSE for Linear Regression is \",lm_rmse)\n"
   ]
  },
  {
   "cell_type": "markdown",
   "metadata": {
    "colab_type": "text",
    "id": "3P9t2QBpj6Kz"
   },
   "source": [
    "## LGBM Classifier"
   ]
  },
  {
   "cell_type": "code",
   "execution_count": 220,
   "metadata": {
    "colab": {},
    "colab_type": "code",
    "id": "Rn8yjzQPywMH"
   },
   "outputs": [],
   "source": [
    "# estimator = lgb.LGBMClassifier(learning_rate = 0.125, metric = 'l1', \n",
    "#                         n_estimators = 20, num_leaves = 38)\n",
    "\n",
    "\n",
    "# param_grid = {\n",
    "#     'n_estimators': [x for x in range(24,40,2)],\n",
    "#     'learning_rate': [0.10, 0.125, 0.15, 0.175, 0.2]}\n",
    "# gridsearch = GridSearchCV(estimator, param_grid)\n",
    "\n",
    "# gridsearch.fit(X_train, y_train,\n",
    "#         eval_set = [(X_test, y_test)],\n",
    "#         eval_metric = ['auc', 'binary_logloss'],\n",
    "#         early_stopping_rounds = 5)"
   ]
  },
  {
   "cell_type": "code",
   "execution_count": 221,
   "metadata": {
    "colab": {
     "base_uri": "https://localhost:8080/",
     "height": 527
    },
    "colab_type": "code",
    "executionInfo": {
     "elapsed": 1483,
     "status": "ok",
     "timestamp": 1589454139232,
     "user": {
      "displayName": "Lahiru Senevirathne",
      "photoUrl": "https://lh3.googleusercontent.com/a-/AOh14GiRzF3KfxeuLmDoDB90oNXQ5_ivLn8-Ar4kecdc=s64",
      "userId": "12627549003426465017"
     },
     "user_tz": -330
    },
    "id": "PKfZjESdzgrj",
    "outputId": "718792bd-75ea-4dba-a120-4b88924eb437"
   },
   "outputs": [],
   "source": [
    "# gbm = lgb.LGBMClassifier(boosting_type='gbdt', class_weight=None,\n",
    "#                                       colsample_bytree=1.0,\n",
    "#                                       importance_type='split',\n",
    "#                                       learning_rate=0.125, max_depth=-1,\n",
    "#                                       metric='l1', min_child_samples=20,\n",
    "#                                       min_child_weight=0.001,\n",
    "#                                       min_split_gain=0.0, n_estimators=20,\n",
    "#                                       n_jobs=-1, num_leaves=38, objective=None,\n",
    "#                                       random_state=None, reg_alpha=0.0,\n",
    "#                                       reg_lambda=0.0, silent=True,\n",
    "#                                       subsample=1.0, subsample_for_bin=200000,\n",
    "#                                       subsample_freq=0)\n",
    "\n",
    "\n",
    "# gbm.fit(X, y,\n",
    "#         eval_set=[(X_test, y_test)],\n",
    "#         eval_metric=['auc', 'binary_logloss'],\n",
    "# early_stopping_rounds=5)"
   ]
  },
  {
   "cell_type": "code",
   "execution_count": 222,
   "metadata": {
    "colab": {
     "base_uri": "https://localhost:8080/",
     "height": 390
    },
    "colab_type": "code",
    "executionInfo": {
     "elapsed": 1145,
     "status": "ok",
     "timestamp": 1589135363012,
     "user": {
      "displayName": "Lahiru Senevirathne",
      "photoUrl": "https://lh3.googleusercontent.com/a-/AOh14GiRzF3KfxeuLmDoDB90oNXQ5_ivLn8-Ar4kecdc=s64",
      "userId": "12627549003426465017"
     },
     "user_tz": -330
    },
    "id": "Qceep_VbzMda",
    "outputId": "652ddf62-dd98-40c5-ebf0-0f9ed63bb7b2"
   },
   "outputs": [],
   "source": [
    "# ax = lgb.plot_importance(gbm, height = 0.4, \n",
    "#                          max_num_features = 50, \n",
    "#                          xlim = (0,100), ylim = (0,23), \n",
    "#                          figsize = (10,6))\n",
    "# plt.show()"
   ]
  },
  {
   "cell_type": "code",
   "execution_count": 223,
   "metadata": {
    "colab": {
     "base_uri": "https://localhost:8080/",
     "height": 34
    },
    "colab_type": "code",
    "executionInfo": {
     "elapsed": 1116,
     "status": "ok",
     "timestamp": 1589135101683,
     "user": {
      "displayName": "Lahiru Senevirathne",
      "photoUrl": "https://lh3.googleusercontent.com/a-/AOh14GiRzF3KfxeuLmDoDB90oNXQ5_ivLn8-Ar4kecdc=s64",
      "userId": "12627549003426465017"
     },
     "user_tz": -330
    },
    "id": "yqt1AZk51T5V",
    "outputId": "b63501cb-d751-4527-e8ee-279b30ff5856"
   },
   "outputs": [],
   "source": [
    "# sorted(gbm.feature_importances_,reverse=True)"
   ]
  },
  {
   "cell_type": "code",
   "execution_count": 224,
   "metadata": {
    "colab": {
     "base_uri": "https://localhost:8080/",
     "height": 170
    },
    "colab_type": "code",
    "executionInfo": {
     "elapsed": 1004,
     "status": "ok",
     "timestamp": 1589135151740,
     "user": {
      "displayName": "Lahiru Senevirathne",
      "photoUrl": "https://lh3.googleusercontent.com/a-/AOh14GiRzF3KfxeuLmDoDB90oNXQ5_ivLn8-Ar4kecdc=s64",
      "userId": "12627549003426465017"
     },
     "user_tz": -330
    },
    "id": "ReMXat-P1gRz",
    "outputId": "a06e52e4-c354-47f6-dba4-6522ba6e3694"
   },
   "outputs": [],
   "source": [
    "\n",
    "# # The code below aims to drop  to keep the features that are included in the most important features. \n",
    "# temp = 0 \n",
    "# total = sum(gbm.feature_importances_)\n",
    "# for feature in sorted(gbm.feature_importances_, reverse=True):\n",
    "#     temp+=feature\n",
    "#     print(feature)\n",
    "#     if temp/total >= 0.85:\n",
    "#         print(feature,temp/total) # stop when we \n",
    "#         break"
   ]
  },
  {
   "cell_type": "code",
   "execution_count": 225,
   "metadata": {
    "colab": {},
    "colab_type": "code",
    "id": "AAWUWLX91mB0"
   },
   "outputs": [],
   "source": [
    "# #The above means let go of all variables after PAY_AMT_5\n",
    "# y_pred_prob = gbm.predict_proba(test_1)[:, 1]\n",
    "# # auc_roc_0 = str(roc_auc_score(y_test, y_pred_prob)) # store AUC score without dimensionality reduction\n",
    "# # print('AUC without dimensionality reduction: \\n' + auc_roc_0)"
   ]
  },
  {
   "cell_type": "code",
   "execution_count": 226,
   "metadata": {
    "colab": {
     "base_uri": "https://localhost:8080/",
     "height": 459
    },
    "colab_type": "code",
    "executionInfo": {
     "elapsed": 953,
     "status": "ok",
     "timestamp": 1589135411501,
     "user": {
      "displayName": "Lahiru Senevirathne",
      "photoUrl": "https://lh3.googleusercontent.com/a-/AOh14GiRzF3KfxeuLmDoDB90oNXQ5_ivLn8-Ar4kecdc=s64",
      "userId": "12627549003426465017"
     },
     "user_tz": -330
    },
    "id": "tt4UY6zj2Bll",
    "outputId": "855c9871-0345-4a2b-b4a6-ee406758c91f"
   },
   "outputs": [
    {
     "data": {
      "text/html": [
       "<div>\n",
       "<style scoped>\n",
       "    .dataframe tbody tr th:only-of-type {\n",
       "        vertical-align: middle;\n",
       "    }\n",
       "\n",
       "    .dataframe tbody tr th {\n",
       "        vertical-align: top;\n",
       "    }\n",
       "\n",
       "    .dataframe thead th {\n",
       "        text-align: right;\n",
       "    }\n",
       "</style>\n",
       "<table border=\"1\" class=\"dataframe\">\n",
       "  <thead>\n",
       "    <tr style=\"text-align: right;\">\n",
       "      <th></th>\n",
       "      <th>additional_fare</th>\n",
       "      <th>duration</th>\n",
       "      <th>meter_waiting</th>\n",
       "      <th>meter_waiting_fare</th>\n",
       "      <th>meter_waiting_till_pickup</th>\n",
       "      <th>pick_lat</th>\n",
       "      <th>pick_lon</th>\n",
       "      <th>drop_lat</th>\n",
       "      <th>drop_lon</th>\n",
       "      <th>fare</th>\n",
       "      <th>additional_fare_is_outlier</th>\n",
       "      <th>meter_waiting_fare_is_outlier</th>\n",
       "      <th>fare_is_outlier</th>\n",
       "      <th>pickup_hour</th>\n",
       "      <th>pickup_day_of_week</th>\n",
       "      <th>is_outlier_loc</th>\n",
       "      <th>trip_distance</th>\n",
       "    </tr>\n",
       "  </thead>\n",
       "  <tbody>\n",
       "    <tr>\n",
       "      <th>0</th>\n",
       "      <td>10.5</td>\n",
       "      <td>834.0</td>\n",
       "      <td>56.0</td>\n",
       "      <td>0.0000</td>\n",
       "      <td>64.0</td>\n",
       "      <td>6.86252</td>\n",
       "      <td>79.8993</td>\n",
       "      <td>6.90330</td>\n",
       "      <td>79.8783</td>\n",
       "      <td>270.32</td>\n",
       "      <td>0</td>\n",
       "      <td>0</td>\n",
       "      <td>0</td>\n",
       "      <td>0</td>\n",
       "      <td>5</td>\n",
       "      <td>0</td>\n",
       "      <td>3.164501</td>\n",
       "    </tr>\n",
       "    <tr>\n",
       "      <th>1</th>\n",
       "      <td>10.5</td>\n",
       "      <td>791.0</td>\n",
       "      <td>47.0</td>\n",
       "      <td>0.0000</td>\n",
       "      <td>134.0</td>\n",
       "      <td>6.88589</td>\n",
       "      <td>79.8984</td>\n",
       "      <td>6.91373</td>\n",
       "      <td>79.8923</td>\n",
       "      <td>197.85</td>\n",
       "      <td>0</td>\n",
       "      <td>0</td>\n",
       "      <td>0</td>\n",
       "      <td>0</td>\n",
       "      <td>5</td>\n",
       "      <td>0</td>\n",
       "      <td>1.968540</td>\n",
       "    </tr>\n",
       "    <tr>\n",
       "      <th>2</th>\n",
       "      <td>10.5</td>\n",
       "      <td>1087.0</td>\n",
       "      <td>80.0</td>\n",
       "      <td>0.0000</td>\n",
       "      <td>61.0</td>\n",
       "      <td>6.90839</td>\n",
       "      <td>79.8651</td>\n",
       "      <td>6.93669</td>\n",
       "      <td>79.9146</td>\n",
       "      <td>301.64</td>\n",
       "      <td>0</td>\n",
       "      <td>0</td>\n",
       "      <td>0</td>\n",
       "      <td>1</td>\n",
       "      <td>5</td>\n",
       "      <td>0</td>\n",
       "      <td>3.917991</td>\n",
       "    </tr>\n",
       "    <tr>\n",
       "      <th>3</th>\n",
       "      <td>10.5</td>\n",
       "      <td>598.0</td>\n",
       "      <td>271.0</td>\n",
       "      <td>15.6638</td>\n",
       "      <td>68.0</td>\n",
       "      <td>6.92570</td>\n",
       "      <td>79.8895</td>\n",
       "      <td>6.92748</td>\n",
       "      <td>79.8971</td>\n",
       "      <td>82.30</td>\n",
       "      <td>0</td>\n",
       "      <td>0</td>\n",
       "      <td>0</td>\n",
       "      <td>2</td>\n",
       "      <td>5</td>\n",
       "      <td>0</td>\n",
       "      <td>0.535588</td>\n",
       "    </tr>\n",
       "    <tr>\n",
       "      <th>4</th>\n",
       "      <td>NaN</td>\n",
       "      <td>NaN</td>\n",
       "      <td>NaN</td>\n",
       "      <td>NaN</td>\n",
       "      <td>NaN</td>\n",
       "      <td>6.87441</td>\n",
       "      <td>79.8615</td>\n",
       "      <td>6.84478</td>\n",
       "      <td>79.9290</td>\n",
       "      <td>358.39</td>\n",
       "      <td>1</td>\n",
       "      <td>1</td>\n",
       "      <td>0</td>\n",
       "      <td>3</td>\n",
       "      <td>5</td>\n",
       "      <td>0</td>\n",
       "      <td>5.062797</td>\n",
       "    </tr>\n",
       "    <tr>\n",
       "      <th>...</th>\n",
       "      <td>...</td>\n",
       "      <td>...</td>\n",
       "      <td>...</td>\n",
       "      <td>...</td>\n",
       "      <td>...</td>\n",
       "      <td>...</td>\n",
       "      <td>...</td>\n",
       "      <td>...</td>\n",
       "      <td>...</td>\n",
       "      <td>...</td>\n",
       "      <td>...</td>\n",
       "      <td>...</td>\n",
       "      <td>...</td>\n",
       "      <td>...</td>\n",
       "      <td>...</td>\n",
       "      <td>...</td>\n",
       "      <td>...</td>\n",
       "    </tr>\n",
       "    <tr>\n",
       "      <th>17171</th>\n",
       "      <td>10.5</td>\n",
       "      <td>838.0</td>\n",
       "      <td>93.0</td>\n",
       "      <td>5.4219</td>\n",
       "      <td>451.0</td>\n",
       "      <td>7.29073</td>\n",
       "      <td>80.6367</td>\n",
       "      <td>7.28891</td>\n",
       "      <td>80.6557</td>\n",
       "      <td>198.26</td>\n",
       "      <td>0</td>\n",
       "      <td>0</td>\n",
       "      <td>0</td>\n",
       "      <td>22</td>\n",
       "      <td>5</td>\n",
       "      <td>0</td>\n",
       "      <td>1.308220</td>\n",
       "    </tr>\n",
       "    <tr>\n",
       "      <th>17172</th>\n",
       "      <td>10.5</td>\n",
       "      <td>2151.0</td>\n",
       "      <td>428.0</td>\n",
       "      <td>0.0000</td>\n",
       "      <td>39.0</td>\n",
       "      <td>6.90569</td>\n",
       "      <td>79.8516</td>\n",
       "      <td>6.95089</td>\n",
       "      <td>79.9389</td>\n",
       "      <td>581.23</td>\n",
       "      <td>0</td>\n",
       "      <td>0</td>\n",
       "      <td>0</td>\n",
       "      <td>23</td>\n",
       "      <td>5</td>\n",
       "      <td>0</td>\n",
       "      <td>6.753297</td>\n",
       "    </tr>\n",
       "    <tr>\n",
       "      <th>17173</th>\n",
       "      <td>10.5</td>\n",
       "      <td>263.0</td>\n",
       "      <td>9.0</td>\n",
       "      <td>0.0000</td>\n",
       "      <td>110.0</td>\n",
       "      <td>7.09210</td>\n",
       "      <td>79.9000</td>\n",
       "      <td>7.10135</td>\n",
       "      <td>79.9017</td>\n",
       "      <td>76.20</td>\n",
       "      <td>0</td>\n",
       "      <td>0</td>\n",
       "      <td>0</td>\n",
       "      <td>23</td>\n",
       "      <td>5</td>\n",
       "      <td>0</td>\n",
       "      <td>0.649655</td>\n",
       "    </tr>\n",
       "    <tr>\n",
       "      <th>17174</th>\n",
       "      <td>10.5</td>\n",
       "      <td>858.0</td>\n",
       "      <td>115.0</td>\n",
       "      <td>0.0000</td>\n",
       "      <td>317.0</td>\n",
       "      <td>6.94540</td>\n",
       "      <td>79.8768</td>\n",
       "      <td>6.93574</td>\n",
       "      <td>79.9010</td>\n",
       "      <td>133.31</td>\n",
       "      <td>0</td>\n",
       "      <td>0</td>\n",
       "      <td>0</td>\n",
       "      <td>23</td>\n",
       "      <td>5</td>\n",
       "      <td>0</td>\n",
       "      <td>1.788975</td>\n",
       "    </tr>\n",
       "    <tr>\n",
       "      <th>17175</th>\n",
       "      <td>10.5</td>\n",
       "      <td>262.0</td>\n",
       "      <td>21.0</td>\n",
       "      <td>1.2243</td>\n",
       "      <td>23.0</td>\n",
       "      <td>6.90257</td>\n",
       "      <td>79.9557</td>\n",
       "      <td>6.90823</td>\n",
       "      <td>79.9374</td>\n",
       "      <td>98.57</td>\n",
       "      <td>0</td>\n",
       "      <td>0</td>\n",
       "      <td>0</td>\n",
       "      <td>23</td>\n",
       "      <td>5</td>\n",
       "      <td>0</td>\n",
       "      <td>1.314744</td>\n",
       "    </tr>\n",
       "  </tbody>\n",
       "</table>\n",
       "<p>17176 rows × 17 columns</p>\n",
       "</div>"
      ],
      "text/plain": [
       "       additional_fare  duration  meter_waiting  meter_waiting_fare  \\\n",
       "0                 10.5     834.0           56.0              0.0000   \n",
       "1                 10.5     791.0           47.0              0.0000   \n",
       "2                 10.5    1087.0           80.0              0.0000   \n",
       "3                 10.5     598.0          271.0             15.6638   \n",
       "4                  NaN       NaN            NaN                 NaN   \n",
       "...                ...       ...            ...                 ...   \n",
       "17171             10.5     838.0           93.0              5.4219   \n",
       "17172             10.5    2151.0          428.0              0.0000   \n",
       "17173             10.5     263.0            9.0              0.0000   \n",
       "17174             10.5     858.0          115.0              0.0000   \n",
       "17175             10.5     262.0           21.0              1.2243   \n",
       "\n",
       "       meter_waiting_till_pickup  pick_lat  pick_lon  drop_lat  drop_lon  \\\n",
       "0                           64.0   6.86252   79.8993   6.90330   79.8783   \n",
       "1                          134.0   6.88589   79.8984   6.91373   79.8923   \n",
       "2                           61.0   6.90839   79.8651   6.93669   79.9146   \n",
       "3                           68.0   6.92570   79.8895   6.92748   79.8971   \n",
       "4                            NaN   6.87441   79.8615   6.84478   79.9290   \n",
       "...                          ...       ...       ...       ...       ...   \n",
       "17171                      451.0   7.29073   80.6367   7.28891   80.6557   \n",
       "17172                       39.0   6.90569   79.8516   6.95089   79.9389   \n",
       "17173                      110.0   7.09210   79.9000   7.10135   79.9017   \n",
       "17174                      317.0   6.94540   79.8768   6.93574   79.9010   \n",
       "17175                       23.0   6.90257   79.9557   6.90823   79.9374   \n",
       "\n",
       "         fare  additional_fare_is_outlier  meter_waiting_fare_is_outlier  \\\n",
       "0      270.32                           0                              0   \n",
       "1      197.85                           0                              0   \n",
       "2      301.64                           0                              0   \n",
       "3       82.30                           0                              0   \n",
       "4      358.39                           1                              1   \n",
       "...       ...                         ...                            ...   \n",
       "17171  198.26                           0                              0   \n",
       "17172  581.23                           0                              0   \n",
       "17173   76.20                           0                              0   \n",
       "17174  133.31                           0                              0   \n",
       "17175   98.57                           0                              0   \n",
       "\n",
       "       fare_is_outlier  pickup_hour  pickup_day_of_week  is_outlier_loc  \\\n",
       "0                    0            0                   5               0   \n",
       "1                    0            0                   5               0   \n",
       "2                    0            1                   5               0   \n",
       "3                    0            2                   5               0   \n",
       "4                    0            3                   5               0   \n",
       "...                ...          ...                 ...             ...   \n",
       "17171                0           22                   5               0   \n",
       "17172                0           23                   5               0   \n",
       "17173                0           23                   5               0   \n",
       "17174                0           23                   5               0   \n",
       "17175                0           23                   5               0   \n",
       "\n",
       "       trip_distance  \n",
       "0           3.164501  \n",
       "1           1.968540  \n",
       "2           3.917991  \n",
       "3           0.535588  \n",
       "4           5.062797  \n",
       "...              ...  \n",
       "17171       1.308220  \n",
       "17172       6.753297  \n",
       "17173       0.649655  \n",
       "17174       1.788975  \n",
       "17175       1.314744  \n",
       "\n",
       "[17176 rows x 17 columns]"
      ]
     },
     "execution_count": 226,
     "metadata": {},
     "output_type": "execute_result"
    }
   ],
   "source": [
    "X"
   ]
  },
  {
   "cell_type": "code",
   "execution_count": 227,
   "metadata": {
    "colab": {},
    "colab_type": "code",
    "id": "lG85vZKE1w8N"
   },
   "outputs": [],
   "source": [
    "# #We can choose to drop the last 6 features from in our new model to reduce dimensionality, and thus save training time and space\n",
    "\n",
    "# X = X_train.drop(['additional_fare','pickup_day_of_week','pickup_month','pickup_day'], axis=1)"
   ]
  },
  {
   "cell_type": "markdown",
   "metadata": {
    "colab_type": "text",
    "id": "sgb-q7VPqMRg"
   },
   "source": [
    "## CatBoost"
   ]
  },
  {
   "cell_type": "code",
   "execution_count": 228,
   "metadata": {
    "colab": {
     "base_uri": "https://localhost:8080/",
     "height": 275
    },
    "colab_type": "code",
    "executionInfo": {
     "elapsed": 6083,
     "status": "ok",
     "timestamp": 1590261528651,
     "user": {
      "displayName": "Lahiru Senevirathne",
      "photoUrl": "https://lh3.googleusercontent.com/a-/AOh14GiRzF3KfxeuLmDoDB90oNXQ5_ivLn8-Ar4kecdc=s64",
      "userId": "12627549003426465017"
     },
     "user_tz": -330
    },
    "id": "1104kWTYqLyr",
    "outputId": "dcce01fc-143c-446a-9001-62b9f8b946fc"
   },
   "outputs": [],
   "source": [
    "# !pip install catboost"
   ]
  },
  {
   "cell_type": "code",
   "execution_count": 229,
   "metadata": {
    "colab": {
     "base_uri": "https://localhost:8080/",
     "height": 34
    },
    "colab_type": "code",
    "executionInfo": {
     "elapsed": 520188,
     "status": "ok",
     "timestamp": 1590264282459,
     "user": {
      "displayName": "Lahiru Senevirathne",
      "photoUrl": "https://lh3.googleusercontent.com/a-/AOh14GiRzF3KfxeuLmDoDB90oNXQ5_ivLn8-Ar4kecdc=s64",
      "userId": "12627549003426465017"
     },
     "user_tz": -330
    },
    "id": "ZjU4-lsvqTBh",
    "outputId": "b44f59a6-ac76-40c2-8c0e-39b437d8477d"
   },
   "outputs": [],
   "source": [
    "from catboost import CatBoostClassifier\n",
    "\n",
    "model = CatBoostClassifier(iterations=100000, \n",
    "                           cat_features=categorical_var_indices, \n",
    "#                            task_type=\"GPU\",\n",
    "                           devices='0:1',\n",
    "                           nan_mode='Max')\n"
   ]
  },
  {
   "cell_type": "code",
   "execution_count": 230,
   "metadata": {},
   "outputs": [
    {
     "name": "stdout",
     "output_type": "stream",
     "text": [
      "0:\tlearn: 0.3707790\ttotal: 41.7ms\tremaining: 3.13s\n",
      "1:\tlearn: 0.2660633\ttotal: 83.6ms\tremaining: 3.09s\n",
      "2:\tlearn: 0.2291891\ttotal: 120ms\tremaining: 2.91s\n",
      "3:\tlearn: 0.2033619\ttotal: 160ms\tremaining: 2.88s\n",
      "4:\tlearn: 0.1977943\ttotal: 223ms\tremaining: 3.16s\n",
      "5:\tlearn: 0.1838956\ttotal: 262ms\tremaining: 3.06s\n",
      "6:\tlearn: 0.1781304\ttotal: 295ms\tremaining: 2.91s\n",
      "7:\tlearn: 0.1697633\ttotal: 323ms\tremaining: 2.74s\n",
      "8:\tlearn: 0.1685846\ttotal: 357ms\tremaining: 2.66s\n",
      "9:\tlearn: 0.1666336\ttotal: 383ms\tremaining: 2.53s\n",
      "10:\tlearn: 0.1629910\ttotal: 417ms\tremaining: 2.46s\n",
      "11:\tlearn: 0.1608094\ttotal: 447ms\tremaining: 2.38s\n",
      "12:\tlearn: 0.1589404\ttotal: 487ms\tremaining: 2.36s\n",
      "13:\tlearn: 0.1579852\ttotal: 524ms\tremaining: 2.32s\n",
      "14:\tlearn: 0.1539295\ttotal: 559ms\tremaining: 2.27s\n",
      "15:\tlearn: 0.1518957\ttotal: 590ms\tremaining: 2.21s\n",
      "16:\tlearn: 0.1507544\ttotal: 631ms\tremaining: 2.19s\n",
      "17:\tlearn: 0.1489644\ttotal: 665ms\tremaining: 2.14s\n",
      "18:\tlearn: 0.1456915\ttotal: 694ms\tremaining: 2.08s\n",
      "19:\tlearn: 0.1444168\ttotal: 723ms\tremaining: 2.02s\n",
      "20:\tlearn: 0.1437525\ttotal: 753ms\tremaining: 1.97s\n",
      "21:\tlearn: 0.1429524\ttotal: 788ms\tremaining: 1.93s\n",
      "22:\tlearn: 0.1423730\ttotal: 811ms\tremaining: 1.87s\n",
      "23:\tlearn: 0.1405528\ttotal: 841ms\tremaining: 1.82s\n",
      "24:\tlearn: 0.1401408\ttotal: 871ms\tremaining: 1.78s\n",
      "25:\tlearn: 0.1392575\ttotal: 900ms\tremaining: 1.73s\n",
      "26:\tlearn: 0.1378256\ttotal: 921ms\tremaining: 1.67s\n",
      "27:\tlearn: 0.1372653\ttotal: 965ms\tremaining: 1.65s\n",
      "28:\tlearn: 0.1364768\ttotal: 1s\tremaining: 1.62s\n",
      "29:\tlearn: 0.1358634\ttotal: 1.02s\tremaining: 1.56s\n",
      "30:\tlearn: 0.1335165\ttotal: 1.04s\tremaining: 1.51s\n",
      "31:\tlearn: 0.1324943\ttotal: 1.06s\tremaining: 1.46s\n",
      "32:\tlearn: 0.1319324\ttotal: 1.09s\tremaining: 1.42s\n",
      "33:\tlearn: 0.1311971\ttotal: 1.11s\tremaining: 1.38s\n",
      "34:\tlearn: 0.1305273\ttotal: 1.15s\tremaining: 1.34s\n",
      "35:\tlearn: 0.1296286\ttotal: 1.18s\tremaining: 1.31s\n",
      "36:\tlearn: 0.1288696\ttotal: 1.2s\tremaining: 1.26s\n",
      "37:\tlearn: 0.1280281\ttotal: 1.22s\tremaining: 1.22s\n",
      "38:\tlearn: 0.1277641\ttotal: 1.24s\tremaining: 1.18s\n",
      "39:\tlearn: 0.1275307\ttotal: 1.26s\tremaining: 1.14s\n",
      "40:\tlearn: 0.1269071\ttotal: 1.29s\tremaining: 1.1s\n",
      "41:\tlearn: 0.1268504\ttotal: 1.31s\tremaining: 1.06s\n",
      "42:\tlearn: 0.1261453\ttotal: 1.33s\tremaining: 1.02s\n",
      "43:\tlearn: 0.1255151\ttotal: 1.35s\tremaining: 984ms\n",
      "44:\tlearn: 0.1254460\ttotal: 1.38s\tremaining: 948ms\n",
      "45:\tlearn: 0.1253451\ttotal: 1.42s\tremaining: 924ms\n",
      "46:\tlearn: 0.1240244\ttotal: 1.44s\tremaining: 889ms\n",
      "47:\tlearn: 0.1228906\ttotal: 1.48s\tremaining: 863ms\n",
      "48:\tlearn: 0.1224205\ttotal: 1.52s\tremaining: 838ms\n",
      "49:\tlearn: 0.1212562\ttotal: 1.56s\tremaining: 810ms\n",
      "50:\tlearn: 0.1207187\ttotal: 1.6s\tremaining: 785ms\n",
      "51:\tlearn: 0.1202049\ttotal: 1.64s\tremaining: 759ms\n",
      "52:\tlearn: 0.1200978\ttotal: 1.69s\tremaining: 735ms\n",
      "53:\tlearn: 0.1199451\ttotal: 1.73s\tremaining: 704ms\n",
      "54:\tlearn: 0.1194942\ttotal: 1.77s\tremaining: 678ms\n",
      "55:\tlearn: 0.1193686\ttotal: 1.8s\tremaining: 644ms\n",
      "56:\tlearn: 0.1185505\ttotal: 1.85s\tremaining: 616ms\n",
      "57:\tlearn: 0.1184877\ttotal: 1.88s\tremaining: 585ms\n",
      "58:\tlearn: 0.1177109\ttotal: 1.92s\tremaining: 553ms\n",
      "59:\tlearn: 0.1169531\ttotal: 1.97s\tremaining: 524ms\n",
      "60:\tlearn: 0.1167658\ttotal: 2s\tremaining: 491ms\n",
      "61:\tlearn: 0.1164059\ttotal: 2.03s\tremaining: 459ms\n",
      "62:\tlearn: 0.1160658\ttotal: 2.08s\tremaining: 428ms\n",
      "63:\tlearn: 0.1159623\ttotal: 2.1s\tremaining: 395ms\n",
      "64:\tlearn: 0.1159012\ttotal: 2.12s\tremaining: 360ms\n",
      "65:\tlearn: 0.1146630\ttotal: 2.16s\tremaining: 327ms\n",
      "66:\tlearn: 0.1142925\ttotal: 2.2s\tremaining: 295ms\n",
      "67:\tlearn: 0.1138432\ttotal: 2.22s\tremaining: 261ms\n",
      "68:\tlearn: 0.1131998\ttotal: 2.24s\tremaining: 227ms\n",
      "69:\tlearn: 0.1128790\ttotal: 2.27s\tremaining: 195ms\n",
      "70:\tlearn: 0.1125718\ttotal: 2.29s\tremaining: 162ms\n",
      "71:\tlearn: 0.1121749\ttotal: 2.32s\tremaining: 129ms\n",
      "72:\tlearn: 0.1119062\ttotal: 2.34s\tremaining: 96.2ms\n",
      "73:\tlearn: 0.1111008\ttotal: 2.36s\tremaining: 63.9ms\n",
      "74:\tlearn: 0.1106492\ttotal: 2.4s\tremaining: 32ms\n",
      "75:\tlearn: 0.1099792\ttotal: 2.44s\tremaining: 0us\n",
      "\n",
      "========================================================\n",
      " Results from Random Search \n",
      "========================================================\n",
      "\n",
      " The best estimator across ALL searched params:\n",
      " <catboost.core.CatBoostClassifier object at 0x7f7b28581690>\n",
      "\n",
      " The best score across ALL searched params:\n",
      " 0.9451560316721006\n",
      "\n",
      " The best parameters across ALL searched params:\n",
      " {'depth': 6, 'iterations': 76, 'learning_rate': 0.662816635685985}\n",
      "\n",
      " ========================================================\n"
     ]
    }
   ],
   "source": [
    "parameters = {'depth'         : sp_randInt(4, 10),\n",
    "              'learning_rate' : sp_randFloat(),\n",
    "              'iterations'    : sp_randInt(10, 100)\n",
    "             }\n",
    "\n",
    "randm = RandomizedSearchCV(estimator=model, param_distributions = parameters, \n",
    "                           cv = 2, n_iter = 10, n_jobs=-1)\n",
    "randm.fit(X, y)\n",
    "\n",
    "# Results from Random Search\n",
    "print(\"\\n========================================================\")\n",
    "print(\" Results from Random Search \" )\n",
    "print(\"========================================================\")    \n",
    "\n",
    "print(\"\\n The best estimator across ALL searched params:\\n\",\n",
    "      randm.best_estimator_)\n",
    "\n",
    "print(\"\\n The best score across ALL searched params:\\n\",\n",
    "      randm.best_score_)\n",
    "\n",
    "print(\"\\n The best parameters across ALL searched params:\\n\",\n",
    "      randm.best_params_)\n",
    "\n",
    "print(\"\\n ========================================================\")"
   ]
  },
  {
   "cell_type": "code",
   "execution_count": null,
   "metadata": {},
   "outputs": [
    {
     "name": "stdout",
     "output_type": "stream",
     "text": [
      "0:\tlearn: 0.2934459\ttotal: 102ms\tremaining: 1m 41s\n",
      "1:\tlearn: 0.2131698\ttotal: 210ms\tremaining: 1m 44s\n",
      "2:\tlearn: 0.1905339\ttotal: 326ms\tremaining: 1m 48s\n",
      "3:\tlearn: 0.1787792\ttotal: 405ms\tremaining: 1m 40s\n",
      "4:\tlearn: 0.1711662\ttotal: 534ms\tremaining: 1m 46s\n",
      "5:\tlearn: 0.1677077\ttotal: 608ms\tremaining: 1m 40s\n",
      "6:\tlearn: 0.1628536\ttotal: 721ms\tremaining: 1m 42s\n",
      "7:\tlearn: 0.1608065\ttotal: 832ms\tremaining: 1m 43s\n",
      "8:\tlearn: 0.1569959\ttotal: 910ms\tremaining: 1m 40s\n",
      "9:\tlearn: 0.1550892\ttotal: 980ms\tremaining: 1m 36s\n",
      "10:\tlearn: 0.1500749\ttotal: 1.06s\tremaining: 1m 34s\n",
      "11:\tlearn: 0.1481116\ttotal: 1.17s\tremaining: 1m 36s\n",
      "12:\tlearn: 0.1430015\ttotal: 1.28s\tremaining: 1m 37s\n",
      "13:\tlearn: 0.1419837\ttotal: 1.37s\tremaining: 1m 36s\n",
      "14:\tlearn: 0.1381682\ttotal: 1.47s\tremaining: 1m 36s\n",
      "15:\tlearn: 0.1358667\ttotal: 1.54s\tremaining: 1m 34s\n",
      "16:\tlearn: 0.1334321\ttotal: 1.61s\tremaining: 1m 33s\n",
      "17:\tlearn: 0.1316297\ttotal: 1.69s\tremaining: 1m 32s\n",
      "18:\tlearn: 0.1299542\ttotal: 1.76s\tremaining: 1m 30s\n",
      "19:\tlearn: 0.1279294\ttotal: 1.85s\tremaining: 1m 30s\n",
      "20:\tlearn: 0.1268012\ttotal: 1.91s\tremaining: 1m 29s\n",
      "21:\tlearn: 0.1257434\ttotal: 1.98s\tremaining: 1m 27s\n",
      "22:\tlearn: 0.1221907\ttotal: 2.07s\tremaining: 1m 28s\n",
      "23:\tlearn: 0.1202326\ttotal: 2.14s\tremaining: 1m 27s\n",
      "24:\tlearn: 0.1185947\ttotal: 2.23s\tremaining: 1m 27s\n",
      "25:\tlearn: 0.1167023\ttotal: 2.31s\tremaining: 1m 26s\n",
      "26:\tlearn: 0.1157623\ttotal: 2.41s\tremaining: 1m 26s\n",
      "27:\tlearn: 0.1148319\ttotal: 2.5s\tremaining: 1m 26s\n",
      "28:\tlearn: 0.1133841\ttotal: 2.6s\tremaining: 1m 26s\n",
      "29:\tlearn: 0.1115125\ttotal: 2.69s\tremaining: 1m 27s\n",
      "30:\tlearn: 0.1109272\ttotal: 2.78s\tremaining: 1m 27s\n",
      "31:\tlearn: 0.1092078\ttotal: 2.9s\tremaining: 1m 27s\n",
      "32:\tlearn: 0.1072597\ttotal: 2.99s\tremaining: 1m 27s\n",
      "33:\tlearn: 0.1061622\ttotal: 3.07s\tremaining: 1m 27s\n",
      "34:\tlearn: 0.1056314\ttotal: 3.14s\tremaining: 1m 26s\n",
      "35:\tlearn: 0.1054646\ttotal: 3.23s\tremaining: 1m 26s\n",
      "36:\tlearn: 0.1049111\ttotal: 3.3s\tremaining: 1m 25s\n",
      "37:\tlearn: 0.1034602\ttotal: 3.38s\tremaining: 1m 25s\n",
      "38:\tlearn: 0.1025589\ttotal: 3.46s\tremaining: 1m 25s\n",
      "39:\tlearn: 0.1018025\ttotal: 3.54s\tremaining: 1m 25s\n",
      "40:\tlearn: 0.1000776\ttotal: 3.64s\tremaining: 1m 25s\n",
      "41:\tlearn: 0.0992489\ttotal: 3.75s\tremaining: 1m 25s\n",
      "42:\tlearn: 0.0983436\ttotal: 3.83s\tremaining: 1m 25s\n",
      "43:\tlearn: 0.0976355\ttotal: 3.93s\tremaining: 1m 25s\n",
      "44:\tlearn: 0.0967218\ttotal: 4s\tremaining: 1m 24s\n",
      "45:\tlearn: 0.0950287\ttotal: 4.06s\tremaining: 1m 24s\n",
      "46:\tlearn: 0.0938937\ttotal: 4.13s\tremaining: 1m 23s\n",
      "47:\tlearn: 0.0933017\ttotal: 4.17s\tremaining: 1m 22s\n",
      "48:\tlearn: 0.0924509\ttotal: 4.23s\tremaining: 1m 22s\n",
      "49:\tlearn: 0.0920936\ttotal: 4.32s\tremaining: 1m 22s\n",
      "50:\tlearn: 0.0913045\ttotal: 4.41s\tremaining: 1m 21s\n",
      "51:\tlearn: 0.0903051\ttotal: 4.49s\tremaining: 1m 21s\n",
      "52:\tlearn: 0.0896835\ttotal: 4.58s\tremaining: 1m 21s\n",
      "53:\tlearn: 0.0887754\ttotal: 4.68s\tremaining: 1m 21s\n",
      "54:\tlearn: 0.0884333\ttotal: 4.78s\tremaining: 1m 22s\n",
      "55:\tlearn: 0.0878987\ttotal: 4.87s\tremaining: 1m 22s\n",
      "56:\tlearn: 0.0871240\ttotal: 4.97s\tremaining: 1m 22s\n",
      "57:\tlearn: 0.0866358\ttotal: 5.06s\tremaining: 1m 22s\n",
      "58:\tlearn: 0.0858346\ttotal: 5.15s\tremaining: 1m 22s\n",
      "59:\tlearn: 0.0848282\ttotal: 5.26s\tremaining: 1m 22s\n",
      "60:\tlearn: 0.0846590\ttotal: 5.35s\tremaining: 1m 22s\n",
      "61:\tlearn: 0.0839674\ttotal: 5.45s\tremaining: 1m 22s\n",
      "62:\tlearn: 0.0832242\ttotal: 5.54s\tremaining: 1m 22s\n",
      "63:\tlearn: 0.0826399\ttotal: 5.64s\tremaining: 1m 22s\n",
      "64:\tlearn: 0.0818069\ttotal: 5.74s\tremaining: 1m 22s\n",
      "65:\tlearn: 0.0805512\ttotal: 5.81s\tremaining: 1m 22s\n",
      "66:\tlearn: 0.0799170\ttotal: 5.87s\tremaining: 1m 21s\n",
      "67:\tlearn: 0.0794099\ttotal: 5.96s\tremaining: 1m 21s\n",
      "68:\tlearn: 0.0791055\ttotal: 6.04s\tremaining: 1m 21s\n",
      "69:\tlearn: 0.0782327\ttotal: 6.13s\tremaining: 1m 21s\n",
      "70:\tlearn: 0.0775340\ttotal: 6.21s\tremaining: 1m 21s\n",
      "71:\tlearn: 0.0766685\ttotal: 6.33s\tremaining: 1m 21s\n",
      "72:\tlearn: 0.0758689\ttotal: 6.42s\tremaining: 1m 21s\n",
      "73:\tlearn: 0.0750206\ttotal: 6.49s\tremaining: 1m 21s\n",
      "74:\tlearn: 0.0748759\ttotal: 6.55s\tremaining: 1m 20s\n",
      "75:\tlearn: 0.0737676\ttotal: 6.59s\tremaining: 1m 20s\n",
      "76:\tlearn: 0.0732451\ttotal: 6.66s\tremaining: 1m 19s\n",
      "77:\tlearn: 0.0731490\ttotal: 6.71s\tremaining: 1m 19s\n",
      "78:\tlearn: 0.0725406\ttotal: 6.76s\tremaining: 1m 18s\n",
      "79:\tlearn: 0.0713254\ttotal: 6.84s\tremaining: 1m 18s\n",
      "80:\tlearn: 0.0705949\ttotal: 6.93s\tremaining: 1m 18s\n",
      "81:\tlearn: 0.0702127\ttotal: 7.05s\tremaining: 1m 18s\n",
      "82:\tlearn: 0.0701573\ttotal: 7.12s\tremaining: 1m 18s\n",
      "83:\tlearn: 0.0695197\ttotal: 7.18s\tremaining: 1m 18s\n",
      "84:\tlearn: 0.0691240\ttotal: 7.26s\tremaining: 1m 18s\n",
      "85:\tlearn: 0.0686492\ttotal: 7.33s\tremaining: 1m 17s\n",
      "86:\tlearn: 0.0681745\ttotal: 7.39s\tremaining: 1m 17s\n",
      "87:\tlearn: 0.0677253\ttotal: 7.46s\tremaining: 1m 17s\n",
      "88:\tlearn: 0.0668204\ttotal: 7.52s\tremaining: 1m 17s\n",
      "89:\tlearn: 0.0663525\ttotal: 7.62s\tremaining: 1m 17s\n",
      "90:\tlearn: 0.0659352\ttotal: 7.71s\tremaining: 1m 17s\n",
      "91:\tlearn: 0.0656617\ttotal: 7.78s\tremaining: 1m 16s\n",
      "92:\tlearn: 0.0653867\ttotal: 7.85s\tremaining: 1m 16s\n",
      "93:\tlearn: 0.0648895\ttotal: 7.93s\tremaining: 1m 16s\n",
      "94:\tlearn: 0.0645624\ttotal: 8s\tremaining: 1m 16s\n",
      "95:\tlearn: 0.0639425\ttotal: 8.07s\tremaining: 1m 16s\n",
      "96:\tlearn: 0.0636411\ttotal: 8.15s\tremaining: 1m 15s\n",
      "97:\tlearn: 0.0631106\ttotal: 8.24s\tremaining: 1m 15s\n",
      "98:\tlearn: 0.0624425\ttotal: 8.3s\tremaining: 1m 15s\n",
      "99:\tlearn: 0.0619913\ttotal: 8.39s\tremaining: 1m 15s\n",
      "100:\tlearn: 0.0616987\ttotal: 8.46s\tremaining: 1m 15s\n",
      "101:\tlearn: 0.0611341\ttotal: 8.53s\tremaining: 1m 15s\n",
      "102:\tlearn: 0.0608727\ttotal: 8.59s\tremaining: 1m 14s\n",
      "103:\tlearn: 0.0604386\ttotal: 8.67s\tremaining: 1m 14s\n",
      "104:\tlearn: 0.0601827\ttotal: 8.74s\tremaining: 1m 14s\n",
      "105:\tlearn: 0.0600886\ttotal: 8.82s\tremaining: 1m 14s\n",
      "106:\tlearn: 0.0598779\ttotal: 8.9s\tremaining: 1m 14s\n",
      "107:\tlearn: 0.0594889\ttotal: 8.99s\tremaining: 1m 14s\n",
      "108:\tlearn: 0.0588889\ttotal: 9.08s\tremaining: 1m 14s\n",
      "109:\tlearn: 0.0587785\ttotal: 9.17s\tremaining: 1m 14s\n",
      "110:\tlearn: 0.0587016\ttotal: 9.28s\tremaining: 1m 14s\n",
      "111:\tlearn: 0.0578885\ttotal: 9.37s\tremaining: 1m 14s\n",
      "112:\tlearn: 0.0569160\ttotal: 9.45s\tremaining: 1m 14s\n",
      "113:\tlearn: 0.0565898\ttotal: 9.54s\tremaining: 1m 14s\n",
      "114:\tlearn: 0.0556791\ttotal: 9.64s\tremaining: 1m 14s\n",
      "115:\tlearn: 0.0550942\ttotal: 9.74s\tremaining: 1m 14s\n",
      "116:\tlearn: 0.0542346\ttotal: 9.84s\tremaining: 1m 14s\n",
      "117:\tlearn: 0.0534796\ttotal: 9.94s\tremaining: 1m 14s\n",
      "118:\tlearn: 0.0530092\ttotal: 10s\tremaining: 1m 14s\n",
      "119:\tlearn: 0.0526436\ttotal: 10.1s\tremaining: 1m 14s\n",
      "120:\tlearn: 0.0516813\ttotal: 10.2s\tremaining: 1m 14s\n",
      "121:\tlearn: 0.0511692\ttotal: 10.3s\tremaining: 1m 14s\n",
      "122:\tlearn: 0.0509554\ttotal: 10.4s\tremaining: 1m 13s\n",
      "123:\tlearn: 0.0506457\ttotal: 10.4s\tremaining: 1m 13s\n",
      "124:\tlearn: 0.0500086\ttotal: 10.5s\tremaining: 1m 13s\n",
      "125:\tlearn: 0.0488900\ttotal: 10.6s\tremaining: 1m 13s\n",
      "126:\tlearn: 0.0484562\ttotal: 10.6s\tremaining: 1m 13s\n",
      "127:\tlearn: 0.0482193\ttotal: 10.7s\tremaining: 1m 12s\n",
      "128:\tlearn: 0.0479550\ttotal: 10.8s\tremaining: 1m 12s\n",
      "129:\tlearn: 0.0475660\ttotal: 10.8s\tremaining: 1m 12s\n",
      "130:\tlearn: 0.0473044\ttotal: 10.9s\tremaining: 1m 12s\n",
      "131:\tlearn: 0.0467800\ttotal: 11s\tremaining: 1m 12s\n",
      "132:\tlearn: 0.0462780\ttotal: 11s\tremaining: 1m 11s\n",
      "133:\tlearn: 0.0460702\ttotal: 11.1s\tremaining: 1m 11s\n",
      "134:\tlearn: 0.0458976\ttotal: 11.1s\tremaining: 1m 11s\n",
      "135:\tlearn: 0.0456600\ttotal: 11.2s\tremaining: 1m 11s\n",
      "136:\tlearn: 0.0451311\ttotal: 11.3s\tremaining: 1m 11s\n",
      "137:\tlearn: 0.0446648\ttotal: 11.4s\tremaining: 1m 10s\n",
      "138:\tlearn: 0.0441521\ttotal: 11.5s\tremaining: 1m 10s\n",
      "139:\tlearn: 0.0440109\ttotal: 11.6s\tremaining: 1m 11s\n",
      "140:\tlearn: 0.0438473\ttotal: 11.7s\tremaining: 1m 11s\n",
      "141:\tlearn: 0.0429828\ttotal: 11.8s\tremaining: 1m 11s\n",
      "142:\tlearn: 0.0428278\ttotal: 11.9s\tremaining: 1m 11s\n",
      "143:\tlearn: 0.0425478\ttotal: 11.9s\tremaining: 1m 10s\n",
      "144:\tlearn: 0.0421689\ttotal: 12s\tremaining: 1m 10s\n",
      "145:\tlearn: 0.0418771\ttotal: 12.1s\tremaining: 1m 10s\n",
      "146:\tlearn: 0.0415981\ttotal: 12.1s\tremaining: 1m 10s\n",
      "147:\tlearn: 0.0408385\ttotal: 12.2s\tremaining: 1m 10s\n",
      "148:\tlearn: 0.0406191\ttotal: 12.3s\tremaining: 1m 10s\n",
      "149:\tlearn: 0.0401226\ttotal: 12.4s\tremaining: 1m 10s\n",
      "150:\tlearn: 0.0399101\ttotal: 12.5s\tremaining: 1m 10s\n",
      "151:\tlearn: 0.0392421\ttotal: 12.6s\tremaining: 1m 10s\n",
      "152:\tlearn: 0.0387708\ttotal: 12.6s\tremaining: 1m 9s\n",
      "153:\tlearn: 0.0384869\ttotal: 12.7s\tremaining: 1m 9s\n",
      "154:\tlearn: 0.0382692\ttotal: 12.8s\tremaining: 1m 9s\n",
      "155:\tlearn: 0.0379990\ttotal: 12.9s\tremaining: 1m 9s\n",
      "156:\tlearn: 0.0377365\ttotal: 13s\tremaining: 1m 9s\n",
      "157:\tlearn: 0.0375223\ttotal: 13s\tremaining: 1m 9s\n",
      "158:\tlearn: 0.0370836\ttotal: 13.1s\tremaining: 1m 9s\n"
     ]
    },
    {
     "name": "stdout",
     "output_type": "stream",
     "text": [
      "159:\tlearn: 0.0367385\ttotal: 13.1s\tremaining: 1m 9s\n",
      "160:\tlearn: 0.0365299\ttotal: 13.2s\tremaining: 1m 8s\n",
      "161:\tlearn: 0.0363901\ttotal: 13.3s\tremaining: 1m 8s\n",
      "162:\tlearn: 0.0358051\ttotal: 13.4s\tremaining: 1m 8s\n",
      "163:\tlearn: 0.0352039\ttotal: 13.4s\tremaining: 1m 8s\n",
      "164:\tlearn: 0.0347641\ttotal: 13.5s\tremaining: 1m 8s\n",
      "165:\tlearn: 0.0342115\ttotal: 13.6s\tremaining: 1m 8s\n",
      "166:\tlearn: 0.0339319\ttotal: 13.6s\tremaining: 1m 7s\n",
      "167:\tlearn: 0.0337627\ttotal: 13.7s\tremaining: 1m 7s\n",
      "168:\tlearn: 0.0335824\ttotal: 13.7s\tremaining: 1m 7s\n",
      "169:\tlearn: 0.0331617\ttotal: 13.8s\tremaining: 1m 7s\n",
      "170:\tlearn: 0.0329686\ttotal: 13.9s\tremaining: 1m 7s\n",
      "171:\tlearn: 0.0328563\ttotal: 13.9s\tremaining: 1m 7s\n",
      "172:\tlearn: 0.0328542\ttotal: 14s\tremaining: 1m 6s\n",
      "173:\tlearn: 0.0326018\ttotal: 14s\tremaining: 1m 6s\n",
      "174:\tlearn: 0.0323910\ttotal: 14.1s\tremaining: 1m 6s\n",
      "175:\tlearn: 0.0320393\ttotal: 14.2s\tremaining: 1m 6s\n",
      "176:\tlearn: 0.0320136\ttotal: 14.2s\tremaining: 1m 6s\n",
      "177:\tlearn: 0.0318045\ttotal: 14.3s\tremaining: 1m 6s\n",
      "178:\tlearn: 0.0313710\ttotal: 14.4s\tremaining: 1m 5s\n",
      "179:\tlearn: 0.0308962\ttotal: 14.5s\tremaining: 1m 5s\n",
      "180:\tlearn: 0.0306495\ttotal: 14.5s\tremaining: 1m 5s\n",
      "181:\tlearn: 0.0305790\ttotal: 14.6s\tremaining: 1m 5s\n",
      "182:\tlearn: 0.0304674\ttotal: 14.6s\tremaining: 1m 5s\n",
      "183:\tlearn: 0.0301236\ttotal: 14.7s\tremaining: 1m 5s\n",
      "184:\tlearn: 0.0299807\ttotal: 14.8s\tremaining: 1m 5s\n",
      "185:\tlearn: 0.0297705\ttotal: 14.9s\tremaining: 1m 5s\n",
      "186:\tlearn: 0.0294574\ttotal: 15s\tremaining: 1m 5s\n",
      "187:\tlearn: 0.0292020\ttotal: 15.1s\tremaining: 1m 5s\n",
      "188:\tlearn: 0.0289004\ttotal: 15.2s\tremaining: 1m 5s\n",
      "189:\tlearn: 0.0288398\ttotal: 15.3s\tremaining: 1m 5s\n",
      "190:\tlearn: 0.0286208\ttotal: 15.4s\tremaining: 1m 5s\n",
      "191:\tlearn: 0.0282958\ttotal: 15.5s\tremaining: 1m 5s\n",
      "192:\tlearn: 0.0280848\ttotal: 15.6s\tremaining: 1m 5s\n",
      "193:\tlearn: 0.0278945\ttotal: 15.7s\tremaining: 1m 5s\n",
      "194:\tlearn: 0.0275831\ttotal: 15.8s\tremaining: 1m 5s\n",
      "195:\tlearn: 0.0273814\ttotal: 15.9s\tremaining: 1m 5s\n",
      "196:\tlearn: 0.0272378\ttotal: 15.9s\tremaining: 1m 4s\n",
      "197:\tlearn: 0.0271458\ttotal: 16s\tremaining: 1m 4s\n",
      "198:\tlearn: 0.0267704\ttotal: 16.1s\tremaining: 1m 4s\n",
      "199:\tlearn: 0.0267701\ttotal: 16.1s\tremaining: 1m 4s\n",
      "200:\tlearn: 0.0265900\ttotal: 16.2s\tremaining: 1m 4s\n",
      "201:\tlearn: 0.0262767\ttotal: 16.2s\tremaining: 1m 4s\n",
      "202:\tlearn: 0.0260455\ttotal: 16.3s\tremaining: 1m 4s\n",
      "203:\tlearn: 0.0259077\ttotal: 16.4s\tremaining: 1m 3s\n",
      "204:\tlearn: 0.0258789\ttotal: 16.4s\tremaining: 1m 3s\n",
      "205:\tlearn: 0.0256046\ttotal: 16.5s\tremaining: 1m 3s\n",
      "206:\tlearn: 0.0252037\ttotal: 16.6s\tremaining: 1m 3s\n",
      "207:\tlearn: 0.0250157\ttotal: 16.6s\tremaining: 1m 3s\n",
      "208:\tlearn: 0.0248338\ttotal: 16.7s\tremaining: 1m 3s\n",
      "209:\tlearn: 0.0246502\ttotal: 16.8s\tremaining: 1m 3s\n",
      "210:\tlearn: 0.0243923\ttotal: 16.9s\tremaining: 1m 3s\n",
      "211:\tlearn: 0.0243880\ttotal: 16.9s\tremaining: 1m 2s\n",
      "212:\tlearn: 0.0241676\ttotal: 17s\tremaining: 1m 2s\n",
      "213:\tlearn: 0.0239838\ttotal: 17.1s\tremaining: 1m 2s\n",
      "214:\tlearn: 0.0239836\ttotal: 17.1s\tremaining: 1m 2s\n",
      "215:\tlearn: 0.0239563\ttotal: 17.1s\tremaining: 1m 2s\n",
      "216:\tlearn: 0.0237699\ttotal: 17.2s\tremaining: 1m 2s\n",
      "217:\tlearn: 0.0235471\ttotal: 17.3s\tremaining: 1m 2s\n",
      "218:\tlearn: 0.0233337\ttotal: 17.4s\tremaining: 1m 2s\n",
      "219:\tlearn: 0.0230422\ttotal: 17.5s\tremaining: 1m 1s\n",
      "220:\tlearn: 0.0228357\ttotal: 17.6s\tremaining: 1m 1s\n",
      "221:\tlearn: 0.0225958\ttotal: 17.6s\tremaining: 1m 1s\n",
      "222:\tlearn: 0.0223215\ttotal: 17.7s\tremaining: 1m 1s\n",
      "223:\tlearn: 0.0223209\ttotal: 17.8s\tremaining: 1m 1s\n",
      "224:\tlearn: 0.0221320\ttotal: 18s\tremaining: 1m 1s\n",
      "225:\tlearn: 0.0218598\ttotal: 18.1s\tremaining: 1m 1s\n",
      "226:\tlearn: 0.0217524\ttotal: 18.1s\tremaining: 1m 1s\n",
      "227:\tlearn: 0.0216955\ttotal: 18.2s\tremaining: 1m 1s\n",
      "228:\tlearn: 0.0216035\ttotal: 18.3s\tremaining: 1m 1s\n",
      "229:\tlearn: 0.0214609\ttotal: 18.4s\tremaining: 1m 1s\n",
      "230:\tlearn: 0.0211209\ttotal: 18.5s\tremaining: 1m 1s\n",
      "231:\tlearn: 0.0210077\ttotal: 18.6s\tremaining: 1m 1s\n",
      "232:\tlearn: 0.0208290\ttotal: 18.6s\tremaining: 1m 1s\n",
      "233:\tlearn: 0.0206589\ttotal: 18.7s\tremaining: 1m 1s\n",
      "234:\tlearn: 0.0205193\ttotal: 18.7s\tremaining: 1m\n",
      "235:\tlearn: 0.0203595\ttotal: 18.8s\tremaining: 1m\n",
      "236:\tlearn: 0.0202407\ttotal: 18.9s\tremaining: 1m\n",
      "237:\tlearn: 0.0199515\ttotal: 19s\tremaining: 1m\n",
      "238:\tlearn: 0.0196814\ttotal: 19.1s\tremaining: 1m\n",
      "239:\tlearn: 0.0194814\ttotal: 19.2s\tremaining: 1m\n",
      "240:\tlearn: 0.0194500\ttotal: 19.2s\tremaining: 1m\n",
      "241:\tlearn: 0.0193905\ttotal: 19.3s\tremaining: 1m\n",
      "242:\tlearn: 0.0191115\ttotal: 19.4s\tremaining: 1m\n",
      "243:\tlearn: 0.0191113\ttotal: 19.4s\tremaining: 1m\n",
      "244:\tlearn: 0.0191112\ttotal: 19.5s\tremaining: 1m\n",
      "245:\tlearn: 0.0191112\ttotal: 19.5s\tremaining: 59.8s\n",
      "246:\tlearn: 0.0189829\ttotal: 19.6s\tremaining: 59.8s\n",
      "247:\tlearn: 0.0188298\ttotal: 19.7s\tremaining: 59.8s\n",
      "248:\tlearn: 0.0187963\ttotal: 19.8s\tremaining: 59.6s\n",
      "249:\tlearn: 0.0185906\ttotal: 19.8s\tremaining: 59.5s\n",
      "250:\tlearn: 0.0184679\ttotal: 20s\tremaining: 59.5s\n",
      "251:\tlearn: 0.0184666\ttotal: 20s\tremaining: 59.4s\n",
      "252:\tlearn: 0.0184526\ttotal: 20.1s\tremaining: 59.3s\n",
      "253:\tlearn: 0.0184520\ttotal: 20.2s\tremaining: 59.2s\n",
      "254:\tlearn: 0.0184519\ttotal: 20.2s\tremaining: 59.1s\n",
      "255:\tlearn: 0.0184511\ttotal: 20.3s\tremaining: 59s\n",
      "256:\tlearn: 0.0183724\ttotal: 20.4s\tremaining: 59s\n",
      "257:\tlearn: 0.0183706\ttotal: 20.5s\tremaining: 58.8s\n",
      "258:\tlearn: 0.0182319\ttotal: 20.5s\tremaining: 58.7s\n",
      "259:\tlearn: 0.0180910\ttotal: 20.6s\tremaining: 58.7s\n",
      "260:\tlearn: 0.0179315\ttotal: 20.7s\tremaining: 58.7s\n",
      "261:\tlearn: 0.0179314\ttotal: 20.8s\tremaining: 58.5s\n",
      "262:\tlearn: 0.0177596\ttotal: 20.9s\tremaining: 58.5s\n",
      "263:\tlearn: 0.0177273\ttotal: 20.9s\tremaining: 58.4s\n",
      "264:\tlearn: 0.0176048\ttotal: 21s\tremaining: 58.2s\n",
      "265:\tlearn: 0.0176042\ttotal: 21.1s\tremaining: 58.1s\n",
      "266:\tlearn: 0.0176039\ttotal: 21.1s\tremaining: 58s\n",
      "267:\tlearn: 0.0176038\ttotal: 21.2s\tremaining: 57.9s\n",
      "268:\tlearn: 0.0176038\ttotal: 21.3s\tremaining: 57.8s\n",
      "269:\tlearn: 0.0175955\ttotal: 21.3s\tremaining: 57.6s\n",
      "270:\tlearn: 0.0175955\ttotal: 21.4s\tremaining: 57.5s\n",
      "271:\tlearn: 0.0175954\ttotal: 21.4s\tremaining: 57.4s\n",
      "272:\tlearn: 0.0175947\ttotal: 21.5s\tremaining: 57.3s\n",
      "273:\tlearn: 0.0174741\ttotal: 21.6s\tremaining: 57.3s\n",
      "274:\tlearn: 0.0174083\ttotal: 21.7s\tremaining: 57.3s\n",
      "275:\tlearn: 0.0174080\ttotal: 21.8s\tremaining: 57.2s\n",
      "276:\tlearn: 0.0174077\ttotal: 21.9s\tremaining: 57.1s\n",
      "277:\tlearn: 0.0172832\ttotal: 22s\tremaining: 57.1s\n",
      "278:\tlearn: 0.0172830\ttotal: 22s\tremaining: 57s\n",
      "279:\tlearn: 0.0172821\ttotal: 22.1s\tremaining: 56.8s\n",
      "280:\tlearn: 0.0172092\ttotal: 22.2s\tremaining: 56.8s\n",
      "281:\tlearn: 0.0172092\ttotal: 22.2s\tremaining: 56.6s\n",
      "282:\tlearn: 0.0172082\ttotal: 22.3s\tremaining: 56.5s\n",
      "283:\tlearn: 0.0172080\ttotal: 22.4s\tremaining: 56.3s\n",
      "284:\tlearn: 0.0170915\ttotal: 22.4s\tremaining: 56.3s\n",
      "285:\tlearn: 0.0168235\ttotal: 22.6s\tremaining: 56.3s\n",
      "286:\tlearn: 0.0168234\ttotal: 22.6s\tremaining: 56.2s\n",
      "287:\tlearn: 0.0167796\ttotal: 22.7s\tremaining: 56.1s\n",
      "288:\tlearn: 0.0167789\ttotal: 22.8s\tremaining: 56.1s\n",
      "289:\tlearn: 0.0167787\ttotal: 22.9s\tremaining: 56s\n",
      "290:\tlearn: 0.0167032\ttotal: 23s\tremaining: 55.9s\n",
      "291:\tlearn: 0.0167032\ttotal: 23s\tremaining: 55.8s\n",
      "292:\tlearn: 0.0167031\ttotal: 23.1s\tremaining: 55.7s\n",
      "293:\tlearn: 0.0164907\ttotal: 23.1s\tremaining: 55.6s\n",
      "294:\tlearn: 0.0164167\ttotal: 23.2s\tremaining: 55.5s\n",
      "295:\tlearn: 0.0162703\ttotal: 23.3s\tremaining: 55.5s\n",
      "296:\tlearn: 0.0162697\ttotal: 23.4s\tremaining: 55.3s\n",
      "297:\tlearn: 0.0162135\ttotal: 23.4s\tremaining: 55.2s\n",
      "298:\tlearn: 0.0161518\ttotal: 23.5s\tremaining: 55.1s\n",
      "299:\tlearn: 0.0161514\ttotal: 23.6s\tremaining: 55s\n",
      "300:\tlearn: 0.0159487\ttotal: 23.7s\tremaining: 54.9s\n",
      "301:\tlearn: 0.0159483\ttotal: 23.7s\tremaining: 54.8s\n",
      "302:\tlearn: 0.0159482\ttotal: 23.8s\tremaining: 54.7s\n",
      "303:\tlearn: 0.0159482\ttotal: 23.9s\tremaining: 54.7s\n",
      "304:\tlearn: 0.0159477\ttotal: 24s\tremaining: 54.6s\n",
      "305:\tlearn: 0.0159458\ttotal: 24s\tremaining: 54.5s\n",
      "306:\tlearn: 0.0159456\ttotal: 24.1s\tremaining: 54.4s\n",
      "307:\tlearn: 0.0159452\ttotal: 24.1s\tremaining: 54.2s\n",
      "308:\tlearn: 0.0159451\ttotal: 24.2s\tremaining: 54.1s\n",
      "309:\tlearn: 0.0159451\ttotal: 24.3s\tremaining: 54s\n",
      "310:\tlearn: 0.0159449\ttotal: 24.3s\tremaining: 53.9s\n",
      "311:\tlearn: 0.0159449\ttotal: 24.4s\tremaining: 53.8s\n",
      "312:\tlearn: 0.0159447\ttotal: 24.4s\tremaining: 53.6s\n",
      "313:\tlearn: 0.0159444\ttotal: 24.5s\tremaining: 53.6s\n",
      "314:\tlearn: 0.0159443\ttotal: 24.6s\tremaining: 53.4s\n",
      "315:\tlearn: 0.0159436\ttotal: 24.6s\tremaining: 53.3s\n",
      "316:\tlearn: 0.0158685\ttotal: 24.7s\tremaining: 53.2s\n",
      "317:\tlearn: 0.0158684\ttotal: 24.8s\tremaining: 53.1s\n",
      "318:\tlearn: 0.0158681\ttotal: 24.8s\tremaining: 53s\n",
      "319:\tlearn: 0.0158675\ttotal: 24.9s\tremaining: 52.8s\n"
     ]
    },
    {
     "name": "stdout",
     "output_type": "stream",
     "text": [
      "320:\tlearn: 0.0157256\ttotal: 25s\tremaining: 52.8s\n",
      "321:\tlearn: 0.0157252\ttotal: 25s\tremaining: 52.7s\n",
      "322:\tlearn: 0.0157251\ttotal: 25.1s\tremaining: 52.6s\n",
      "323:\tlearn: 0.0157078\ttotal: 25.1s\tremaining: 52.5s\n",
      "324:\tlearn: 0.0155776\ttotal: 25.2s\tremaining: 52.4s\n",
      "325:\tlearn: 0.0155775\ttotal: 25.3s\tremaining: 52.2s\n",
      "326:\tlearn: 0.0155773\ttotal: 25.3s\tremaining: 52.1s\n",
      "327:\tlearn: 0.0155657\ttotal: 25.4s\tremaining: 52s\n",
      "328:\tlearn: 0.0155657\ttotal: 25.4s\tremaining: 51.8s\n",
      "329:\tlearn: 0.0155647\ttotal: 25.4s\tremaining: 51.7s\n",
      "330:\tlearn: 0.0155647\ttotal: 25.5s\tremaining: 51.5s\n",
      "331:\tlearn: 0.0155647\ttotal: 25.6s\tremaining: 51.4s\n",
      "332:\tlearn: 0.0155646\ttotal: 25.6s\tremaining: 51.3s\n",
      "333:\tlearn: 0.0155640\ttotal: 25.7s\tremaining: 51.2s\n",
      "334:\tlearn: 0.0155640\ttotal: 25.7s\tremaining: 51s\n",
      "335:\tlearn: 0.0155639\ttotal: 25.8s\tremaining: 50.9s\n",
      "336:\tlearn: 0.0155638\ttotal: 25.8s\tremaining: 50.8s\n",
      "337:\tlearn: 0.0155637\ttotal: 25.9s\tremaining: 50.7s\n",
      "338:\tlearn: 0.0155632\ttotal: 25.9s\tremaining: 50.6s\n",
      "339:\tlearn: 0.0155631\ttotal: 26s\tremaining: 50.5s\n",
      "340:\tlearn: 0.0154208\ttotal: 26.1s\tremaining: 50.5s\n",
      "341:\tlearn: 0.0154207\ttotal: 26.2s\tremaining: 50.4s\n",
      "342:\tlearn: 0.0154206\ttotal: 26.2s\tremaining: 50.2s\n",
      "343:\tlearn: 0.0154206\ttotal: 26.3s\tremaining: 50.1s\n",
      "344:\tlearn: 0.0154206\ttotal: 26.3s\tremaining: 49.9s\n",
      "345:\tlearn: 0.0154205\ttotal: 26.3s\tremaining: 49.8s\n",
      "346:\tlearn: 0.0154205\ttotal: 26.4s\tremaining: 49.6s\n",
      "347:\tlearn: 0.0153352\ttotal: 26.4s\tremaining: 49.5s\n",
      "348:\tlearn: 0.0153351\ttotal: 26.5s\tremaining: 49.4s\n",
      "349:\tlearn: 0.0153351\ttotal: 26.5s\tremaining: 49.2s\n",
      "350:\tlearn: 0.0153348\ttotal: 26.5s\tremaining: 49.1s\n",
      "351:\tlearn: 0.0153329\ttotal: 26.6s\tremaining: 48.9s\n",
      "352:\tlearn: 0.0153326\ttotal: 26.6s\tremaining: 48.8s\n",
      "353:\tlearn: 0.0152287\ttotal: 26.7s\tremaining: 48.8s\n",
      "354:\tlearn: 0.0152286\ttotal: 26.8s\tremaining: 48.7s\n",
      "355:\tlearn: 0.0152283\ttotal: 26.9s\tremaining: 48.6s\n",
      "356:\tlearn: 0.0152281\ttotal: 26.9s\tremaining: 48.4s\n",
      "357:\tlearn: 0.0152279\ttotal: 26.9s\tremaining: 48.3s\n",
      "358:\tlearn: 0.0152279\ttotal: 27s\tremaining: 48.2s\n",
      "359:\tlearn: 0.0152272\ttotal: 27s\tremaining: 48s\n",
      "360:\tlearn: 0.0152254\ttotal: 27.1s\tremaining: 47.9s\n",
      "361:\tlearn: 0.0152250\ttotal: 27.1s\tremaining: 47.8s\n",
      "362:\tlearn: 0.0152248\ttotal: 27.2s\tremaining: 47.7s\n",
      "363:\tlearn: 0.0152248\ttotal: 27.2s\tremaining: 47.6s\n",
      "364:\tlearn: 0.0152247\ttotal: 27.3s\tremaining: 47.5s\n",
      "365:\tlearn: 0.0152246\ttotal: 27.4s\tremaining: 47.4s\n",
      "366:\tlearn: 0.0149751\ttotal: 27.4s\tremaining: 47.3s\n",
      "367:\tlearn: 0.0149749\ttotal: 27.5s\tremaining: 47.2s\n",
      "368:\tlearn: 0.0149743\ttotal: 27.6s\tremaining: 47.1s\n",
      "369:\tlearn: 0.0149743\ttotal: 27.6s\tremaining: 47s\n",
      "370:\tlearn: 0.0149736\ttotal: 27.7s\tremaining: 46.9s\n",
      "371:\tlearn: 0.0148586\ttotal: 27.7s\tremaining: 46.8s\n",
      "372:\tlearn: 0.0148584\ttotal: 27.8s\tremaining: 46.7s\n",
      "373:\tlearn: 0.0148584\ttotal: 27.8s\tremaining: 46.6s\n",
      "374:\tlearn: 0.0148584\ttotal: 27.9s\tremaining: 46.5s\n",
      "375:\tlearn: 0.0148582\ttotal: 27.9s\tremaining: 46.3s\n",
      "376:\tlearn: 0.0148345\ttotal: 28s\tremaining: 46.2s\n",
      "377:\tlearn: 0.0148343\ttotal: 28s\tremaining: 46.1s\n",
      "378:\tlearn: 0.0148342\ttotal: 28.1s\tremaining: 46.1s\n",
      "379:\tlearn: 0.0148340\ttotal: 28.2s\tremaining: 46s\n",
      "380:\tlearn: 0.0148338\ttotal: 28.2s\tremaining: 45.9s\n",
      "381:\tlearn: 0.0148337\ttotal: 28.3s\tremaining: 45.8s\n",
      "382:\tlearn: 0.0148334\ttotal: 28.4s\tremaining: 45.7s\n",
      "383:\tlearn: 0.0148334\ttotal: 28.4s\tremaining: 45.6s\n",
      "384:\tlearn: 0.0148333\ttotal: 28.5s\tremaining: 45.5s\n",
      "385:\tlearn: 0.0148331\ttotal: 28.6s\tremaining: 45.4s\n",
      "386:\tlearn: 0.0148331\ttotal: 28.6s\tremaining: 45.4s\n",
      "387:\tlearn: 0.0148329\ttotal: 28.7s\tremaining: 45.3s\n",
      "388:\tlearn: 0.0148328\ttotal: 28.8s\tremaining: 45.2s\n",
      "389:\tlearn: 0.0147776\ttotal: 28.9s\tremaining: 45.2s\n",
      "390:\tlearn: 0.0146263\ttotal: 29s\tremaining: 45.1s\n",
      "391:\tlearn: 0.0144769\ttotal: 29.1s\tremaining: 45.1s\n",
      "392:\tlearn: 0.0144768\ttotal: 29.1s\tremaining: 45s\n",
      "393:\tlearn: 0.0144766\ttotal: 29.2s\tremaining: 44.9s\n",
      "394:\tlearn: 0.0144764\ttotal: 29.3s\tremaining: 44.8s\n",
      "395:\tlearn: 0.0144758\ttotal: 29.3s\tremaining: 44.7s\n",
      "396:\tlearn: 0.0144752\ttotal: 29.4s\tremaining: 44.6s\n",
      "397:\tlearn: 0.0144746\ttotal: 29.4s\tremaining: 44.5s\n",
      "398:\tlearn: 0.0144745\ttotal: 29.5s\tremaining: 44.4s\n",
      "399:\tlearn: 0.0144740\ttotal: 29.5s\tremaining: 44.3s\n",
      "400:\tlearn: 0.0144732\ttotal: 29.6s\tremaining: 44.2s\n",
      "401:\tlearn: 0.0144164\ttotal: 29.7s\tremaining: 44.2s\n",
      "402:\tlearn: 0.0144162\ttotal: 29.7s\tremaining: 44s\n",
      "403:\tlearn: 0.0144161\ttotal: 29.8s\tremaining: 43.9s\n",
      "404:\tlearn: 0.0144161\ttotal: 29.8s\tremaining: 43.8s\n",
      "405:\tlearn: 0.0144159\ttotal: 29.9s\tremaining: 43.7s\n",
      "406:\tlearn: 0.0144158\ttotal: 29.9s\tremaining: 43.6s\n",
      "407:\tlearn: 0.0144149\ttotal: 30s\tremaining: 43.5s\n",
      "408:\tlearn: 0.0144147\ttotal: 30.1s\tremaining: 43.5s\n",
      "409:\tlearn: 0.0144143\ttotal: 30.2s\tremaining: 43.4s\n",
      "410:\tlearn: 0.0144140\ttotal: 30.3s\tremaining: 43.4s\n",
      "411:\tlearn: 0.0144138\ttotal: 30.3s\tremaining: 43.2s\n",
      "412:\tlearn: 0.0144137\ttotal: 30.4s\tremaining: 43.2s\n",
      "413:\tlearn: 0.0144134\ttotal: 30.4s\tremaining: 43.1s\n",
      "414:\tlearn: 0.0144133\ttotal: 30.5s\tremaining: 43s\n",
      "415:\tlearn: 0.0144131\ttotal: 30.5s\tremaining: 42.9s\n",
      "416:\tlearn: 0.0144130\ttotal: 30.6s\tremaining: 42.8s\n",
      "417:\tlearn: 0.0144130\ttotal: 30.7s\tremaining: 42.7s\n",
      "418:\tlearn: 0.0144128\ttotal: 30.7s\tremaining: 42.6s\n",
      "419:\tlearn: 0.0144124\ttotal: 30.8s\tremaining: 42.5s\n",
      "420:\tlearn: 0.0144123\ttotal: 30.8s\tremaining: 42.4s\n",
      "421:\tlearn: 0.0144123\ttotal: 30.9s\tremaining: 42.3s\n",
      "422:\tlearn: 0.0144123\ttotal: 30.9s\tremaining: 42.2s\n",
      "423:\tlearn: 0.0144123\ttotal: 31s\tremaining: 42.1s\n",
      "424:\tlearn: 0.0144123\ttotal: 31.1s\tremaining: 42s\n",
      "425:\tlearn: 0.0144123\ttotal: 31.1s\tremaining: 41.9s\n",
      "426:\tlearn: 0.0144122\ttotal: 31.2s\tremaining: 41.8s\n",
      "427:\tlearn: 0.0144121\ttotal: 31.2s\tremaining: 41.8s\n",
      "428:\tlearn: 0.0144120\ttotal: 31.3s\tremaining: 41.6s\n",
      "429:\tlearn: 0.0144116\ttotal: 31.3s\tremaining: 41.5s\n",
      "430:\tlearn: 0.0144114\ttotal: 31.4s\tremaining: 41.4s\n",
      "431:\tlearn: 0.0144114\ttotal: 31.4s\tremaining: 41.3s\n",
      "432:\tlearn: 0.0144114\ttotal: 31.5s\tremaining: 41.2s\n",
      "433:\tlearn: 0.0144112\ttotal: 31.5s\tremaining: 41.1s\n",
      "434:\tlearn: 0.0144110\ttotal: 31.6s\tremaining: 41s\n",
      "435:\tlearn: 0.0144109\ttotal: 31.7s\tremaining: 41s\n",
      "436:\tlearn: 0.0144108\ttotal: 31.7s\tremaining: 40.9s\n",
      "437:\tlearn: 0.0144108\ttotal: 31.8s\tremaining: 40.8s\n",
      "438:\tlearn: 0.0144103\ttotal: 31.9s\tremaining: 40.7s\n",
      "439:\tlearn: 0.0144103\ttotal: 32s\tremaining: 40.7s\n",
      "440:\tlearn: 0.0144099\ttotal: 32s\tremaining: 40.6s\n",
      "441:\tlearn: 0.0144099\ttotal: 32.1s\tremaining: 40.6s\n",
      "442:\tlearn: 0.0144099\ttotal: 32.2s\tremaining: 40.5s\n",
      "443:\tlearn: 0.0144097\ttotal: 32.3s\tremaining: 40.4s\n",
      "444:\tlearn: 0.0144096\ttotal: 32.3s\tremaining: 40.3s\n",
      "445:\tlearn: 0.0144095\ttotal: 32.4s\tremaining: 40.2s\n",
      "446:\tlearn: 0.0144095\ttotal: 32.5s\tremaining: 40.1s\n",
      "447:\tlearn: 0.0144095\ttotal: 32.5s\tremaining: 40.1s\n",
      "448:\tlearn: 0.0144095\ttotal: 32.6s\tremaining: 40s\n",
      "449:\tlearn: 0.0144093\ttotal: 32.6s\tremaining: 39.9s\n",
      "450:\tlearn: 0.0144090\ttotal: 32.7s\tremaining: 39.8s\n",
      "451:\tlearn: 0.0144090\ttotal: 32.7s\tremaining: 39.7s\n",
      "452:\tlearn: 0.0144088\ttotal: 32.8s\tremaining: 39.6s\n",
      "453:\tlearn: 0.0144086\ttotal: 32.8s\tremaining: 39.5s\n",
      "454:\tlearn: 0.0144085\ttotal: 32.8s\tremaining: 39.3s\n",
      "455:\tlearn: 0.0144084\ttotal: 32.9s\tremaining: 39.2s\n",
      "456:\tlearn: 0.0144084\ttotal: 32.9s\tremaining: 39.1s\n",
      "457:\tlearn: 0.0144081\ttotal: 33s\tremaining: 39s\n",
      "458:\tlearn: 0.0144080\ttotal: 33s\tremaining: 38.9s\n",
      "459:\tlearn: 0.0144078\ttotal: 33s\tremaining: 38.8s\n",
      "460:\tlearn: 0.0144061\ttotal: 33.1s\tremaining: 38.7s\n",
      "461:\tlearn: 0.0144057\ttotal: 33.1s\tremaining: 38.6s\n",
      "462:\tlearn: 0.0144055\ttotal: 33.2s\tremaining: 38.5s\n",
      "463:\tlearn: 0.0144051\ttotal: 33.2s\tremaining: 38.4s\n",
      "464:\tlearn: 0.0142639\ttotal: 33.3s\tremaining: 38.3s\n",
      "465:\tlearn: 0.0142638\ttotal: 33.4s\tremaining: 38.3s\n",
      "466:\tlearn: 0.0142638\ttotal: 33.5s\tremaining: 38.2s\n",
      "467:\tlearn: 0.0142637\ttotal: 33.5s\tremaining: 38.1s\n",
      "468:\tlearn: 0.0142632\ttotal: 33.6s\tremaining: 38s\n",
      "469:\tlearn: 0.0142629\ttotal: 33.6s\tremaining: 37.9s\n",
      "470:\tlearn: 0.0142628\ttotal: 33.7s\tremaining: 37.8s\n",
      "471:\tlearn: 0.0142628\ttotal: 33.7s\tremaining: 37.7s\n",
      "472:\tlearn: 0.0142626\ttotal: 33.8s\tremaining: 37.6s\n",
      "473:\tlearn: 0.0142626\ttotal: 33.8s\tremaining: 37.5s\n",
      "474:\tlearn: 0.0142625\ttotal: 33.9s\tremaining: 37.4s\n",
      "475:\tlearn: 0.0142622\ttotal: 33.9s\tremaining: 37.3s\n",
      "476:\tlearn: 0.0142621\ttotal: 34s\tremaining: 37.3s\n",
      "477:\tlearn: 0.0141496\ttotal: 34.1s\tremaining: 37.2s\n",
      "478:\tlearn: 0.0141491\ttotal: 34.2s\tremaining: 37.2s\n"
     ]
    },
    {
     "name": "stdout",
     "output_type": "stream",
     "text": [
      "479:\tlearn: 0.0141490\ttotal: 34.2s\tremaining: 37.1s\n",
      "480:\tlearn: 0.0140590\ttotal: 34.3s\tremaining: 37s\n",
      "481:\tlearn: 0.0140588\ttotal: 34.3s\tremaining: 36.9s\n",
      "482:\tlearn: 0.0140587\ttotal: 34.4s\tremaining: 36.8s\n",
      "483:\tlearn: 0.0140254\ttotal: 34.4s\tremaining: 36.7s\n",
      "484:\tlearn: 0.0139424\ttotal: 34.5s\tremaining: 36.6s\n",
      "485:\tlearn: 0.0139424\ttotal: 34.5s\tremaining: 36.5s\n",
      "486:\tlearn: 0.0139412\ttotal: 34.6s\tremaining: 36.4s\n",
      "487:\tlearn: 0.0139409\ttotal: 34.6s\tremaining: 36.3s\n",
      "488:\tlearn: 0.0139409\ttotal: 34.7s\tremaining: 36.3s\n",
      "489:\tlearn: 0.0139402\ttotal: 34.8s\tremaining: 36.2s\n",
      "490:\tlearn: 0.0139398\ttotal: 34.8s\tremaining: 36.1s\n",
      "491:\tlearn: 0.0139397\ttotal: 34.8s\tremaining: 36s\n",
      "492:\tlearn: 0.0139393\ttotal: 34.9s\tremaining: 35.9s\n",
      "493:\tlearn: 0.0139392\ttotal: 34.9s\tremaining: 35.8s\n",
      "494:\tlearn: 0.0139392\ttotal: 35s\tremaining: 35.7s\n",
      "495:\tlearn: 0.0139392\ttotal: 35s\tremaining: 35.6s\n",
      "496:\tlearn: 0.0139388\ttotal: 35.1s\tremaining: 35.5s\n",
      "497:\tlearn: 0.0139385\ttotal: 35.1s\tremaining: 35.4s\n",
      "498:\tlearn: 0.0139383\ttotal: 35.2s\tremaining: 35.3s\n",
      "499:\tlearn: 0.0139382\ttotal: 35.2s\tremaining: 35.2s\n",
      "500:\tlearn: 0.0139382\ttotal: 35.2s\tremaining: 35.1s\n",
      "501:\tlearn: 0.0139380\ttotal: 35.3s\tremaining: 35s\n",
      "502:\tlearn: 0.0139373\ttotal: 35.3s\tremaining: 34.9s\n",
      "503:\tlearn: 0.0139372\ttotal: 35.4s\tremaining: 34.8s\n",
      "504:\tlearn: 0.0139039\ttotal: 35.4s\tremaining: 34.7s\n",
      "505:\tlearn: 0.0139038\ttotal: 35.5s\tremaining: 34.7s\n",
      "506:\tlearn: 0.0139030\ttotal: 35.6s\tremaining: 34.6s\n",
      "507:\tlearn: 0.0139030\ttotal: 35.6s\tremaining: 34.5s\n",
      "508:\tlearn: 0.0139029\ttotal: 35.7s\tremaining: 34.4s\n",
      "509:\tlearn: 0.0139026\ttotal: 35.7s\tremaining: 34.3s\n",
      "510:\tlearn: 0.0139017\ttotal: 35.8s\tremaining: 34.3s\n",
      "511:\tlearn: 0.0139016\ttotal: 35.8s\tremaining: 34.2s\n",
      "512:\tlearn: 0.0138809\ttotal: 35.9s\tremaining: 34.1s\n",
      "513:\tlearn: 0.0138807\ttotal: 35.9s\tremaining: 34s\n",
      "514:\tlearn: 0.0138806\ttotal: 36s\tremaining: 33.9s\n",
      "515:\tlearn: 0.0138806\ttotal: 36s\tremaining: 33.8s\n",
      "516:\tlearn: 0.0138805\ttotal: 36.1s\tremaining: 33.7s\n",
      "517:\tlearn: 0.0138805\ttotal: 36.1s\tremaining: 33.6s\n",
      "518:\tlearn: 0.0138802\ttotal: 36.2s\tremaining: 33.5s\n",
      "519:\tlearn: 0.0138801\ttotal: 36.2s\tremaining: 33.4s\n",
      "520:\tlearn: 0.0138800\ttotal: 36.2s\tremaining: 33.3s\n",
      "521:\tlearn: 0.0138797\ttotal: 36.3s\tremaining: 33.2s\n",
      "522:\tlearn: 0.0138796\ttotal: 36.3s\tremaining: 33.1s\n",
      "523:\tlearn: 0.0138795\ttotal: 36.4s\tremaining: 33s\n",
      "524:\tlearn: 0.0138785\ttotal: 36.4s\tremaining: 32.9s\n",
      "525:\tlearn: 0.0138782\ttotal: 36.4s\tremaining: 32.8s\n",
      "526:\tlearn: 0.0138138\ttotal: 36.5s\tremaining: 32.8s\n",
      "527:\tlearn: 0.0138131\ttotal: 36.5s\tremaining: 32.7s\n",
      "528:\tlearn: 0.0138130\ttotal: 36.6s\tremaining: 32.6s\n",
      "529:\tlearn: 0.0138130\ttotal: 36.7s\tremaining: 32.5s\n",
      "530:\tlearn: 0.0138129\ttotal: 36.7s\tremaining: 32.4s\n",
      "531:\tlearn: 0.0138127\ttotal: 36.8s\tremaining: 32.3s\n",
      "532:\tlearn: 0.0138127\ttotal: 36.8s\tremaining: 32.3s\n",
      "533:\tlearn: 0.0137840\ttotal: 36.9s\tremaining: 32.2s\n",
      "534:\tlearn: 0.0137838\ttotal: 37s\tremaining: 32.1s\n",
      "535:\tlearn: 0.0137835\ttotal: 37s\tremaining: 32.1s\n",
      "536:\tlearn: 0.0137831\ttotal: 37.1s\tremaining: 32s\n",
      "537:\tlearn: 0.0137831\ttotal: 37.2s\tremaining: 31.9s\n",
      "538:\tlearn: 0.0137829\ttotal: 37.2s\tremaining: 31.8s\n",
      "539:\tlearn: 0.0137827\ttotal: 37.3s\tremaining: 31.8s\n",
      "540:\tlearn: 0.0137825\ttotal: 37.4s\tremaining: 31.7s\n",
      "541:\tlearn: 0.0137825\ttotal: 37.4s\tremaining: 31.6s\n",
      "542:\tlearn: 0.0137322\ttotal: 37.5s\tremaining: 31.6s\n",
      "543:\tlearn: 0.0137321\ttotal: 37.6s\tremaining: 31.5s\n",
      "544:\tlearn: 0.0137320\ttotal: 37.6s\tremaining: 31.4s\n",
      "545:\tlearn: 0.0136606\ttotal: 37.7s\tremaining: 31.3s\n",
      "546:\tlearn: 0.0136604\ttotal: 37.8s\tremaining: 31.3s\n",
      "547:\tlearn: 0.0135666\ttotal: 37.9s\tremaining: 31.2s\n",
      "548:\tlearn: 0.0135653\ttotal: 37.9s\tremaining: 31.1s\n",
      "549:\tlearn: 0.0135653\ttotal: 37.9s\tremaining: 31s\n",
      "550:\tlearn: 0.0135650\ttotal: 38s\tremaining: 31s\n",
      "551:\tlearn: 0.0135648\ttotal: 38.1s\tremaining: 30.9s\n",
      "552:\tlearn: 0.0135647\ttotal: 38.2s\tremaining: 30.9s\n",
      "553:\tlearn: 0.0135272\ttotal: 38.3s\tremaining: 30.8s\n",
      "554:\tlearn: 0.0134882\ttotal: 38.3s\tremaining: 30.7s\n",
      "555:\tlearn: 0.0134882\ttotal: 38.4s\tremaining: 30.7s\n",
      "556:\tlearn: 0.0134880\ttotal: 38.5s\tremaining: 30.6s\n",
      "557:\tlearn: 0.0134876\ttotal: 38.5s\tremaining: 30.5s\n",
      "558:\tlearn: 0.0134875\ttotal: 38.6s\tremaining: 30.5s\n",
      "559:\tlearn: 0.0134873\ttotal: 38.7s\tremaining: 30.4s\n",
      "560:\tlearn: 0.0134872\ttotal: 38.7s\tremaining: 30.3s\n",
      "561:\tlearn: 0.0134868\ttotal: 38.8s\tremaining: 30.2s\n",
      "562:\tlearn: 0.0134867\ttotal: 38.8s\tremaining: 30.1s\n",
      "563:\tlearn: 0.0134865\ttotal: 38.9s\tremaining: 30.1s\n",
      "564:\tlearn: 0.0134863\ttotal: 39s\tremaining: 30s\n",
      "565:\tlearn: 0.0134862\ttotal: 39s\tremaining: 29.9s\n",
      "566:\tlearn: 0.0134856\ttotal: 39s\tremaining: 29.8s\n",
      "567:\tlearn: 0.0134854\ttotal: 39.1s\tremaining: 29.7s\n",
      "568:\tlearn: 0.0134832\ttotal: 39.2s\tremaining: 29.7s\n",
      "569:\tlearn: 0.0134830\ttotal: 39.2s\tremaining: 29.6s\n",
      "570:\tlearn: 0.0134830\ttotal: 39.3s\tremaining: 29.5s\n",
      "571:\tlearn: 0.0134821\ttotal: 39.3s\tremaining: 29.4s\n",
      "572:\tlearn: 0.0134821\ttotal: 39.4s\tremaining: 29.3s\n",
      "573:\tlearn: 0.0134820\ttotal: 39.4s\tremaining: 29.3s\n",
      "574:\tlearn: 0.0134820\ttotal: 39.5s\tremaining: 29.2s\n",
      "575:\tlearn: 0.0134819\ttotal: 39.6s\tremaining: 29.1s\n",
      "576:\tlearn: 0.0134817\ttotal: 39.7s\tremaining: 29.1s\n",
      "577:\tlearn: 0.0134817\ttotal: 39.7s\tremaining: 29s\n",
      "578:\tlearn: 0.0134794\ttotal: 39.8s\tremaining: 28.9s\n",
      "579:\tlearn: 0.0134793\ttotal: 39.9s\tremaining: 28.9s\n",
      "580:\tlearn: 0.0134793\ttotal: 40s\tremaining: 28.8s\n",
      "581:\tlearn: 0.0134792\ttotal: 40s\tremaining: 28.8s\n",
      "582:\tlearn: 0.0134598\ttotal: 40.1s\tremaining: 28.7s\n",
      "583:\tlearn: 0.0134596\ttotal: 40.2s\tremaining: 28.6s\n",
      "584:\tlearn: 0.0134593\ttotal: 40.3s\tremaining: 28.6s\n",
      "585:\tlearn: 0.0133349\ttotal: 40.4s\tremaining: 28.5s\n",
      "586:\tlearn: 0.0133348\ttotal: 40.4s\tremaining: 28.5s\n",
      "587:\tlearn: 0.0133346\ttotal: 40.5s\tremaining: 28.4s\n",
      "588:\tlearn: 0.0133343\ttotal: 40.6s\tremaining: 28.3s\n",
      "589:\tlearn: 0.0133217\ttotal: 40.7s\tremaining: 28.3s\n"
     ]
    }
   ],
   "source": [
    "model_new = CatBoostClassifier(\n",
    "                           cat_features=categorical_var_indices, \n",
    "#                            task_type=\"GPU\",\n",
    "                           devices='0:1',\n",
    "                           nan_mode='Max',verbose=True,depth= 6, iterations= 1000, learning_rate = 0.662816635685985)\n",
    "\n",
    "\n",
    "model_new.fit(X_train,y_train)"
   ]
  },
  {
   "cell_type": "markdown",
   "metadata": {
    "colab_type": "text",
    "id": "63nPLoMQ24ed"
   },
   "source": [
    "#Test Model"
   ]
  },
  {
   "cell_type": "code",
   "execution_count": 241,
   "metadata": {
    "colab": {
     "base_uri": "https://localhost:8080/",
     "height": 34
    },
    "colab_type": "code",
    "executionInfo": {
     "elapsed": 1311,
     "status": "ok",
     "timestamp": 1590262615659,
     "user": {
      "displayName": "Lahiru Senevirathne",
      "photoUrl": "https://lh3.googleusercontent.com/a-/AOh14GiRzF3KfxeuLmDoDB90oNXQ5_ivLn8-Ar4kecdc=s64",
      "userId": "12627549003426465017"
     },
     "user_tz": -330
    },
    "id": "aSXfx4t85jBi",
    "outputId": "72924af8-52fa-42fd-bdae-741449af5b7f"
   },
   "outputs": [
    {
     "data": {
      "text/plain": [
       "(array([0, 1]), array([ 351, 3085]))"
      ]
     },
     "execution_count": 241,
     "metadata": {},
     "output_type": "execute_result"
    }
   ],
   "source": [
    "predictions = model_new.predict(X_test)\n",
    "predictions = [round(value) for value in predictions]\n",
    "np.unique(predictions , return_counts=True) "
   ]
  },
  {
   "cell_type": "code",
   "execution_count": 242,
   "metadata": {
    "colab": {
     "base_uri": "https://localhost:8080/",
     "height": 68
    },
    "colab_type": "code",
    "executionInfo": {
     "elapsed": 2117,
     "status": "ok",
     "timestamp": 1590262619192,
     "user": {
      "displayName": "Lahiru Senevirathne",
      "photoUrl": "https://lh3.googleusercontent.com/a-/AOh14GiRzF3KfxeuLmDoDB90oNXQ5_ivLn8-Ar4kecdc=s64",
      "userId": "12627549003426465017"
     },
     "user_tz": -330
    },
    "id": "ZivWugF9_sMg",
    "outputId": "6b50ac00-485b-4fd7-dbee-3e01ce9570c9"
   },
   "outputs": [
    {
     "name": "stdout",
     "output_type": "stream",
     "text": [
      "Accuracy: 99.91%\n",
      "Macro F1: 99.76%\n",
      "Binary F1: 99.95%\n"
     ]
    }
   ],
   "source": [
    "accuracy = accuracy_score(y_test, predictions)\n",
    "f1_macro = f1_score(y_test, predictions, average='macro')\n",
    "f1_binary = f1_score(y_test, predictions, average='binary')\n",
    "print(\"Accuracy: %.2f%%\" % (accuracy * 100.0))\n",
    "print(\"Macro F1: %.2f%%\" % (f1_macro * 100.0))\n",
    "print(\"Binary F1: %.2f%%\" % (f1_binary * 100.0))"
   ]
  },
  {
   "cell_type": "markdown",
   "metadata": {
    "colab_type": "text",
    "id": "AIGfpDZR8sme"
   },
   "source": [
    "## Results\n",
    "\n",
    "Accuracy: 97.26%\n",
    "Macro F1: 92.10%\n",
    "Binary F1: 98.49%\n",
    "\n",
    "### catboost with categorical features removed month,year,nanmode=max 1000 epochs \n",
    "Accuracy: 96.07%\n",
    "Macro F1: 87.50%\n",
    "Binary F1: 97.85%\n",
    "\n",
    "### catboost with categorical features removed month,year1000 epochs \n",
    "Accuracy: 96.42%\n",
    "Macro F1: 88.33%\n",
    "Binary F1: 98.05%\n",
    "\n",
    "### catboost with categorical features 100000 epochs \n",
    "Accuracy: 96.16%\n",
    "Macro F1: 86.48%\n",
    "Binary F1: 97.92%\n",
    "Submission_score : 0.97375\n",
    "\n",
    "### catboost without dropping any feature with 400000 epochs\n",
    "\n",
    "Accuracy: 97.41%\n",
    "Macro F1: 90.87%\n",
    "Binary F1: 98.60%\n",
    "Submission Score : 0.97817\n",
    "\n",
    "### catboost without dropping any feature  with 100000 epochs\n",
    "\n",
    "<!-- Accuracy: 97.35%\n",
    "Macro F1: 90.63%\n",
    "Binary F1: 98.56%\n",
    "Submission Score : 0.97848 -->\n",
    "\n",
    "### catboost after normalizing to z score with 10000 epochs\n",
    "\n",
    "Accuracy: 96.70%\n",
    "Macro F1: 87.82%\n",
    "Binary F1: 98.22%\n",
    "\n",
    "### catboost without dropping any feature with 10000 epochs\n",
    "\n",
    "Accuracy: 96.82%\n",
    "Macro F1: 88.95%\n",
    "Binary F1: 98.27%\n",
    "Submission Score : 0.97788"
   ]
  },
  {
   "cell_type": "markdown",
   "metadata": {
    "colab_type": "text",
    "id": "bv6_QoEMln39"
   },
   "source": [
    "# Save Predictions"
   ]
  },
  {
   "cell_type": "code",
   "execution_count": 138,
   "metadata": {},
   "outputs": [
    {
     "name": "stdout",
     "output_type": "stream",
     "text": [
      "<class 'pandas.core.frame.DataFrame'>\n",
      "Int64Index: 3436 entries, 12237 to 8549\n",
      "Data columns (total 17 columns):\n",
      " #   Column                         Non-Null Count  Dtype  \n",
      "---  ------                         --------------  -----  \n",
      " 0   additional_fare                3391 non-null   float64\n",
      " 1   duration                       3391 non-null   float64\n",
      " 2   meter_waiting                  3391 non-null   float64\n",
      " 3   meter_waiting_fare             3391 non-null   float64\n",
      " 4   meter_waiting_till_pickup      3391 non-null   float64\n",
      " 5   pick_lat                       3436 non-null   float64\n",
      " 6   pick_lon                       3436 non-null   float64\n",
      " 7   drop_lat                       3436 non-null   float64\n",
      " 8   drop_lon                       3436 non-null   float64\n",
      " 9   fare                           3401 non-null   float64\n",
      " 10  additional_fare_is_outlier     3436 non-null   int64  \n",
      " 11  meter_waiting_fare_is_outlier  3436 non-null   int64  \n",
      " 12  fare_is_outlier                3436 non-null   int64  \n",
      " 13  pickup_hour                    3436 non-null   int64  \n",
      " 14  pickup_day_of_week             3436 non-null   int64  \n",
      " 15  is_outlier_loc                 3436 non-null   int64  \n",
      " 16  trip_distance                  3436 non-null   float64\n",
      "dtypes: float64(11), int64(6)\n",
      "memory usage: 483.2 KB\n",
      "<class 'pandas.core.frame.DataFrame'>\n",
      "RangeIndex: 8576 entries, 0 to 8575\n",
      "Data columns (total 17 columns):\n",
      " #   Column                         Non-Null Count  Dtype  \n",
      "---  ------                         --------------  -----  \n",
      " 0   additional_fare                8576 non-null   float64\n",
      " 1   duration                       8576 non-null   int64  \n",
      " 2   meter_waiting                  8576 non-null   int64  \n",
      " 3   meter_waiting_fare             8576 non-null   float64\n",
      " 4   meter_waiting_till_pickup      8576 non-null   int64  \n",
      " 5   pick_lat                       8576 non-null   float64\n",
      " 6   pick_lon                       8576 non-null   float64\n",
      " 7   drop_lat                       8576 non-null   float64\n",
      " 8   drop_lon                       8576 non-null   float64\n",
      " 9   fare                           8576 non-null   float64\n",
      " 10  additional_fare_is_outlier     8576 non-null   int64  \n",
      " 11  meter_waiting_fare_is_outlier  8576 non-null   int64  \n",
      " 12  fare_is_outlier                8576 non-null   int64  \n",
      " 13  pickup_hour                    8576 non-null   int64  \n",
      " 14  pickup_day_of_week             8576 non-null   int64  \n",
      " 15  is_outlier_loc                 8576 non-null   int64  \n",
      " 16  trip_distance                  8576 non-null   float64\n",
      "dtypes: float64(8), int64(9)\n",
      "memory usage: 1.1 MB\n"
     ]
    }
   ],
   "source": [
    "X_test.info()\n",
    "test_1.info()"
   ]
  },
  {
   "cell_type": "code",
   "execution_count": 243,
   "metadata": {
    "colab": {
     "base_uri": "https://localhost:8080/",
     "height": 34
    },
    "colab_type": "code",
    "executionInfo": {
     "elapsed": 1516,
     "status": "ok",
     "timestamp": 1590262789353,
     "user": {
      "displayName": "Lahiru Senevirathne",
      "photoUrl": "https://lh3.googleusercontent.com/a-/AOh14GiRzF3KfxeuLmDoDB90oNXQ5_ivLn8-Ar4kecdc=s64",
      "userId": "12627549003426465017"
     },
     "user_tz": -330
    },
    "id": "SCIoN2PlsG6q",
    "outputId": "ea2685dd-4b40-4af5-f18c-18981161b760"
   },
   "outputs": [
    {
     "data": {
      "text/plain": [
       "(array([0, 1]), array([ 414, 8162]))"
      ]
     },
     "execution_count": 243,
     "metadata": {},
     "output_type": "execute_result"
    }
   ],
   "source": [
    "predictions_1 = model_new.predict(test_1)\n",
    "# predictions_1 = [round(value) for value in y_pred_1]\n",
    "np.unique(predictions_1 , return_counts=True)"
   ]
  },
  {
   "cell_type": "code",
   "execution_count": 244,
   "metadata": {
    "colab": {},
    "colab_type": "code",
    "id": "gIMdwAXWDew2"
   },
   "outputs": [],
   "source": [
    "submission_df = pd.read_csv(\"predications_submission.csv\", \n",
    "                            index_col=\"tripid\")\n",
    "submission_df['prediction'] = predictions_1\n",
    "\n",
    "submission_df.to_csv('predictions/4_catboost_categorical_nanmode_max_grid_search_10000_epochs.csv')"
   ]
  },
  {
   "cell_type": "code",
   "execution_count": 141,
   "metadata": {
    "colab": {},
    "colab_type": "code",
    "id": "6WAnxW31ZFeJ"
   },
   "outputs": [],
   "source": [
    "#  y_pred = pd.DataFrame({'prediction':predictions_1})\n",
    "#  y_pred[\"prediction\"] = y_pred[\"prediction\"].astype(int)\n",
    "#  y_pred['prediction'] = y_pred['prediction'].apply(lambda x: 0 if x < 0.5 else 1)\n",
    "#  y_pred.to_csv(\"predictions/predications_catboost_6_features_3_100000epochs.csv\")\n",
    "# y_pred.to_csv(\"/content/drive/My Drive/UNI/SEM7/CS4622_Machine_Learning/Project_1/Fair_Classification/predictions/predications_catboost_6_features_3_400000epochs.csv\")"
   ]
  }
 ],
 "metadata": {
  "accelerator": "GPU",
  "colab": {
   "collapsed_sections": [
    "b-KJaXJFld6d",
    "X-T6KE7ellhg",
    "3P9t2QBpj6Kz"
   ],
   "name": "Model.ipynb",
   "provenance": []
  },
  "kernelspec": {
   "display_name": "Python 3",
   "language": "python",
   "name": "python3"
  },
  "language_info": {
   "codemirror_mode": {
    "name": "ipython",
    "version": 3
   },
   "file_extension": ".py",
   "mimetype": "text/x-python",
   "name": "python",
   "nbconvert_exporter": "python",
   "pygments_lexer": "ipython3",
   "version": "3.7.7"
  }
 },
 "nbformat": 4,
 "nbformat_minor": 1
}
