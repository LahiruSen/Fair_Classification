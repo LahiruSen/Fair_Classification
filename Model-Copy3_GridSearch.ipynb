{
 "cells": [
  {
   "cell_type": "code",
   "execution_count": 62,
   "metadata": {
    "colab": {},
    "colab_type": "code",
    "id": "M5b4J2n4N_Ex"
   },
   "outputs": [],
   "source": [
    "# from google.colab import drive\n",
    "# drive.mount('/content/drive')"
   ]
  },
  {
   "cell_type": "code",
   "execution_count": 63,
   "metadata": {
    "colab": {
     "base_uri": "https://localhost:8080/",
     "height": 34
    },
    "colab_type": "code",
    "executionInfo": {
     "elapsed": 2044,
     "status": "ok",
     "timestamp": 1590262528299,
     "user": {
      "displayName": "Lahiru Senevirathne",
      "photoUrl": "https://lh3.googleusercontent.com/a-/AOh14GiRzF3KfxeuLmDoDB90oNXQ5_ivLn8-Ar4kecdc=s64",
      "userId": "12627549003426465017"
     },
     "user_tz": -330
    },
    "id": "Na4TB9R3TSGd",
    "outputId": "bc7b455e-93f4-4d1e-c264-0b0b52f450e9"
   },
   "outputs": [],
   "source": [
    "# cd /content/drive/My Drive/University/SEM7/CS4622_Machine_Learning/Project_1/Fair_Classification"
   ]
  },
  {
   "cell_type": "markdown",
   "metadata": {
    "colab_type": "text",
    "id": "5eFD3Y0C2lty"
   },
   "source": [
    "# Imports"
   ]
  },
  {
   "cell_type": "code",
   "execution_count": 64,
   "metadata": {
    "colab": {},
    "colab_type": "code",
    "id": "okX-DA52Tbme"
   },
   "outputs": [],
   "source": [
    "import pandas as pd\n",
    "import numpy as np\n",
    "import matplotlib.pyplot as plt\n",
    "import seaborn as sns\n",
    "from datetime import datetime\n",
    "import calendar\n",
    "import warnings\n",
    "from math import sin, cos, sqrt, atan2, radians,asin\n",
    "\n",
    "from scipy.stats import uniform as sp_randFloat\n",
    "from scipy.stats import randint as sp_randInt\n",
    "    \n",
    "from sklearn.model_selection import train_test_split,RandomizedSearchCV,GridSearchCV\n",
    "from sklearn.metrics import mean_squared_error,accuracy_score,f1_score,roc_auc_score\n",
    "from sklearn.linear_model import LinearRegression\n",
    "from sklearn.ensemble import RandomForestRegressor\n",
    "# import lightgbm as lgb\n",
    "# import xgboost as xgb\n",
    "# from hyperopt import hp, fmin, tpe, STATUS_OK, Trials\n",
    "warnings.filterwarnings('ignore')\n",
    "# from xgboost import XGBClassifier\n",
    "\n",
    "\n"
   ]
  },
  {
   "cell_type": "markdown",
   "metadata": {
    "colab_type": "text",
    "id": "FidOk68b2qBp"
   },
   "source": [
    "# Load Data"
   ]
  },
  {
   "cell_type": "code",
   "execution_count": 65,
   "metadata": {
    "colab": {
     "base_uri": "https://localhost:8080/",
     "height": 51
    },
    "colab_type": "code",
    "executionInfo": {
     "elapsed": 1972,
     "status": "ok",
     "timestamp": 1590262528303,
     "user": {
      "displayName": "Lahiru Senevirathne",
      "photoUrl": "https://lh3.googleusercontent.com/a-/AOh14GiRzF3KfxeuLmDoDB90oNXQ5_ivLn8-Ar4kecdc=s64",
      "userId": "12627549003426465017"
     },
     "user_tz": -330
    },
    "id": "eDxwe9qKTYRs",
    "outputId": "e7358f3e-b5ea-4bf3-d817-5b74732054bb"
   },
   "outputs": [
    {
     "name": "stdout",
     "output_type": "stream",
     "text": [
      "Shape of Training Data (17176, 25)\n",
      "Shape of Testing Data (8576, 24)\n"
     ]
    }
   ],
   "source": [
    "# train=pd.read_csv(\"/content/drive/My Drive/University/SEM7/CS4622_Machine_Learning/Project_1/Fair_Classification/features/Train_FeatureEngineering_4_without_droping_any_feature.csv\")\n",
    "# test=pd.read_csv(\"/content/drive/My Drive/University/SEM7/CS4622_Machine_Learning/Project_1/Fair_Classification/features/Test_FeatureEngineering_4.csv\")\n",
    "# for other account\n",
    "train=pd.read_csv(\"features/7_Train_FeatureEngineering_didnt_fill_null.csv\")\n",
    "test=pd.read_csv(\"features/7_Test_FeatureEngineering_didnt_fill_null.csv\")\n",
    "\n",
    "print(\"Shape of Training Data\",train.shape)\n",
    "print(\"Shape of Testing Data\", test.shape)\n"
   ]
  },
  {
   "cell_type": "code",
   "execution_count": 66,
   "metadata": {
    "colab": {
     "base_uri": "https://localhost:8080/",
     "height": 153
    },
    "colab_type": "code",
    "executionInfo": {
     "elapsed": 2802,
     "status": "ok",
     "timestamp": 1590262529167,
     "user": {
      "displayName": "Lahiru Senevirathne",
      "photoUrl": "https://lh3.googleusercontent.com/a-/AOh14GiRzF3KfxeuLmDoDB90oNXQ5_ivLn8-Ar4kecdc=s64",
      "userId": "12627549003426465017"
     },
     "user_tz": -330
    },
    "id": "H7sdqIg__vGC",
    "outputId": "92766e40-ffd6-46cb-b859-b1d94c1b56e3"
   },
   "outputs": [
    {
     "data": {
      "text/plain": [
       "Index(['tripid', 'additional_fare', 'duration', 'meter_waiting',\n",
       "       'meter_waiting_fare', 'meter_waiting_till_pickup', 'pickup_time',\n",
       "       'drop_time', 'pick_lat', 'pick_lon', 'drop_lat', 'drop_lon', 'fare',\n",
       "       'label', 'additional_fare_is_outlier', 'meter_waiting_fare_is_outlier',\n",
       "       'fare_is_outlier', 'pickup_date', 'pickup_day', 'pickup_hour',\n",
       "       'pickup_day_of_week', 'pickup_month', 'pickup_year', 'is_outlier_loc',\n",
       "       'trip_distance'],\n",
       "      dtype='object')"
      ]
     },
     "execution_count": 66,
     "metadata": {},
     "output_type": "execute_result"
    }
   ],
   "source": [
    "train.columns"
   ]
  },
  {
   "cell_type": "code",
   "execution_count": 67,
   "metadata": {
    "colab": {
     "base_uri": "https://localhost:8080/",
     "height": 153
    },
    "colab_type": "code",
    "executionInfo": {
     "elapsed": 2731,
     "status": "ok",
     "timestamp": 1590262529171,
     "user": {
      "displayName": "Lahiru Senevirathne",
      "photoUrl": "https://lh3.googleusercontent.com/a-/AOh14GiRzF3KfxeuLmDoDB90oNXQ5_ivLn8-Ar4kecdc=s64",
      "userId": "12627549003426465017"
     },
     "user_tz": -330
    },
    "id": "fETWEWheOceP",
    "outputId": "6eb4ea9b-8b21-465c-8e5f-3a0d0d75661f"
   },
   "outputs": [
    {
     "data": {
      "text/plain": [
       "Index(['tripid', 'additional_fare', 'duration', 'meter_waiting',\n",
       "       'meter_waiting_fare', 'meter_waiting_till_pickup', 'pickup_time',\n",
       "       'drop_time', 'pick_lat', 'pick_lon', 'drop_lat', 'drop_lon', 'fare',\n",
       "       'additional_fare_is_outlier', 'meter_waiting_fare_is_outlier',\n",
       "       'fare_is_outlier', 'pickup_date', 'pickup_day', 'pickup_hour',\n",
       "       'pickup_day_of_week', 'pickup_month', 'pickup_year', 'is_outlier_loc',\n",
       "       'trip_distance'],\n",
       "      dtype='object')"
      ]
     },
     "execution_count": 67,
     "metadata": {},
     "output_type": "execute_result"
    }
   ],
   "source": [
    "test.columns"
   ]
  },
  {
   "cell_type": "markdown",
   "metadata": {
    "colab_type": "text",
    "id": "iOmvy1rKlXud"
   },
   "source": [
    "# Data_Preprocessing"
   ]
  },
  {
   "cell_type": "code",
   "execution_count": 68,
   "metadata": {
    "colab": {},
    "colab_type": "code",
    "id": "ZEkEw04h_tOB"
   },
   "outputs": [],
   "source": [
    "# drop_columns_train=['tripid','pickup_time','drop_time','pick_lat','pick_lon','drop_lat','drop_lon','pickup_date','pickup_latitude_round3','pickup_longitude_round3','dropoff_latitude_round3','dropoff_longitude_round3']\n",
    "# drop_columns_test=['tripid','pickup_time','drop_time','pick_lat','pick_lon','drop_lat','drop_lon','pickup_date','pickup_latitude_round3','pickup_longitude_round3','dropoff_latitude_round3','dropoff_longitude_round3','is_outlier_loc']\n",
    "\n",
    "drop_columns_train=['tripid','pickup_time','drop_time','pickup_date','pickup_day','pickup_month','pickup_year']\n",
    "drop_columns_test=['tripid','pickup_time','drop_time','pickup_date','pickup_day','pickup_month','pickup_year']"
   ]
  },
  {
   "cell_type": "code",
   "execution_count": 69,
   "metadata": {
    "colab": {
     "base_uri": "https://localhost:8080/",
     "height": 51
    },
    "colab_type": "code",
    "executionInfo": {
     "elapsed": 2704,
     "status": "ok",
     "timestamp": 1590262529177,
     "user": {
      "displayName": "Lahiru Senevirathne",
      "photoUrl": "https://lh3.googleusercontent.com/a-/AOh14GiRzF3KfxeuLmDoDB90oNXQ5_ivLn8-Ar4kecdc=s64",
      "userId": "12627549003426465017"
     },
     "user_tz": -330
    },
    "id": "V83jeIqWAiM5",
    "outputId": "7e31382c-9005-4814-bdd5-fb44ca39b32d"
   },
   "outputs": [
    {
     "name": "stdout",
     "output_type": "stream",
     "text": [
      "Shape of Training Data after dropping columns (17176, 18)\n",
      "Shape of Testing Data after dropping columns (8576, 17)\n"
     ]
    }
   ],
   "source": [
    "train_1=train.drop(drop_columns_train,axis=1)\n",
    "test_1=test.drop(drop_columns_test,axis=1)\n",
    "print(\"Shape of Training Data after dropping columns\",train_1.shape)\n",
    "print(\"Shape of Testing Data after dropping columns\",test_1.shape)"
   ]
  },
  {
   "cell_type": "code",
   "execution_count": 70,
   "metadata": {
    "colab": {},
    "colab_type": "code",
    "id": "zmK1_ekYuPpl"
   },
   "outputs": [],
   "source": [
    "# def encodeDays(day_of_week):\n",
    "#   day_dict={'Sunday':0,'Monday':1,'Tuesday':2,'Wednesday':3,'Thursday':4,'Friday':5,'Saturday':6}\n",
    "#   return day_dict[day_of_week]\n",
    "# def encodeLabel(label):\n",
    "#   label_dict={'correct':1,'incorrect':0}\n",
    "#   return label_dict[label]\n",
    "# def clean_data(data,isTrain):\n",
    "#   data['pickup_day_of_week']=data['pickup_day_of_week'].apply(lambda x:encodeDays(x))\n",
    "#   if(isTrain):\n",
    "#     data['label']=data['label'].apply(lambda x:encodeLabel(x))\n",
    "#   return data\n",
    "\n",
    "# train_1=clean_data(train_1,True)\n",
    "# test_1=clean_data(test_1,False)\n",
    "# print(\"Shape of Training Data after cleaning \",train_1.shape)\n",
    "# print(\"Shape of Testing Data after cleaning\", test_1.shape)"
   ]
  },
  {
   "cell_type": "code",
   "execution_count": 71,
   "metadata": {
    "colab": {
     "base_uri": "https://localhost:8080/",
     "height": 476
    },
    "colab_type": "code",
    "executionInfo": {
     "elapsed": 2675,
     "status": "ok",
     "timestamp": 1590262529183,
     "user": {
      "displayName": "Lahiru Senevirathne",
      "photoUrl": "https://lh3.googleusercontent.com/a-/AOh14GiRzF3KfxeuLmDoDB90oNXQ5_ivLn8-Ar4kecdc=s64",
      "userId": "12627549003426465017"
     },
     "user_tz": -330
    },
    "id": "-UevHcHn3iqT",
    "outputId": "4822f997-cc75-403c-e746-ccfec729e4a0"
   },
   "outputs": [
    {
     "name": "stdout",
     "output_type": "stream",
     "text": [
      "<class 'pandas.core.frame.DataFrame'>\n",
      "RangeIndex: 8576 entries, 0 to 8575\n",
      "Data columns (total 17 columns):\n",
      " #   Column                         Non-Null Count  Dtype  \n",
      "---  ------                         --------------  -----  \n",
      " 0   additional_fare                8576 non-null   float64\n",
      " 1   duration                       8576 non-null   int64  \n",
      " 2   meter_waiting                  8576 non-null   int64  \n",
      " 3   meter_waiting_fare             8576 non-null   float64\n",
      " 4   meter_waiting_till_pickup      8576 non-null   int64  \n",
      " 5   pick_lat                       8576 non-null   float64\n",
      " 6   pick_lon                       8576 non-null   float64\n",
      " 7   drop_lat                       8576 non-null   float64\n",
      " 8   drop_lon                       8576 non-null   float64\n",
      " 9   fare                           8576 non-null   float64\n",
      " 10  additional_fare_is_outlier     8576 non-null   int64  \n",
      " 11  meter_waiting_fare_is_outlier  8576 non-null   int64  \n",
      " 12  fare_is_outlier                8576 non-null   int64  \n",
      " 13  pickup_hour                    8576 non-null   int64  \n",
      " 14  pickup_day_of_week             8576 non-null   int64  \n",
      " 15  is_outlier_loc                 8576 non-null   int64  \n",
      " 16  trip_distance                  8576 non-null   float64\n",
      "dtypes: float64(8), int64(9)\n",
      "memory usage: 1.1 MB\n"
     ]
    }
   ],
   "source": [
    "test_1.info()"
   ]
  },
  {
   "cell_type": "code",
   "execution_count": 72,
   "metadata": {
    "colab": {
     "base_uri": "https://localhost:8080/",
     "height": 493
    },
    "colab_type": "code",
    "executionInfo": {
     "elapsed": 1289,
     "status": "ok",
     "timestamp": 1590262536343,
     "user": {
      "displayName": "Lahiru Senevirathne",
      "photoUrl": "https://lh3.googleusercontent.com/a-/AOh14GiRzF3KfxeuLmDoDB90oNXQ5_ivLn8-Ar4kecdc=s64",
      "userId": "12627549003426465017"
     },
     "user_tz": -330
    },
    "id": "5tT6t_3v7ABT",
    "outputId": "49699b24-2879-4108-957c-70b71e631b96"
   },
   "outputs": [
    {
     "name": "stdout",
     "output_type": "stream",
     "text": [
      "<class 'pandas.core.frame.DataFrame'>\n",
      "RangeIndex: 17176 entries, 0 to 17175\n",
      "Data columns (total 18 columns):\n",
      " #   Column                         Non-Null Count  Dtype  \n",
      "---  ------                         --------------  -----  \n",
      " 0   additional_fare                16974 non-null  float64\n",
      " 1   duration                       16974 non-null  float64\n",
      " 2   meter_waiting                  16974 non-null  float64\n",
      " 3   meter_waiting_fare             16974 non-null  float64\n",
      " 4   meter_waiting_till_pickup      16974 non-null  float64\n",
      " 5   pick_lat                       17176 non-null  float64\n",
      " 6   pick_lon                       17176 non-null  float64\n",
      " 7   drop_lat                       17176 non-null  float64\n",
      " 8   drop_lon                       17176 non-null  float64\n",
      " 9   fare                           17039 non-null  float64\n",
      " 10  additional_fare_is_outlier     17176 non-null  int64  \n",
      " 11  meter_waiting_fare_is_outlier  17176 non-null  int64  \n",
      " 12  fare_is_outlier                17176 non-null  int64  \n",
      " 13  pickup_hour                    17176 non-null  int64  \n",
      " 14  pickup_day_of_week             17176 non-null  int64  \n",
      " 15  is_outlier_loc                 17176 non-null  int64  \n",
      " 16  trip_distance                  17176 non-null  float64\n",
      " 17  label                          17176 non-null  int64  \n",
      "dtypes: float64(11), int64(7)\n",
      "memory usage: 2.4 MB\n"
     ]
    }
   ],
   "source": [
    "columns_titles = ['additional_fare','duration','meter_waiting','meter_waiting_fare','meter_waiting_till_pickup','pick_lat','pick_lon','drop_lat','drop_lon','fare','additional_fare_is_outlier','meter_waiting_fare_is_outlier','fare_is_outlier','pickup_hour','pickup_day_of_week','is_outlier_loc','trip_distance','label']\n",
    "#columns_titles = ['additional_fare','duration','meter_waiting','meter_waiting_fare','meter_waiting_till_pickup','pick_lat','pick_lon','drop_lat','drop_lon','fare','additional_fare_is_outlier','meter_waiting_fare_is_outlier','fare_is_outlier','pickup_hour','pickup_day_of_week','is_outlier_loc','trip_distance','label','additional_fare_is_outlier','meter_waiting_fare_is_outlier','fare_is_outlier']\n",
    "train_1=train_1.reindex(columns=columns_titles)\n",
    "train_1.info()"
   ]
  },
  {
   "cell_type": "code",
   "execution_count": 73,
   "metadata": {
    "colab": {
     "base_uri": "https://localhost:8080/",
     "height": 51
    },
    "colab_type": "code",
    "executionInfo": {
     "elapsed": 1297,
     "status": "ok",
     "timestamp": 1590262559840,
     "user": {
      "displayName": "Lahiru Senevirathne",
      "photoUrl": "https://lh3.googleusercontent.com/a-/AOh14GiRzF3KfxeuLmDoDB90oNXQ5_ivLn8-Ar4kecdc=s64",
      "userId": "12627549003426465017"
     },
     "user_tz": -330
    },
    "id": "wajA9p8B1DLv",
    "outputId": "68365cb3-7b2c-455e-df5f-6cc1fdb94e88"
   },
   "outputs": [
    {
     "name": "stdout",
     "output_type": "stream",
     "text": [
      "\n",
      "Categorical Variables indices :  [10, 11, 12, 13, 14, 15]\n"
     ]
    }
   ],
   "source": [
    "categorical_var = ['additional_fare_is_outlier','meter_waiting_fare_is_outlier','fare_is_outlier','pickup_hour','pickup_day_of_week','is_outlier_loc'] \n",
    "# categorical_var = ['pickup_hour'] \n",
    "categorical_var_indices = [train_1.columns.get_loc(c) for c in categorical_var if c in train_1]\n",
    "print('\\nCategorical Variables indices : ',categorical_var_indices)"
   ]
  },
  {
   "cell_type": "code",
   "execution_count": 74,
   "metadata": {},
   "outputs": [
    {
     "name": "stdout",
     "output_type": "stream",
     "text": [
      "<class 'pandas.core.frame.DataFrame'>\n",
      "RangeIndex: 17176 entries, 0 to 17175\n",
      "Data columns (total 18 columns):\n",
      " #   Column                         Non-Null Count  Dtype  \n",
      "---  ------                         --------------  -----  \n",
      " 0   additional_fare                16974 non-null  float64\n",
      " 1   duration                       16974 non-null  float64\n",
      " 2   meter_waiting                  16974 non-null  float64\n",
      " 3   meter_waiting_fare             16974 non-null  float64\n",
      " 4   meter_waiting_till_pickup      16974 non-null  float64\n",
      " 5   pick_lat                       17176 non-null  float64\n",
      " 6   pick_lon                       17176 non-null  float64\n",
      " 7   drop_lat                       17176 non-null  float64\n",
      " 8   drop_lon                       17176 non-null  float64\n",
      " 9   fare                           17039 non-null  float64\n",
      " 10  additional_fare_is_outlier     17176 non-null  int64  \n",
      " 11  meter_waiting_fare_is_outlier  17176 non-null  int64  \n",
      " 12  fare_is_outlier                17176 non-null  int64  \n",
      " 13  pickup_hour                    17176 non-null  int64  \n",
      " 14  pickup_day_of_week             17176 non-null  int64  \n",
      " 15  is_outlier_loc                 17176 non-null  int64  \n",
      " 16  trip_distance                  17176 non-null  float64\n",
      " 17  label                          17176 non-null  int64  \n",
      "dtypes: float64(11), int64(7)\n",
      "memory usage: 2.4 MB\n"
     ]
    }
   ],
   "source": [
    "train_1.info()"
   ]
  },
  {
   "cell_type": "code",
   "execution_count": 75,
   "metadata": {
    "colab": {},
    "colab_type": "code",
    "id": "ls8ttUXWBHDc"
   },
   "outputs": [],
   "source": [
    "# train_1=pd.get_dummies(train_1)\n",
    "# test_1=pd.get_dummies(test_1)\n",
    "\n",
    "# print(\"Shape of Training Data after One Hot Encoding\",train_1.shape)\n",
    "# print(\"Shape of Testing Data after One Hot Encoding\",test_1.shape)"
   ]
  },
  {
   "cell_type": "code",
   "execution_count": 76,
   "metadata": {
    "colab": {
     "base_uri": "https://localhost:8080/",
     "height": 51
    },
    "colab_type": "code",
    "executionInfo": {
     "elapsed": 1325,
     "status": "ok",
     "timestamp": 1590261509688,
     "user": {
      "displayName": "Lahiru Senevirathne",
      "photoUrl": "https://lh3.googleusercontent.com/a-/AOh14GiRzF3KfxeuLmDoDB90oNXQ5_ivLn8-Ar4kecdc=s64",
      "userId": "12627549003426465017"
     },
     "user_tz": -330
    },
    "id": "s2jVQlWGWs23",
    "outputId": "435e859e-af5e-40e7-b7e4-9c0629f279cc"
   },
   "outputs": [],
   "source": [
    "# print('Old size: %d' % len(train))\n",
    "# train_1 = train_1.dropna()\n",
    "# print('New size: %d' % len(train))"
   ]
  },
  {
   "cell_type": "code",
   "execution_count": 77,
   "metadata": {
    "colab": {},
    "colab_type": "code",
    "id": "pe21G-qjBNhn"
   },
   "outputs": [],
   "source": [
    "X=train_1.drop(['label'],axis=1)\n",
    "y=train_1['label']"
   ]
  },
  {
   "cell_type": "code",
   "execution_count": 78,
   "metadata": {
    "colab": {
     "base_uri": "https://localhost:8080/",
     "height": 51
    },
    "colab_type": "code",
    "executionInfo": {
     "elapsed": 1641,
     "status": "ok",
     "timestamp": 1590262575679,
     "user": {
      "displayName": "Lahiru Senevirathne",
      "photoUrl": "https://lh3.googleusercontent.com/a-/AOh14GiRzF3KfxeuLmDoDB90oNXQ5_ivLn8-Ar4kecdc=s64",
      "userId": "12627549003426465017"
     },
     "user_tz": -330
    },
    "id": "PYOT8bVtBt5o",
    "outputId": "d634af41-5d59-4a24-bb9d-a06963f14cea"
   },
   "outputs": [
    {
     "name": "stdout",
     "output_type": "stream",
     "text": [
      "Number of records in training data  13740\n",
      "Number of records in validation data  3436\n"
     ]
    }
   ],
   "source": [
    "#split data into train and validation data\n",
    "X_train, X_test, y_train, y_test = train_test_split(X,y, test_size=0.2)\n",
    "print(\"Number of records in training data \",X_train.shape[0])\n",
    "print(\"Number of records in validation data \",X_test.shape[0])"
   ]
  },
  {
   "cell_type": "markdown",
   "metadata": {
    "colab_type": "text",
    "id": "Z1ltsV7k2xnK"
   },
   "source": [
    "# Classifiers"
   ]
  },
  {
   "cell_type": "markdown",
   "metadata": {
    "colab_type": "text",
    "id": "b-KJaXJFld6d"
   },
   "source": [
    "## XGBoost CLassifier"
   ]
  },
  {
   "cell_type": "code",
   "execution_count": 79,
   "metadata": {
    "colab": {
     "base_uri": "https://localhost:8080/",
     "height": 136
    },
    "colab_type": "code",
    "executionInfo": {
     "elapsed": 2460,
     "status": "ok",
     "timestamp": 1589456687151,
     "user": {
      "displayName": "Lahiru Senevirathne",
      "photoUrl": "https://lh3.googleusercontent.com/a-/AOh14GiRzF3KfxeuLmDoDB90oNXQ5_ivLn8-Ar4kecdc=s64",
      "userId": "12627549003426465017"
     },
     "user_tz": -330
    },
    "id": "pe0jYgbgjPv9",
    "outputId": "ce0f1e3e-2ecc-4196-c7a1-e9820d2c55bb"
   },
   "outputs": [],
   "source": [
    "# model = XGBClassifier()\n",
    "# model.fit(X_train, y_train)"
   ]
  },
  {
   "cell_type": "markdown",
   "metadata": {
    "colab_type": "text",
    "id": "X-T6KE7ellhg"
   },
   "source": [
    "## Linear Regression Classifier"
   ]
  },
  {
   "cell_type": "code",
   "execution_count": 80,
   "metadata": {
    "colab": {
     "base_uri": "https://localhost:8080/",
     "height": 34
    },
    "colab_type": "code",
    "executionInfo": {
     "elapsed": 1169,
     "status": "ok",
     "timestamp": 1589456888449,
     "user": {
      "displayName": "Lahiru Senevirathne",
      "photoUrl": "https://lh3.googleusercontent.com/a-/AOh14GiRzF3KfxeuLmDoDB90oNXQ5_ivLn8-Ar4kecdc=s64",
      "userId": "12627549003426465017"
     },
     "user_tz": -330
    },
    "id": "TQonOSC1BwEM",
    "outputId": "cad85110-3756-4904-aee7-0457e987ceb2"
   },
   "outputs": [],
   "source": [
    "# model = LinearRegression()\n",
    "# model.fit(X_train,y_train)\n",
    "# # y_pred=model.predict(X_test)\n",
    "# # lm_rmse=np.sqrt(mean_squared_error(y_pred, y_test))\n",
    "# # print(\"RMSE for Linear Regression is \",lm_rmse)\n"
   ]
  },
  {
   "cell_type": "markdown",
   "metadata": {
    "colab_type": "text",
    "id": "3P9t2QBpj6Kz"
   },
   "source": [
    "## LGBM Classifier"
   ]
  },
  {
   "cell_type": "code",
   "execution_count": 81,
   "metadata": {
    "colab": {},
    "colab_type": "code",
    "id": "Rn8yjzQPywMH"
   },
   "outputs": [],
   "source": [
    "# estimator = lgb.LGBMClassifier(learning_rate = 0.125, metric = 'l1', \n",
    "#                         n_estimators = 20, num_leaves = 38)\n",
    "\n",
    "\n",
    "# param_grid = {\n",
    "#     'n_estimators': [x for x in range(24,40,2)],\n",
    "#     'learning_rate': [0.10, 0.125, 0.15, 0.175, 0.2]}\n",
    "# gridsearch = GridSearchCV(estimator, param_grid)\n",
    "\n",
    "# gridsearch.fit(X_train, y_train,\n",
    "#         eval_set = [(X_test, y_test)],\n",
    "#         eval_metric = ['auc', 'binary_logloss'],\n",
    "#         early_stopping_rounds = 5)"
   ]
  },
  {
   "cell_type": "code",
   "execution_count": 82,
   "metadata": {
    "colab": {
     "base_uri": "https://localhost:8080/",
     "height": 527
    },
    "colab_type": "code",
    "executionInfo": {
     "elapsed": 1483,
     "status": "ok",
     "timestamp": 1589454139232,
     "user": {
      "displayName": "Lahiru Senevirathne",
      "photoUrl": "https://lh3.googleusercontent.com/a-/AOh14GiRzF3KfxeuLmDoDB90oNXQ5_ivLn8-Ar4kecdc=s64",
      "userId": "12627549003426465017"
     },
     "user_tz": -330
    },
    "id": "PKfZjESdzgrj",
    "outputId": "718792bd-75ea-4dba-a120-4b88924eb437"
   },
   "outputs": [],
   "source": [
    "# gbm = lgb.LGBMClassifier(boosting_type='gbdt', class_weight=None,\n",
    "#                                       colsample_bytree=1.0,\n",
    "#                                       importance_type='split',\n",
    "#                                       learning_rate=0.125, max_depth=-1,\n",
    "#                                       metric='l1', min_child_samples=20,\n",
    "#                                       min_child_weight=0.001,\n",
    "#                                       min_split_gain=0.0, n_estimators=20,\n",
    "#                                       n_jobs=-1, num_leaves=38, objective=None,\n",
    "#                                       random_state=None, reg_alpha=0.0,\n",
    "#                                       reg_lambda=0.0, silent=True,\n",
    "#                                       subsample=1.0, subsample_for_bin=200000,\n",
    "#                                       subsample_freq=0)\n",
    "\n",
    "\n",
    "# gbm.fit(X, y,\n",
    "#         eval_set=[(X_test, y_test)],\n",
    "#         eval_metric=['auc', 'binary_logloss'],\n",
    "# early_stopping_rounds=5)"
   ]
  },
  {
   "cell_type": "code",
   "execution_count": 83,
   "metadata": {
    "colab": {
     "base_uri": "https://localhost:8080/",
     "height": 390
    },
    "colab_type": "code",
    "executionInfo": {
     "elapsed": 1145,
     "status": "ok",
     "timestamp": 1589135363012,
     "user": {
      "displayName": "Lahiru Senevirathne",
      "photoUrl": "https://lh3.googleusercontent.com/a-/AOh14GiRzF3KfxeuLmDoDB90oNXQ5_ivLn8-Ar4kecdc=s64",
      "userId": "12627549003426465017"
     },
     "user_tz": -330
    },
    "id": "Qceep_VbzMda",
    "outputId": "652ddf62-dd98-40c5-ebf0-0f9ed63bb7b2"
   },
   "outputs": [],
   "source": [
    "# ax = lgb.plot_importance(gbm, height = 0.4, \n",
    "#                          max_num_features = 50, \n",
    "#                          xlim = (0,100), ylim = (0,23), \n",
    "#                          figsize = (10,6))\n",
    "# plt.show()"
   ]
  },
  {
   "cell_type": "code",
   "execution_count": 84,
   "metadata": {
    "colab": {
     "base_uri": "https://localhost:8080/",
     "height": 34
    },
    "colab_type": "code",
    "executionInfo": {
     "elapsed": 1116,
     "status": "ok",
     "timestamp": 1589135101683,
     "user": {
      "displayName": "Lahiru Senevirathne",
      "photoUrl": "https://lh3.googleusercontent.com/a-/AOh14GiRzF3KfxeuLmDoDB90oNXQ5_ivLn8-Ar4kecdc=s64",
      "userId": "12627549003426465017"
     },
     "user_tz": -330
    },
    "id": "yqt1AZk51T5V",
    "outputId": "b63501cb-d751-4527-e8ee-279b30ff5856"
   },
   "outputs": [],
   "source": [
    "# sorted(gbm.feature_importances_,reverse=True)"
   ]
  },
  {
   "cell_type": "code",
   "execution_count": 85,
   "metadata": {
    "colab": {
     "base_uri": "https://localhost:8080/",
     "height": 170
    },
    "colab_type": "code",
    "executionInfo": {
     "elapsed": 1004,
     "status": "ok",
     "timestamp": 1589135151740,
     "user": {
      "displayName": "Lahiru Senevirathne",
      "photoUrl": "https://lh3.googleusercontent.com/a-/AOh14GiRzF3KfxeuLmDoDB90oNXQ5_ivLn8-Ar4kecdc=s64",
      "userId": "12627549003426465017"
     },
     "user_tz": -330
    },
    "id": "ReMXat-P1gRz",
    "outputId": "a06e52e4-c354-47f6-dba4-6522ba6e3694"
   },
   "outputs": [],
   "source": [
    "\n",
    "# # The code below aims to drop  to keep the features that are included in the most important features. \n",
    "# temp = 0 \n",
    "# total = sum(gbm.feature_importances_)\n",
    "# for feature in sorted(gbm.feature_importances_, reverse=True):\n",
    "#     temp+=feature\n",
    "#     print(feature)\n",
    "#     if temp/total >= 0.85:\n",
    "#         print(feature,temp/total) # stop when we \n",
    "#         break"
   ]
  },
  {
   "cell_type": "code",
   "execution_count": 86,
   "metadata": {
    "colab": {},
    "colab_type": "code",
    "id": "AAWUWLX91mB0"
   },
   "outputs": [],
   "source": [
    "# #The above means let go of all variables after PAY_AMT_5\n",
    "# y_pred_prob = gbm.predict_proba(test_1)[:, 1]\n",
    "# # auc_roc_0 = str(roc_auc_score(y_test, y_pred_prob)) # store AUC score without dimensionality reduction\n",
    "# # print('AUC without dimensionality reduction: \\n' + auc_roc_0)"
   ]
  },
  {
   "cell_type": "code",
   "execution_count": 87,
   "metadata": {
    "colab": {
     "base_uri": "https://localhost:8080/",
     "height": 459
    },
    "colab_type": "code",
    "executionInfo": {
     "elapsed": 953,
     "status": "ok",
     "timestamp": 1589135411501,
     "user": {
      "displayName": "Lahiru Senevirathne",
      "photoUrl": "https://lh3.googleusercontent.com/a-/AOh14GiRzF3KfxeuLmDoDB90oNXQ5_ivLn8-Ar4kecdc=s64",
      "userId": "12627549003426465017"
     },
     "user_tz": -330
    },
    "id": "tt4UY6zj2Bll",
    "outputId": "855c9871-0345-4a2b-b4a6-ee406758c91f"
   },
   "outputs": [
    {
     "data": {
      "text/html": [
       "<div>\n",
       "<style scoped>\n",
       "    .dataframe tbody tr th:only-of-type {\n",
       "        vertical-align: middle;\n",
       "    }\n",
       "\n",
       "    .dataframe tbody tr th {\n",
       "        vertical-align: top;\n",
       "    }\n",
       "\n",
       "    .dataframe thead th {\n",
       "        text-align: right;\n",
       "    }\n",
       "</style>\n",
       "<table border=\"1\" class=\"dataframe\">\n",
       "  <thead>\n",
       "    <tr style=\"text-align: right;\">\n",
       "      <th></th>\n",
       "      <th>additional_fare</th>\n",
       "      <th>duration</th>\n",
       "      <th>meter_waiting</th>\n",
       "      <th>meter_waiting_fare</th>\n",
       "      <th>meter_waiting_till_pickup</th>\n",
       "      <th>pick_lat</th>\n",
       "      <th>pick_lon</th>\n",
       "      <th>drop_lat</th>\n",
       "      <th>drop_lon</th>\n",
       "      <th>fare</th>\n",
       "      <th>additional_fare_is_outlier</th>\n",
       "      <th>meter_waiting_fare_is_outlier</th>\n",
       "      <th>fare_is_outlier</th>\n",
       "      <th>pickup_hour</th>\n",
       "      <th>pickup_day_of_week</th>\n",
       "      <th>is_outlier_loc</th>\n",
       "      <th>trip_distance</th>\n",
       "    </tr>\n",
       "  </thead>\n",
       "  <tbody>\n",
       "    <tr>\n",
       "      <th>0</th>\n",
       "      <td>10.5</td>\n",
       "      <td>834.0</td>\n",
       "      <td>56.0</td>\n",
       "      <td>0.0000</td>\n",
       "      <td>64.0</td>\n",
       "      <td>6.86252</td>\n",
       "      <td>79.8993</td>\n",
       "      <td>6.90330</td>\n",
       "      <td>79.8783</td>\n",
       "      <td>270.32</td>\n",
       "      <td>0</td>\n",
       "      <td>0</td>\n",
       "      <td>0</td>\n",
       "      <td>0</td>\n",
       "      <td>5</td>\n",
       "      <td>0</td>\n",
       "      <td>3.164501</td>\n",
       "    </tr>\n",
       "    <tr>\n",
       "      <th>1</th>\n",
       "      <td>10.5</td>\n",
       "      <td>791.0</td>\n",
       "      <td>47.0</td>\n",
       "      <td>0.0000</td>\n",
       "      <td>134.0</td>\n",
       "      <td>6.88589</td>\n",
       "      <td>79.8984</td>\n",
       "      <td>6.91373</td>\n",
       "      <td>79.8923</td>\n",
       "      <td>197.85</td>\n",
       "      <td>0</td>\n",
       "      <td>0</td>\n",
       "      <td>0</td>\n",
       "      <td>0</td>\n",
       "      <td>5</td>\n",
       "      <td>0</td>\n",
       "      <td>1.968540</td>\n",
       "    </tr>\n",
       "    <tr>\n",
       "      <th>2</th>\n",
       "      <td>10.5</td>\n",
       "      <td>1087.0</td>\n",
       "      <td>80.0</td>\n",
       "      <td>0.0000</td>\n",
       "      <td>61.0</td>\n",
       "      <td>6.90839</td>\n",
       "      <td>79.8651</td>\n",
       "      <td>6.93669</td>\n",
       "      <td>79.9146</td>\n",
       "      <td>301.64</td>\n",
       "      <td>0</td>\n",
       "      <td>0</td>\n",
       "      <td>0</td>\n",
       "      <td>1</td>\n",
       "      <td>5</td>\n",
       "      <td>0</td>\n",
       "      <td>3.917991</td>\n",
       "    </tr>\n",
       "    <tr>\n",
       "      <th>3</th>\n",
       "      <td>10.5</td>\n",
       "      <td>598.0</td>\n",
       "      <td>271.0</td>\n",
       "      <td>15.6638</td>\n",
       "      <td>68.0</td>\n",
       "      <td>6.92570</td>\n",
       "      <td>79.8895</td>\n",
       "      <td>6.92748</td>\n",
       "      <td>79.8971</td>\n",
       "      <td>82.30</td>\n",
       "      <td>0</td>\n",
       "      <td>0</td>\n",
       "      <td>0</td>\n",
       "      <td>2</td>\n",
       "      <td>5</td>\n",
       "      <td>0</td>\n",
       "      <td>0.535588</td>\n",
       "    </tr>\n",
       "    <tr>\n",
       "      <th>4</th>\n",
       "      <td>NaN</td>\n",
       "      <td>NaN</td>\n",
       "      <td>NaN</td>\n",
       "      <td>NaN</td>\n",
       "      <td>NaN</td>\n",
       "      <td>6.87441</td>\n",
       "      <td>79.8615</td>\n",
       "      <td>6.84478</td>\n",
       "      <td>79.9290</td>\n",
       "      <td>358.39</td>\n",
       "      <td>1</td>\n",
       "      <td>1</td>\n",
       "      <td>0</td>\n",
       "      <td>3</td>\n",
       "      <td>5</td>\n",
       "      <td>0</td>\n",
       "      <td>5.062797</td>\n",
       "    </tr>\n",
       "    <tr>\n",
       "      <th>...</th>\n",
       "      <td>...</td>\n",
       "      <td>...</td>\n",
       "      <td>...</td>\n",
       "      <td>...</td>\n",
       "      <td>...</td>\n",
       "      <td>...</td>\n",
       "      <td>...</td>\n",
       "      <td>...</td>\n",
       "      <td>...</td>\n",
       "      <td>...</td>\n",
       "      <td>...</td>\n",
       "      <td>...</td>\n",
       "      <td>...</td>\n",
       "      <td>...</td>\n",
       "      <td>...</td>\n",
       "      <td>...</td>\n",
       "      <td>...</td>\n",
       "    </tr>\n",
       "    <tr>\n",
       "      <th>17171</th>\n",
       "      <td>10.5</td>\n",
       "      <td>838.0</td>\n",
       "      <td>93.0</td>\n",
       "      <td>5.4219</td>\n",
       "      <td>451.0</td>\n",
       "      <td>7.29073</td>\n",
       "      <td>80.6367</td>\n",
       "      <td>7.28891</td>\n",
       "      <td>80.6557</td>\n",
       "      <td>198.26</td>\n",
       "      <td>0</td>\n",
       "      <td>0</td>\n",
       "      <td>0</td>\n",
       "      <td>22</td>\n",
       "      <td>5</td>\n",
       "      <td>0</td>\n",
       "      <td>1.308220</td>\n",
       "    </tr>\n",
       "    <tr>\n",
       "      <th>17172</th>\n",
       "      <td>10.5</td>\n",
       "      <td>2151.0</td>\n",
       "      <td>428.0</td>\n",
       "      <td>0.0000</td>\n",
       "      <td>39.0</td>\n",
       "      <td>6.90569</td>\n",
       "      <td>79.8516</td>\n",
       "      <td>6.95089</td>\n",
       "      <td>79.9389</td>\n",
       "      <td>581.23</td>\n",
       "      <td>0</td>\n",
       "      <td>0</td>\n",
       "      <td>0</td>\n",
       "      <td>23</td>\n",
       "      <td>5</td>\n",
       "      <td>0</td>\n",
       "      <td>6.753297</td>\n",
       "    </tr>\n",
       "    <tr>\n",
       "      <th>17173</th>\n",
       "      <td>10.5</td>\n",
       "      <td>263.0</td>\n",
       "      <td>9.0</td>\n",
       "      <td>0.0000</td>\n",
       "      <td>110.0</td>\n",
       "      <td>7.09210</td>\n",
       "      <td>79.9000</td>\n",
       "      <td>7.10135</td>\n",
       "      <td>79.9017</td>\n",
       "      <td>76.20</td>\n",
       "      <td>0</td>\n",
       "      <td>0</td>\n",
       "      <td>0</td>\n",
       "      <td>23</td>\n",
       "      <td>5</td>\n",
       "      <td>0</td>\n",
       "      <td>0.649655</td>\n",
       "    </tr>\n",
       "    <tr>\n",
       "      <th>17174</th>\n",
       "      <td>10.5</td>\n",
       "      <td>858.0</td>\n",
       "      <td>115.0</td>\n",
       "      <td>0.0000</td>\n",
       "      <td>317.0</td>\n",
       "      <td>6.94540</td>\n",
       "      <td>79.8768</td>\n",
       "      <td>6.93574</td>\n",
       "      <td>79.9010</td>\n",
       "      <td>133.31</td>\n",
       "      <td>0</td>\n",
       "      <td>0</td>\n",
       "      <td>0</td>\n",
       "      <td>23</td>\n",
       "      <td>5</td>\n",
       "      <td>0</td>\n",
       "      <td>1.788975</td>\n",
       "    </tr>\n",
       "    <tr>\n",
       "      <th>17175</th>\n",
       "      <td>10.5</td>\n",
       "      <td>262.0</td>\n",
       "      <td>21.0</td>\n",
       "      <td>1.2243</td>\n",
       "      <td>23.0</td>\n",
       "      <td>6.90257</td>\n",
       "      <td>79.9557</td>\n",
       "      <td>6.90823</td>\n",
       "      <td>79.9374</td>\n",
       "      <td>98.57</td>\n",
       "      <td>0</td>\n",
       "      <td>0</td>\n",
       "      <td>0</td>\n",
       "      <td>23</td>\n",
       "      <td>5</td>\n",
       "      <td>0</td>\n",
       "      <td>1.314744</td>\n",
       "    </tr>\n",
       "  </tbody>\n",
       "</table>\n",
       "<p>17176 rows × 17 columns</p>\n",
       "</div>"
      ],
      "text/plain": [
       "       additional_fare  duration  meter_waiting  meter_waiting_fare  \\\n",
       "0                 10.5     834.0           56.0              0.0000   \n",
       "1                 10.5     791.0           47.0              0.0000   \n",
       "2                 10.5    1087.0           80.0              0.0000   \n",
       "3                 10.5     598.0          271.0             15.6638   \n",
       "4                  NaN       NaN            NaN                 NaN   \n",
       "...                ...       ...            ...                 ...   \n",
       "17171             10.5     838.0           93.0              5.4219   \n",
       "17172             10.5    2151.0          428.0              0.0000   \n",
       "17173             10.5     263.0            9.0              0.0000   \n",
       "17174             10.5     858.0          115.0              0.0000   \n",
       "17175             10.5     262.0           21.0              1.2243   \n",
       "\n",
       "       meter_waiting_till_pickup  pick_lat  pick_lon  drop_lat  drop_lon  \\\n",
       "0                           64.0   6.86252   79.8993   6.90330   79.8783   \n",
       "1                          134.0   6.88589   79.8984   6.91373   79.8923   \n",
       "2                           61.0   6.90839   79.8651   6.93669   79.9146   \n",
       "3                           68.0   6.92570   79.8895   6.92748   79.8971   \n",
       "4                            NaN   6.87441   79.8615   6.84478   79.9290   \n",
       "...                          ...       ...       ...       ...       ...   \n",
       "17171                      451.0   7.29073   80.6367   7.28891   80.6557   \n",
       "17172                       39.0   6.90569   79.8516   6.95089   79.9389   \n",
       "17173                      110.0   7.09210   79.9000   7.10135   79.9017   \n",
       "17174                      317.0   6.94540   79.8768   6.93574   79.9010   \n",
       "17175                       23.0   6.90257   79.9557   6.90823   79.9374   \n",
       "\n",
       "         fare  additional_fare_is_outlier  meter_waiting_fare_is_outlier  \\\n",
       "0      270.32                           0                              0   \n",
       "1      197.85                           0                              0   \n",
       "2      301.64                           0                              0   \n",
       "3       82.30                           0                              0   \n",
       "4      358.39                           1                              1   \n",
       "...       ...                         ...                            ...   \n",
       "17171  198.26                           0                              0   \n",
       "17172  581.23                           0                              0   \n",
       "17173   76.20                           0                              0   \n",
       "17174  133.31                           0                              0   \n",
       "17175   98.57                           0                              0   \n",
       "\n",
       "       fare_is_outlier  pickup_hour  pickup_day_of_week  is_outlier_loc  \\\n",
       "0                    0            0                   5               0   \n",
       "1                    0            0                   5               0   \n",
       "2                    0            1                   5               0   \n",
       "3                    0            2                   5               0   \n",
       "4                    0            3                   5               0   \n",
       "...                ...          ...                 ...             ...   \n",
       "17171                0           22                   5               0   \n",
       "17172                0           23                   5               0   \n",
       "17173                0           23                   5               0   \n",
       "17174                0           23                   5               0   \n",
       "17175                0           23                   5               0   \n",
       "\n",
       "       trip_distance  \n",
       "0           3.164501  \n",
       "1           1.968540  \n",
       "2           3.917991  \n",
       "3           0.535588  \n",
       "4           5.062797  \n",
       "...              ...  \n",
       "17171       1.308220  \n",
       "17172       6.753297  \n",
       "17173       0.649655  \n",
       "17174       1.788975  \n",
       "17175       1.314744  \n",
       "\n",
       "[17176 rows x 17 columns]"
      ]
     },
     "execution_count": 87,
     "metadata": {},
     "output_type": "execute_result"
    }
   ],
   "source": [
    "X"
   ]
  },
  {
   "cell_type": "code",
   "execution_count": 88,
   "metadata": {
    "colab": {},
    "colab_type": "code",
    "id": "lG85vZKE1w8N"
   },
   "outputs": [],
   "source": [
    "# #We can choose to drop the last 6 features from in our new model to reduce dimensionality, and thus save training time and space\n",
    "\n",
    "# X = X_train.drop(['additional_fare','pickup_day_of_week','pickup_month','pickup_day'], axis=1)"
   ]
  },
  {
   "cell_type": "markdown",
   "metadata": {
    "colab_type": "text",
    "id": "sgb-q7VPqMRg"
   },
   "source": [
    "## CatBoost"
   ]
  },
  {
   "cell_type": "code",
   "execution_count": 89,
   "metadata": {
    "colab": {
     "base_uri": "https://localhost:8080/",
     "height": 275
    },
    "colab_type": "code",
    "executionInfo": {
     "elapsed": 6083,
     "status": "ok",
     "timestamp": 1590261528651,
     "user": {
      "displayName": "Lahiru Senevirathne",
      "photoUrl": "https://lh3.googleusercontent.com/a-/AOh14GiRzF3KfxeuLmDoDB90oNXQ5_ivLn8-Ar4kecdc=s64",
      "userId": "12627549003426465017"
     },
     "user_tz": -330
    },
    "id": "1104kWTYqLyr",
    "outputId": "dcce01fc-143c-446a-9001-62b9f8b946fc"
   },
   "outputs": [],
   "source": [
    "# !pip install catboost"
   ]
  },
  {
   "cell_type": "code",
   "execution_count": 90,
   "metadata": {
    "colab": {
     "base_uri": "https://localhost:8080/",
     "height": 34
    },
    "colab_type": "code",
    "executionInfo": {
     "elapsed": 520188,
     "status": "ok",
     "timestamp": 1590264282459,
     "user": {
      "displayName": "Lahiru Senevirathne",
      "photoUrl": "https://lh3.googleusercontent.com/a-/AOh14GiRzF3KfxeuLmDoDB90oNXQ5_ivLn8-Ar4kecdc=s64",
      "userId": "12627549003426465017"
     },
     "user_tz": -330
    },
    "id": "ZjU4-lsvqTBh",
    "outputId": "b44f59a6-ac76-40c2-8c0e-39b437d8477d"
   },
   "outputs": [],
   "source": [
    "from catboost import CatBoostClassifier\n",
    "\n",
    "\n",
    "model = CatBoostClassifier(iterations=10000, \n",
    "                           cat_features=categorical_var_indices, \n",
    "#                            task_type=\"GPU\",\n",
    "                           devices='0:1',\n",
    "                           nan_mode='Max')\n",
    "\n",
    "# model.fit(X,\n",
    "#           y,\n",
    "#           verbose=True)\n",
    "\n",
    "\n"
   ]
  },
  {
   "cell_type": "code",
   "execution_count": null,
   "metadata": {},
   "outputs": [],
   "source": [
    "parameters = {'depth'         : sp_randInt(4, 10),\n",
    "              'learning_rate' : sp_randFloat(),\n",
    "              'iterations'    : sp_randInt(10, 100)\n",
    "             }\n",
    "\n",
    "randm = RandomizedSearchCV(estimator=model, param_distributions = parameters, \n",
    "                           cv = 2, n_iter = 10000, n_jobs=-1)\n",
    "randm.fit(X, y)\n",
    "\n",
    "# Results from Random Search\n",
    "print(\"\\n========================================================\")\n",
    "print(\" Results from Random Search \" )\n",
    "print(\"========================================================\")    \n",
    "\n",
    "print(\"\\n The best estimator across ALL searched params:\\n\",\n",
    "      randm.best_estimator_)\n",
    "\n",
    "print(\"\\n The best score across ALL searched params:\\n\",\n",
    "      randm.best_score_)\n",
    "\n",
    "print(\"\\n The best parameters across ALL searched params:\\n\",\n",
    "      randm.best_params_)\n",
    "\n",
    "print(\"\\n ========================================================\")"
   ]
  },
  {
   "cell_type": "markdown",
   "metadata": {
    "colab_type": "text",
    "id": "63nPLoMQ24ed"
   },
   "source": [
    "#Test Model"
   ]
  },
  {
   "cell_type": "code",
   "execution_count": 100,
   "metadata": {
    "colab": {
     "base_uri": "https://localhost:8080/",
     "height": 34
    },
    "colab_type": "code",
    "executionInfo": {
     "elapsed": 1311,
     "status": "ok",
     "timestamp": 1590262615659,
     "user": {
      "displayName": "Lahiru Senevirathne",
      "photoUrl": "https://lh3.googleusercontent.com/a-/AOh14GiRzF3KfxeuLmDoDB90oNXQ5_ivLn8-Ar4kecdc=s64",
      "userId": "12627549003426465017"
     },
     "user_tz": -330
    },
    "id": "aSXfx4t85jBi",
    "outputId": "72924af8-52fa-42fd-bdae-741449af5b7f"
   },
   "outputs": [
    {
     "data": {
      "text/plain": [
       "(array([0, 1]), array([ 280, 3156]))"
      ]
     },
     "execution_count": 100,
     "metadata": {},
     "output_type": "execute_result"
    }
   ],
   "source": [
    "predictions = model.predict(X_test)\n",
    "predictions = [round(value) for value in predictions]\n",
    "np.unique(predictions , return_counts=True) "
   ]
  },
  {
   "cell_type": "code",
   "execution_count": 106,
   "metadata": {
    "colab": {
     "base_uri": "https://localhost:8080/",
     "height": 68
    },
    "colab_type": "code",
    "executionInfo": {
     "elapsed": 2117,
     "status": "ok",
     "timestamp": 1590262619192,
     "user": {
      "displayName": "Lahiru Senevirathne",
      "photoUrl": "https://lh3.googleusercontent.com/a-/AOh14GiRzF3KfxeuLmDoDB90oNXQ5_ivLn8-Ar4kecdc=s64",
      "userId": "12627549003426465017"
     },
     "user_tz": -330
    },
    "id": "ZivWugF9_sMg",
    "outputId": "6b50ac00-485b-4fd7-dbee-3e01ce9570c9"
   },
   "outputs": [
    {
     "name": "stdout",
     "output_type": "stream",
     "text": [
      "Accuracy: 97.70%\n",
      "Macro F1: 93.03%\n",
      "Binary F1: 98.74%\n"
     ]
    }
   ],
   "source": [
    "accuracy = accuracy_score(y_test, predictions)\n",
    "f1_macro = f1_score(y_test, predictions, average='macro')\n",
    "f1_binary = f1_score(y_test, predictions, average='binary')\n",
    "print(\"Accuracy: %.2f%%\" % (accuracy * 100.0))\n",
    "print(\"Macro F1: %.2f%%\" % (f1_macro * 100.0))\n",
    "print(\"Binary F1: %.2f%%\" % (f1_binary * 100.0))"
   ]
  },
  {
   "cell_type": "markdown",
   "metadata": {
    "colab_type": "text",
    "id": "AIGfpDZR8sme"
   },
   "source": [
    "## Results\n",
    "\n",
    "Accuracy: 97.26%\n",
    "Macro F1: 92.10%\n",
    "Binary F1: 98.49%\n",
    "\n",
    "### catboost with categorical features removed month,year,nanmode=max 1000 epochs \n",
    "Accuracy: 96.07%\n",
    "Macro F1: 87.50%\n",
    "Binary F1: 97.85%\n",
    "\n",
    "### catboost with categorical features removed month,year1000 epochs \n",
    "Accuracy: 96.42%\n",
    "Macro F1: 88.33%\n",
    "Binary F1: 98.05%\n",
    "\n",
    "### catboost with categorical features 100000 epochs \n",
    "Accuracy: 96.16%\n",
    "Macro F1: 86.48%\n",
    "Binary F1: 97.92%\n",
    "Submission_score : 0.97375\n",
    "\n",
    "### catboost without dropping any feature with 400000 epochs\n",
    "\n",
    "Accuracy: 97.41%\n",
    "Macro F1: 90.87%\n",
    "Binary F1: 98.60%\n",
    "Submission Score : 0.97817\n",
    "\n",
    "### catboost without dropping any feature  with 100000 epochs\n",
    "\n",
    "<!-- Accuracy: 97.35%\n",
    "Macro F1: 90.63%\n",
    "Binary F1: 98.56%\n",
    "Submission Score : 0.97848 -->\n",
    "\n",
    "### catboost after normalizing to z score with 10000 epochs\n",
    "\n",
    "Accuracy: 96.70%\n",
    "Macro F1: 87.82%\n",
    "Binary F1: 98.22%\n",
    "\n",
    "### catboost without dropping any feature with 10000 epochs\n",
    "\n",
    "Accuracy: 96.82%\n",
    "Macro F1: 88.95%\n",
    "Binary F1: 98.27%\n",
    "Submission Score : 0.97788"
   ]
  },
  {
   "cell_type": "markdown",
   "metadata": {
    "colab_type": "text",
    "id": "bv6_QoEMln39"
   },
   "source": [
    "# Save Predictions"
   ]
  },
  {
   "cell_type": "code",
   "execution_count": 102,
   "metadata": {},
   "outputs": [
    {
     "name": "stdout",
     "output_type": "stream",
     "text": [
      "<class 'pandas.core.frame.DataFrame'>\n",
      "Int64Index: 3436 entries, 13188 to 12881\n",
      "Data columns (total 17 columns):\n",
      " #   Column                         Non-Null Count  Dtype  \n",
      "---  ------                         --------------  -----  \n",
      " 0   additional_fare                3396 non-null   float64\n",
      " 1   duration                       3396 non-null   float64\n",
      " 2   meter_waiting                  3396 non-null   float64\n",
      " 3   meter_waiting_fare             3396 non-null   float64\n",
      " 4   meter_waiting_till_pickup      3396 non-null   float64\n",
      " 5   pick_lat                       3436 non-null   float64\n",
      " 6   pick_lon                       3436 non-null   float64\n",
      " 7   drop_lat                       3436 non-null   float64\n",
      " 8   drop_lon                       3436 non-null   float64\n",
      " 9   fare                           3411 non-null   float64\n",
      " 10  additional_fare_is_outlier     3436 non-null   int64  \n",
      " 11  meter_waiting_fare_is_outlier  3436 non-null   int64  \n",
      " 12  fare_is_outlier                3436 non-null   int64  \n",
      " 13  pickup_hour                    3436 non-null   int64  \n",
      " 14  pickup_day_of_week             3436 non-null   int64  \n",
      " 15  is_outlier_loc                 3436 non-null   int64  \n",
      " 16  trip_distance                  3436 non-null   float64\n",
      "dtypes: float64(11), int64(6)\n",
      "memory usage: 483.2 KB\n",
      "<class 'pandas.core.frame.DataFrame'>\n",
      "RangeIndex: 8576 entries, 0 to 8575\n",
      "Data columns (total 17 columns):\n",
      " #   Column                         Non-Null Count  Dtype  \n",
      "---  ------                         --------------  -----  \n",
      " 0   additional_fare                8576 non-null   float64\n",
      " 1   duration                       8576 non-null   int64  \n",
      " 2   meter_waiting                  8576 non-null   int64  \n",
      " 3   meter_waiting_fare             8576 non-null   float64\n",
      " 4   meter_waiting_till_pickup      8576 non-null   int64  \n",
      " 5   pick_lat                       8576 non-null   float64\n",
      " 6   pick_lon                       8576 non-null   float64\n",
      " 7   drop_lat                       8576 non-null   float64\n",
      " 8   drop_lon                       8576 non-null   float64\n",
      " 9   fare                           8576 non-null   float64\n",
      " 10  additional_fare_is_outlier     8576 non-null   int64  \n",
      " 11  meter_waiting_fare_is_outlier  8576 non-null   int64  \n",
      " 12  fare_is_outlier                8576 non-null   int64  \n",
      " 13  pickup_hour                    8576 non-null   int64  \n",
      " 14  pickup_day_of_week             8576 non-null   int64  \n",
      " 15  is_outlier_loc                 8576 non-null   int64  \n",
      " 16  trip_distance                  8576 non-null   float64\n",
      "dtypes: float64(8), int64(9)\n",
      "memory usage: 1.1 MB\n"
     ]
    }
   ],
   "source": [
    "X_test.info()\n",
    "test_1.info()"
   ]
  },
  {
   "cell_type": "code",
   "execution_count": 103,
   "metadata": {
    "colab": {
     "base_uri": "https://localhost:8080/",
     "height": 34
    },
    "colab_type": "code",
    "executionInfo": {
     "elapsed": 1516,
     "status": "ok",
     "timestamp": 1590262789353,
     "user": {
      "displayName": "Lahiru Senevirathne",
      "photoUrl": "https://lh3.googleusercontent.com/a-/AOh14GiRzF3KfxeuLmDoDB90oNXQ5_ivLn8-Ar4kecdc=s64",
      "userId": "12627549003426465017"
     },
     "user_tz": -330
    },
    "id": "SCIoN2PlsG6q",
    "outputId": "ea2685dd-4b40-4af5-f18c-18981161b760"
   },
   "outputs": [
    {
     "data": {
      "text/plain": [
       "(array([0, 1]), array([ 364, 8212]))"
      ]
     },
     "execution_count": 103,
     "metadata": {},
     "output_type": "execute_result"
    }
   ],
   "source": [
    "predictions_1 = model.predict(test_1)\n",
    "# predictions_1 = [round(value) for value in y_pred_1]\n",
    "np.unique(predictions_1 , return_counts=True)"
   ]
  },
  {
   "cell_type": "code",
   "execution_count": 104,
   "metadata": {
    "colab": {},
    "colab_type": "code",
    "id": "gIMdwAXWDew2"
   },
   "outputs": [],
   "source": [
    "submission_df = pd.read_csv(\"predications_submission.csv\", \n",
    "                            index_col=\"tripid\")\n",
    "submission_df['prediction'] = predictions_1\n",
    "\n",
    "submission_df.to_csv('predictions/3_catboost_categorical(only_day_and_hour)_nanmode_max_100000_epochs_2.csv')"
   ]
  },
  {
   "cell_type": "code",
   "execution_count": 105,
   "metadata": {
    "colab": {},
    "colab_type": "code",
    "id": "6WAnxW31ZFeJ"
   },
   "outputs": [],
   "source": [
    "#  y_pred = pd.DataFrame({'prediction':predictions_1})\n",
    "#  y_pred[\"prediction\"] = y_pred[\"prediction\"].astype(int)\n",
    "#  y_pred['prediction'] = y_pred['prediction'].apply(lambda x: 0 if x < 0.5 else 1)\n",
    "#  y_pred.to_csv(\"predictions/predications_catboost_6_features_3_100000epochs.csv\")\n",
    "# y_pred.to_csv(\"/content/drive/My Drive/UNI/SEM7/CS4622_Machine_Learning/Project_1/Fair_Classification/predictions/predications_catboost_6_features_3_400000epochs.csv\")"
   ]
  }
 ],
 "metadata": {
  "accelerator": "GPU",
  "colab": {
   "collapsed_sections": [
    "b-KJaXJFld6d",
    "X-T6KE7ellhg",
    "3P9t2QBpj6Kz"
   ],
   "name": "Model.ipynb",
   "provenance": []
  },
  "kernelspec": {
   "display_name": "Python 3",
   "language": "python",
   "name": "python3"
  },
  "language_info": {
   "codemirror_mode": {
    "name": "ipython",
    "version": 3
   },
   "file_extension": ".py",
   "mimetype": "text/x-python",
   "name": "python",
   "nbconvert_exporter": "python",
   "pygments_lexer": "ipython3",
   "version": "3.7.7"
  }
 },
 "nbformat": 4,
 "nbformat_minor": 1
}
