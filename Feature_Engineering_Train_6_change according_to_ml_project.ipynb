{
 "cells": [
  {
   "cell_type": "code",
   "execution_count": 27,
   "metadata": {
    "colab": {
     "base_uri": "https://localhost:8080/",
     "height": 34
    },
    "colab_type": "code",
    "executionInfo": {
     "elapsed": 1293,
     "status": "ok",
     "timestamp": 1590262101054,
     "user": {
      "displayName": "Lahiru Senevirathne",
      "photoUrl": "https://lh3.googleusercontent.com/a-/AOh14GiRzF3KfxeuLmDoDB90oNXQ5_ivLn8-Ar4kecdc=s64",
      "userId": "12627549003426465017"
     },
     "user_tz": -330
    },
    "id": "AGL4jldCRGTL",
    "outputId": "2064494b-df21-4b8e-f216-e833a2c92f33"
   },
   "outputs": [],
   "source": [
    "# cd /content/drive/My Drive/University/SEM7/CS4622_Machine_Learning/Project_1/Fair_Classification/"
   ]
  },
  {
   "cell_type": "markdown",
   "metadata": {
    "colab_type": "text",
    "id": "z9gaTCuHk-4N"
   },
   "source": [
    "# Import Statements"
   ]
  },
  {
   "cell_type": "code",
   "execution_count": 28,
   "metadata": {},
   "outputs": [],
   "source": [
    "# # pip install geopy\n",
    "# !pip install folium"
   ]
  },
  {
   "cell_type": "code",
   "execution_count": 29,
   "metadata": {
    "colab": {},
    "colab_type": "code",
    "id": "xIj52lEChBh8"
   },
   "outputs": [],
   "source": [
    "from scipy import stats\n",
    "import pandas as pd\n",
    "import matplotlib.pyplot as plt\n",
    "import seaborn as sns\n",
    "import numpy as np\n",
    "import warnings\n",
    "from datetime import datetime\n",
    "import calendar\n",
    "from math import sin, cos, sqrt, atan2, radians,asin\n",
    "# import folium\n",
    "# from folium import FeatureGroup, LayerControl, Map, Marker\n",
    "# from folium.plugins import HeatMap\n",
    "# from folium.plugins import TimestampedGeoJson\n",
    "# from folium.plugins import MarkerCluster\n",
    "from geopy.distance import great_circle\n",
    "import matplotlib.dates as mdates\n",
    "import matplotlib as mpl\n",
    "from datetime import timedelta\n",
    "import datetime as dt\n",
    "warnings.filterwarnings('ignore')\n",
    "pd.set_option('display.max_colwidth', -1)\n",
    "plt.style.use('fivethirtyeight')\n",
    "import folium\n",
    "from sklearn.cluster import KMeans\n",
    "from sklearn import preprocessing\n",
    "from sklearn.model_selection import train_test_split\n",
    "# from sklearn.preprocessing import Imputer\n",
    "from sklearn import linear_model\n",
    "from sklearn.metrics import mean_squared_error\n",
    "from sklearn.ensemble import RandomForestRegressor\n",
    "import pickle\n",
    "from geopy.distance import geodesic"
   ]
  },
  {
   "cell_type": "markdown",
   "metadata": {
    "colab_type": "text",
    "id": "x3X8jDKmlEEN"
   },
   "source": [
    "# Load Data"
   ]
  },
  {
   "cell_type": "code",
   "execution_count": 30,
   "metadata": {
    "colab": {},
    "colab_type": "code",
    "id": "NGBWNaEtggpA"
   },
   "outputs": [],
   "source": [
    "train  = pd.read_csv(\"train.csv\")\n",
    "test  = pd.read_csv(\"test.csv\")"
   ]
  },
  {
   "cell_type": "code",
   "execution_count": 31,
   "metadata": {
    "colab": {
     "base_uri": "https://localhost:8080/",
     "height": 34
    },
    "colab_type": "code",
    "executionInfo": {
     "elapsed": 1862,
     "status": "ok",
     "timestamp": 1590262101729,
     "user": {
      "displayName": "Lahiru Senevirathne",
      "photoUrl": "https://lh3.googleusercontent.com/a-/AOh14GiRzF3KfxeuLmDoDB90oNXQ5_ivLn8-Ar4kecdc=s64",
      "userId": "12627549003426465017"
     },
     "user_tz": -330
    },
    "id": "Fd_OkewrUKCQ",
    "outputId": "799019aa-eb68-4171-e2ff-3b3c304462d7"
   },
   "outputs": [
    {
     "name": "stdout",
     "output_type": "stream",
     "text": [
      "1681\n"
     ]
    }
   ],
   "source": [
    "print (train[train.label == 'incorrect'].shape[0])"
   ]
  },
  {
   "cell_type": "code",
   "execution_count": 32,
   "metadata": {
    "colab": {
     "base_uri": "https://localhost:8080/",
     "height": 357
    },
    "colab_type": "code",
    "executionInfo": {
     "elapsed": 1824,
     "status": "ok",
     "timestamp": 1590262101731,
     "user": {
      "displayName": "Lahiru Senevirathne",
      "photoUrl": "https://lh3.googleusercontent.com/a-/AOh14GiRzF3KfxeuLmDoDB90oNXQ5_ivLn8-Ar4kecdc=s64",
      "userId": "12627549003426465017"
     },
     "user_tz": -330
    },
    "id": "t8bHx3kWUa5L",
    "outputId": "0005054e-f405-4260-bbc0-f9f41b92d15f"
   },
   "outputs": [
    {
     "name": "stdout",
     "output_type": "stream",
     "text": [
      "<class 'pandas.core.frame.DataFrame'>\n",
      "RangeIndex: 8576 entries, 0 to 8575\n",
      "Data columns (total 13 columns):\n",
      " #   Column                     Non-Null Count  Dtype  \n",
      "---  ------                     --------------  -----  \n",
      " 0   tripid                     8576 non-null   int64  \n",
      " 1   additional_fare            8576 non-null   float64\n",
      " 2   duration                   8576 non-null   int64  \n",
      " 3   meter_waiting              8576 non-null   int64  \n",
      " 4   meter_waiting_fare         8576 non-null   float64\n",
      " 5   meter_waiting_till_pickup  8576 non-null   int64  \n",
      " 6   pickup_time                8576 non-null   object \n",
      " 7   drop_time                  8576 non-null   object \n",
      " 8   pick_lat                   8576 non-null   float64\n",
      " 9   pick_lon                   8576 non-null   float64\n",
      " 10  drop_lat                   8576 non-null   float64\n",
      " 11  drop_lon                   8576 non-null   float64\n",
      " 12  fare                       8576 non-null   float64\n",
      "dtypes: float64(7), int64(4), object(2)\n",
      "memory usage: 871.1+ KB\n"
     ]
    }
   ],
   "source": [
    "test.info()\n",
    "# train.isna().sum() \n",
    "# test.describe()"
   ]
  },
  {
   "cell_type": "markdown",
   "metadata": {
    "colab_type": "text",
    "id": "mBQF-W4zlPgz"
   },
   "source": [
    "# Data Cleaning"
   ]
  },
  {
   "cell_type": "markdown",
   "metadata": {
    "colab_type": "text",
    "id": "2Yy13ZjWIdXn"
   },
   "source": [
    "## Flag Outliers"
   ]
  },
  {
   "cell_type": "code",
   "execution_count": 33,
   "metadata": {
    "colab": {
     "base_uri": "https://localhost:8080/",
     "height": 85
    },
    "colab_type": "code",
    "executionInfo": {
     "elapsed": 2531,
     "status": "ok",
     "timestamp": 1590262102507,
     "user": {
      "displayName": "Lahiru Senevirathne",
      "photoUrl": "https://lh3.googleusercontent.com/a-/AOh14GiRzF3KfxeuLmDoDB90oNXQ5_ivLn8-Ar4kecdc=s64",
      "userId": "12627549003426465017"
     },
     "user_tz": -330
    },
    "id": "SKpoOnAEJSnA",
    "outputId": "ee5b6532-1af9-4efa-cc20-33eda148eb6e"
   },
   "outputs": [
    {
     "name": "stdout",
     "output_type": "stream",
     "text": [
      "Old size: 17176\n",
      "New size: 17176\n",
      "204\n",
      "1681\n"
     ]
    }
   ],
   "source": [
    "print('Old size: %d' % len(train))\n",
    "mean, std  =train.additional_fare.mean() , train.additional_fare.std()\n",
    "train['additional_fare_is_outlier'] = train['additional_fare'].apply(lambda x: 0 if (np.abs(x-mean) <= (3*std)) else 1)\n",
    "test['additional_fare_is_outlier'] = test['additional_fare'].apply(lambda x: 0 if (np.abs(x-mean) <= (3*std)) else 1)\n",
    "print('New size: %d' % len(train))\n",
    "print (train[train.additional_fare_is_outlier == 1].shape[0])\n",
    "print (train[train.label == 'incorrect'].shape[0])"
   ]
  },
  {
   "cell_type": "code",
   "execution_count": 34,
   "metadata": {
    "colab": {
     "base_uri": "https://localhost:8080/",
     "height": 85
    },
    "colab_type": "code",
    "executionInfo": {
     "elapsed": 2496,
     "status": "ok",
     "timestamp": 1590262102509,
     "user": {
      "displayName": "Lahiru Senevirathne",
      "photoUrl": "https://lh3.googleusercontent.com/a-/AOh14GiRzF3KfxeuLmDoDB90oNXQ5_ivLn8-Ar4kecdc=s64",
      "userId": "12627549003426465017"
     },
     "user_tz": -330
    },
    "id": "0UM4D7RYJ9J4",
    "outputId": "e576be31-f46c-4270-db28-3934ecbd4078"
   },
   "outputs": [
    {
     "name": "stdout",
     "output_type": "stream",
     "text": [
      "Old size: 17176\n",
      "New size: 17176\n",
      "22\n",
      "1681\n"
     ]
    }
   ],
   "source": [
    "print('Old size: %d' % len(train))\n",
    "mean, std  =train.meter_waiting_fare.mean() , train.meter_waiting_fare.std()\n",
    "train['meter_waiting_fare_is_outlier'] = train['meter_waiting_fare'].apply(lambda x: 0 if (np.abs(x-mean) <= (3*std)) else 1)\n",
    "test['meter_waiting_fare_is_outlier'] = test['meter_waiting_fare'].apply(lambda x: 0 if (np.abs(x-mean) <= (3*std)) else 1)\n",
    "print('New size: %d' % len(train))\n",
    "print (test[test.meter_waiting_fare_is_outlier == 1].shape[0])\n",
    "print (train[train.label == 'incorrect'].shape[0])"
   ]
  },
  {
   "cell_type": "code",
   "execution_count": 35,
   "metadata": {
    "colab": {
     "base_uri": "https://localhost:8080/",
     "height": 85
    },
    "colab_type": "code",
    "executionInfo": {
     "elapsed": 2465,
     "status": "ok",
     "timestamp": 1590262102511,
     "user": {
      "displayName": "Lahiru Senevirathne",
      "photoUrl": "https://lh3.googleusercontent.com/a-/AOh14GiRzF3KfxeuLmDoDB90oNXQ5_ivLn8-Ar4kecdc=s64",
      "userId": "12627549003426465017"
     },
     "user_tz": -330
    },
    "id": "sHvR1GvkKz6s",
    "outputId": "c0cbfe5f-88e5-4078-d67e-c5cb2b861303"
   },
   "outputs": [
    {
     "name": "stdout",
     "output_type": "stream",
     "text": [
      "Old size: 17176\n",
      "New size: 17176\n",
      "225\n",
      "1681\n"
     ]
    }
   ],
   "source": [
    "print('Old size: %d' % len(train))\n",
    "mean, std  =train.fare.mean() , train.fare.std()\n",
    "train['fare_is_outlier'] = train['fare'].apply(lambda x: 0 if ((np.abs(x-mean) <= (3*std)) or x<=0 ) else 1)\n",
    "test['fare_is_outlier'] = test['fare'].apply(lambda x: 0 if ((np.abs(x-mean) <= (3*std)) or x<=0 ) else 1)\n",
    "print('New size: %d' % len(train))\n",
    "print (train[train.fare_is_outlier == 1].shape[0])\n",
    "print (train[train.label == 'incorrect'].shape[0])"
   ]
  },
  {
   "cell_type": "markdown",
   "metadata": {
    "colab_type": "text",
    "id": "K17AmmRJuovC"
   },
   "source": [
    "## Fill null values"
   ]
  },
  {
   "cell_type": "code",
   "execution_count": 36,
   "metadata": {
    "colab": {},
    "colab_type": "code",
    "id": "uv2BzQR_uq0a"
   },
   "outputs": [],
   "source": [
    "# train = train.fillna(-1)\n",
    "# test = test.fillna(-1)"
   ]
  },
  {
   "cell_type": "markdown",
   "metadata": {
    "colab_type": "text",
    "id": "ctTqmsHy17SP"
   },
   "source": [
    "## Drop outliers"
   ]
  },
  {
   "cell_type": "code",
   "execution_count": 37,
   "metadata": {
    "colab": {
     "base_uri": "https://localhost:8080/",
     "height": 68
    },
    "colab_type": "code",
    "executionInfo": {
     "elapsed": 2432,
     "status": "ok",
     "timestamp": 1590262102512,
     "user": {
      "displayName": "Lahiru Senevirathne",
      "photoUrl": "https://lh3.googleusercontent.com/a-/AOh14GiRzF3KfxeuLmDoDB90oNXQ5_ivLn8-Ar4kecdc=s64",
      "userId": "12627549003426465017"
     },
     "user_tz": -330
    },
    "id": "QBgxOvixJ8Bl",
    "outputId": "6c6df7a4-d741-4ee5-c710-cfa3c7a8e40c"
   },
   "outputs": [],
   "source": [
    "# print('Old size: %d' % len(train))\n",
    "# train = train[np.abs(train.duration-train.duration.mean()) <= (3*train.duration.std())]\n",
    "# print('New size: %d' % len(train))\n",
    "# print (train[train.label == 'incorrect'].shape[0])"
   ]
  },
  {
   "cell_type": "code",
   "execution_count": 38,
   "metadata": {
    "colab": {
     "base_uri": "https://localhost:8080/",
     "height": 68
    },
    "colab_type": "code",
    "executionInfo": {
     "elapsed": 2410,
     "status": "ok",
     "timestamp": 1590262102515,
     "user": {
      "displayName": "Lahiru Senevirathne",
      "photoUrl": "https://lh3.googleusercontent.com/a-/AOh14GiRzF3KfxeuLmDoDB90oNXQ5_ivLn8-Ar4kecdc=s64",
      "userId": "12627549003426465017"
     },
     "user_tz": -330
    },
    "id": "l_zanusFJ8oJ",
    "outputId": "fa3cdb75-c3f8-4c90-83b1-c6a458b821e2"
   },
   "outputs": [],
   "source": [
    "# print('Old size: %d' % len(train))\n",
    "# train = train[np.abs(train.meter_waiting_till_pickup-train.meter_waiting_till_pickup.mean()) <= (3*train.meter_waiting_till_pickup.std())]\n",
    "# print('New size: %d' % len(train))\n",
    "# print (train[train.label == 'incorrect'].shape[0])"
   ]
  },
  {
   "cell_type": "code",
   "execution_count": 39,
   "metadata": {
    "colab": {
     "base_uri": "https://localhost:8080/",
     "height": 68
    },
    "colab_type": "code",
    "executionInfo": {
     "elapsed": 2381,
     "status": "ok",
     "timestamp": 1590262102516,
     "user": {
      "displayName": "Lahiru Senevirathne",
      "photoUrl": "https://lh3.googleusercontent.com/a-/AOh14GiRzF3KfxeuLmDoDB90oNXQ5_ivLn8-Ar4kecdc=s64",
      "userId": "12627549003426465017"
     },
     "user_tz": -330
    },
    "id": "2shoxl3wJ9yS",
    "outputId": "e43fee9a-cb35-439b-c6b4-6a154fa18440"
   },
   "outputs": [],
   "source": [
    "# print('Old size: %d' % len(train))\n",
    "# train = train[np.abs(train.meter_waiting-train.meter_waiting.mean()) <= (3*train.meter_waiting.std())]\n",
    "# print('New size: %d' % len(train))\n",
    "# print (train[train.label == 'incorrect'].shape[0])"
   ]
  },
  {
   "cell_type": "markdown",
   "metadata": {
    "colab_type": "text",
    "id": "4D-CmpQOIhUg"
   },
   "source": [
    "## Format date and Lables"
   ]
  },
  {
   "cell_type": "code",
   "execution_count": 40,
   "metadata": {
    "colab": {},
    "colab_type": "code",
    "id": "KpWT-H_09eOk"
   },
   "outputs": [],
   "source": [
    "train['pickup_time']=pd.to_datetime(train['pickup_time'],infer_datetime_format=True)\n",
    "train['drop_time']=pd.to_datetime(train['drop_time'],infer_datetime_format=True)\n",
    "\n",
    "test['pickup_time']=pd.to_datetime(test['pickup_time'],infer_datetime_format=True)\n",
    "test['drop_time']=pd.to_datetime(test['drop_time'],infer_datetime_format=True)"
   ]
  },
  {
   "cell_type": "code",
   "execution_count": 41,
   "metadata": {
    "colab": {},
    "colab_type": "code",
    "id": "YuwUM1vCBAmA"
   },
   "outputs": [],
   "source": [
    "train['pickup_date']= train['pickup_time'].dt.date\n",
    "train['pickup_day']=train['pickup_time'].apply(lambda x:x.day)\n",
    "train['pickup_hour']=train['pickup_time'].apply(lambda x:x.hour)\n",
    "train['pickup_day_of_week']=train['pickup_time'].apply(lambda x:calendar.day_name[x.weekday()])\n",
    "train['pickup_month']=train['pickup_time'].apply(lambda x:x.month)\n",
    "train['pickup_year']=train['pickup_time'].apply(lambda x:x.year)\n",
    "\n",
    "test['pickup_date']= test['pickup_time'].dt.date\n",
    "test['pickup_day']=test['pickup_time'].apply(lambda x:x.day)\n",
    "test['pickup_hour']=test['pickup_time'].apply(lambda x:x.hour)\n",
    "test['pickup_day_of_week']=test['pickup_time'].apply(lambda x:calendar.day_name[x.weekday()])\n",
    "test['pickup_month']=test['pickup_time'].apply(lambda x:x.month)\n",
    "test['pickup_year']=test['pickup_time'].apply(lambda x:x.year)"
   ]
  },
  {
   "cell_type": "code",
   "execution_count": 42,
   "metadata": {
    "colab": {
     "base_uri": "https://localhost:8080/",
     "height": 527
    },
    "colab_type": "code",
    "executionInfo": {
     "elapsed": 3194,
     "status": "ok",
     "timestamp": 1590262103387,
     "user": {
      "displayName": "Lahiru Senevirathne",
      "photoUrl": "https://lh3.googleusercontent.com/a-/AOh14GiRzF3KfxeuLmDoDB90oNXQ5_ivLn8-Ar4kecdc=s64",
      "userId": "12627549003426465017"
     },
     "user_tz": -330
    },
    "id": "m5JTc4Oe5vwa",
    "outputId": "75818cde-cef1-4612-a133-1f090f80de7d"
   },
   "outputs": [
    {
     "name": "stdout",
     "output_type": "stream",
     "text": [
      "<class 'pandas.core.frame.DataFrame'>\n",
      "RangeIndex: 17176 entries, 0 to 17175\n",
      "Data columns (total 23 columns):\n",
      " #   Column                         Non-Null Count  Dtype         \n",
      "---  ------                         --------------  -----         \n",
      " 0   tripid                         17176 non-null  int64         \n",
      " 1   additional_fare                16974 non-null  float64       \n",
      " 2   duration                       16974 non-null  float64       \n",
      " 3   meter_waiting                  16974 non-null  float64       \n",
      " 4   meter_waiting_fare             16974 non-null  float64       \n",
      " 5   meter_waiting_till_pickup      16974 non-null  float64       \n",
      " 6   pickup_time                    17176 non-null  datetime64[ns]\n",
      " 7   drop_time                      17176 non-null  datetime64[ns]\n",
      " 8   pick_lat                       17176 non-null  float64       \n",
      " 9   pick_lon                       17176 non-null  float64       \n",
      " 10  drop_lat                       17176 non-null  float64       \n",
      " 11  drop_lon                       17176 non-null  float64       \n",
      " 12  fare                           17039 non-null  float64       \n",
      " 13  label                          17176 non-null  object        \n",
      " 14  additional_fare_is_outlier     17176 non-null  int64         \n",
      " 15  meter_waiting_fare_is_outlier  17176 non-null  int64         \n",
      " 16  fare_is_outlier                17176 non-null  int64         \n",
      " 17  pickup_date                    17176 non-null  object        \n",
      " 18  pickup_day                     17176 non-null  int64         \n",
      " 19  pickup_hour                    17176 non-null  int64         \n",
      " 20  pickup_day_of_week             17176 non-null  object        \n",
      " 21  pickup_month                   17176 non-null  int64         \n",
      " 22  pickup_year                    17176 non-null  int64         \n",
      "dtypes: datetime64[ns](2), float64(10), int64(8), object(3)\n",
      "memory usage: 3.0+ MB\n"
     ]
    }
   ],
   "source": [
    "train.info()"
   ]
  },
  {
   "cell_type": "code",
   "execution_count": 43,
   "metadata": {
    "colab": {},
    "colab_type": "code",
    "id": "YXskGEL9lkH1"
   },
   "outputs": [],
   "source": [
    "def encodeDays(day_of_week):\n",
    "  day_dict={'Sunday':0,'Monday':1,'Tuesday':2,'Wednesday':3,'Thursday':4,'Friday':5,'Saturday':6}\n",
    "  return day_dict[day_of_week]\n",
    "def encodeLabel(label):\n",
    "  label_dict={'correct':1,'incorrect':0}\n",
    "  return label_dict[label]\n",
    "def clean_data(data,isTrain):\n",
    "  data['pickup_day_of_week']=data['pickup_day_of_week'].apply(lambda x:encodeDays(x))\n",
    "  if(isTrain):\n",
    "    data['label']=data['label'].apply(lambda x:encodeLabel(x))\n",
    "  return data"
   ]
  },
  {
   "cell_type": "code",
   "execution_count": 44,
   "metadata": {
    "colab": {
     "base_uri": "https://localhost:8080/",
     "height": 51
    },
    "colab_type": "code",
    "executionInfo": {
     "elapsed": 3154,
     "status": "ok",
     "timestamp": 1590262103391,
     "user": {
      "displayName": "Lahiru Senevirathne",
      "photoUrl": "https://lh3.googleusercontent.com/a-/AOh14GiRzF3KfxeuLmDoDB90oNXQ5_ivLn8-Ar4kecdc=s64",
      "userId": "12627549003426465017"
     },
     "user_tz": -330
    },
    "id": "nEcV3gidllxs",
    "outputId": "490a6518-225a-4dd8-c1cb-e9db7578057e"
   },
   "outputs": [
    {
     "name": "stdout",
     "output_type": "stream",
     "text": [
      "Shape of Training Data after cleaning  (17176, 23)\n",
      "Shape of Testing Data after cleaning (8576, 22)\n"
     ]
    }
   ],
   "source": [
    "train=clean_data(train,True)\n",
    "test=clean_data(test,False)\n",
    "print(\"Shape of Training Data after cleaning \",train.shape)\n",
    "print(\"Shape of Testing Data after cleaning\", test.shape)\n"
   ]
  },
  {
   "cell_type": "markdown",
   "metadata": {
    "colab_type": "text",
    "id": "xRMiPTNnoCpu"
   },
   "source": [
    "# EDA"
   ]
  },
  {
   "cell_type": "code",
   "execution_count": 45,
   "metadata": {
    "colab": {
     "base_uri": "https://localhost:8080/",
     "height": 408
    },
    "colab_type": "code",
    "executionInfo": {
     "elapsed": 3134,
     "status": "ok",
     "timestamp": 1590262103392,
     "user": {
      "displayName": "Lahiru Senevirathne",
      "photoUrl": "https://lh3.googleusercontent.com/a-/AOh14GiRzF3KfxeuLmDoDB90oNXQ5_ivLn8-Ar4kecdc=s64",
      "userId": "12627549003426465017"
     },
     "user_tz": -330
    },
    "id": "bMfZ7DZVCwFh",
    "outputId": "0f957618-a750-4dd9-d03a-9d02a0ea90ee"
   },
   "outputs": [
    {
     "data": {
      "text/plain": [
       "tripid                           0.0\n",
       "additional_fare                  0.0\n",
       "duration                         0.0\n",
       "meter_waiting                    0.0\n",
       "meter_waiting_fare               0.0\n",
       "meter_waiting_till_pickup        0.0\n",
       "pickup_time                      0.0\n",
       "drop_time                        0.0\n",
       "pick_lat                         0.0\n",
       "pick_lon                         0.0\n",
       "drop_lat                         0.0\n",
       "drop_lon                         0.0\n",
       "fare                             0.0\n",
       "label                            0.0\n",
       "additional_fare_is_outlier       0.0\n",
       "meter_waiting_fare_is_outlier    0.0\n",
       "fare_is_outlier                  0.0\n",
       "pickup_date                      0.0\n",
       "pickup_day                       0.0\n",
       "pickup_hour                      0.0\n",
       "pickup_day_of_week               0.0\n",
       "pickup_month                     0.0\n",
       "pickup_year                      0.0\n",
       "dtype: float64"
      ]
     },
     "execution_count": 45,
     "metadata": {},
     "output_type": "execute_result"
    }
   ],
   "source": [
    "train[pd.isnull(train)].sum()"
   ]
  },
  {
   "cell_type": "markdown",
   "metadata": {
    "colab_type": "text",
    "id": "yzQ68_zsNAli"
   },
   "source": [
    "## Trip Fare Analysis"
   ]
  },
  {
   "cell_type": "code",
   "execution_count": 46,
   "metadata": {
    "colab": {
     "base_uri": "https://localhost:8080/",
     "height": 0
    },
    "colab_type": "code",
    "executionInfo": {
     "elapsed": 3110,
     "status": "ok",
     "timestamp": 1590262103393,
     "user": {
      "displayName": "Lahiru Senevirathne",
      "photoUrl": "https://lh3.googleusercontent.com/a-/AOh14GiRzF3KfxeuLmDoDB90oNXQ5_ivLn8-Ar4kecdc=s64",
      "userId": "12627549003426465017"
     },
     "user_tz": -330
    },
    "id": "rqv8AV1GC32U",
    "outputId": "ab1094d7-0384-4eff-ee81-f2adf1189c42"
   },
   "outputs": [
    {
     "data": {
      "text/plain": [
       "Text(0.5, 1.0, 'Distribution of Trip Fare')"
      ]
     },
     "execution_count": 46,
     "metadata": {},
     "output_type": "execute_result"
    },
    {
     "data": {
      "image/png": "[encoded data removed]",
      "text/plain": [
       "<Figure size 576x360 with 1 Axes>"
      ]
     },
     "metadata": {},
     "output_type": "display_data"
    }
   ],
   "source": [
    "plt.figure(figsize=(8,5))\n",
    "sns.kdeplot(test['duration']).set_title(\"Distribution of Trip Fare\")"
   ]
  },
  {
   "cell_type": "code",
   "execution_count": 47,
   "metadata": {
    "colab": {
     "base_uri": "https://localhost:8080/",
     "height": 0
    },
    "colab_type": "code",
    "executionInfo": {
     "elapsed": 3081,
     "status": "ok",
     "timestamp": 1590262103394,
     "user": {
      "displayName": "Lahiru Senevirathne",
      "photoUrl": "https://lh3.googleusercontent.com/a-/AOh14GiRzF3KfxeuLmDoDB90oNXQ5_ivLn8-Ar4kecdc=s64",
      "userId": "12627549003426465017"
     },
     "user_tz": -330
    },
    "id": "M9_j3fd_DU1n",
    "outputId": "fa4a09f1-58e1-4895-b09e-3d23c627d48e"
   },
   "outputs": [
    {
     "data": {
      "text/plain": [
       "(0, 23)"
      ]
     },
     "execution_count": 47,
     "metadata": {},
     "output_type": "execute_result"
    }
   ],
   "source": [
    "train.loc[train['meter_waiting_till_pickup']<0].shape"
   ]
  },
  {
   "cell_type": "code",
   "execution_count": 48,
   "metadata": {
    "colab": {
     "base_uri": "https://localhost:8080/",
     "height": 0
    },
    "colab_type": "code",
    "executionInfo": {
     "elapsed": 3766,
     "status": "ok",
     "timestamp": 1590262104093,
     "user": {
      "displayName": "Lahiru Senevirathne",
      "photoUrl": "https://lh3.googleusercontent.com/a-/AOh14GiRzF3KfxeuLmDoDB90oNXQ5_ivLn8-Ar4kecdc=s64",
      "userId": "12627549003426465017"
     },
     "user_tz": -330
    },
    "id": "DTNoseyvEEhV",
    "outputId": "2aa34377-af4d-4084-da41-fce306ad4da0"
   },
   "outputs": [
    {
     "data": {
      "text/plain": [
       "Text(0.5, 1.0, 'Distribution of fare amount (log scale)')"
      ]
     },
     "execution_count": 48,
     "metadata": {},
     "output_type": "execute_result"
    },
    {
     "data": {
      "image/png": "[encoded data removed]",
      "text/plain": [
       "<Figure size 576x360 with 1 Axes>"
      ]
     },
     "metadata": {},
     "output_type": "display_data"
    }
   ],
   "source": [
    "plt.figure(figsize=(8,5))\n",
    "sns.kdeplot(np.log(train['fare'].values)).set_title(\"Distribution of fare amount (log scale)\")"
   ]
  },
  {
   "cell_type": "markdown",
   "metadata": {
    "colab_type": "text",
    "id": "zofE6-4fNG_1"
   },
   "source": [
    "## Pickup Location Analysis"
   ]
  },
  {
   "cell_type": "code",
   "execution_count": 49,
   "metadata": {
    "colab": {
     "base_uri": "https://localhost:8080/",
     "height": 68
    },
    "colab_type": "code",
    "executionInfo": {
     "elapsed": 3751,
     "status": "ok",
     "timestamp": 1590262104099,
     "user": {
      "displayName": "Lahiru Senevirathne",
      "photoUrl": "https://lh3.googleusercontent.com/a-/AOh14GiRzF3KfxeuLmDoDB90oNXQ5_ivLn8-Ar4kecdc=s64",
      "userId": "12627549003426465017"
     },
     "user_tz": -330
    },
    "id": "ztNigcQTFQ8c",
    "outputId": "eccede5d-daff-481a-e3cb-156cbf0346ec"
   },
   "outputs": [
    {
     "name": "stdout",
     "output_type": "stream",
     "text": [
      "Range of pickup Longitude is  (79.8177, 80.7764)\n",
      "Range of Pickup Latitude is  (5.94313, 8.42501)\n"
     ]
    },
    {
     "data": {
      "text/plain": [
       "(0, 22)"
      ]
     },
     "execution_count": 49,
     "metadata": {},
     "output_type": "execute_result"
    }
   ],
   "source": [
    "print(\"Range of pickup Longitude is \", (min(test['pick_lon']),max(test['pick_lon'])))\n",
    "print(\"Range of Pickup Latitude is \", (min(test['pick_lat']),max(test['pick_lat'])))\n",
    "test[(test.pick_lat==0) | (test.pick_lon)==0 | (test.drop_lat==0)|(test.drop_lon==0)].shape"
   ]
  },
  {
   "cell_type": "code",
   "execution_count": 50,
   "metadata": {
    "colab": {},
    "colab_type": "code",
    "id": "eQozcUe_KGtH"
   },
   "outputs": [],
   "source": [
    "boundary={'min_lng':79.818,\n",
    "              'min_lat':5.94313,\n",
    "              'max_lng':80.8055, \n",
    "              'max_lat':8.42501}"
   ]
  },
  {
   "cell_type": "code",
   "execution_count": 51,
   "metadata": {
    "colab": {},
    "colab_type": "code",
    "id": "BC_3Aag1K6ar"
   },
   "outputs": [],
   "source": [
    "train.loc[~((train.pick_lon >= boundary['min_lng'] ) & (train.pick_lon <= boundary['max_lng']) &\n",
    "            (train.pick_lat >= boundary['min_lat']) & (train.pick_lat <= boundary['max_lat']) &\n",
    "            (train.drop_lon >= boundary['min_lng']) & (train.drop_lon <= boundary['max_lng']) &\n",
    "            (train.drop_lat >=boundary['min_lat']) & (train.drop_lat <= boundary['max_lat'])),'is_outlier_loc']=1\n",
    "train.loc[((train.pick_lon >= boundary['min_lng'] ) & (train.pick_lon <= boundary['max_lng']) &\n",
    "            (train.pick_lat >= boundary['min_lat']) & (train.pick_lat <= boundary['max_lat']) &\n",
    "            (train.drop_lon >= boundary['min_lng']) & (train.drop_lon <= boundary['max_lng']) &\n",
    "            (train.drop_lat >=boundary['min_lat']) & (train.drop_lat <= boundary['max_lat'])),'is_outlier_loc']=0\n",
    "\n",
    "test.loc[~((test.pick_lon >= boundary['min_lng'] ) & (test.pick_lon <= boundary['max_lng']) &\n",
    "            (test.pick_lat >= boundary['min_lat']) & (test.pick_lat <= boundary['max_lat']) &\n",
    "            (test.drop_lon >= boundary['min_lng']) & (test.drop_lon <= boundary['max_lng']) &\n",
    "            (test.drop_lat >=boundary['min_lat']) & (test.drop_lat <= boundary['max_lat'])),'is_outlier_loc']=1\n",
    "test.loc[((test.pick_lon >= boundary['min_lng'] ) & (test.pick_lon <= boundary['max_lng']) &\n",
    "            (test.pick_lat >= boundary['min_lat']) & (test.pick_lat <= boundary['max_lat']) &\n",
    "            (test.drop_lon >= boundary['min_lng']) & (test.drop_lon <= boundary['max_lng']) &\n",
    "            (test.drop_lat >=boundary['min_lat']) & (test.drop_lat <= boundary['max_lat'])),'is_outlier_loc']=0           \n",
    "\n",
    "# print(\"Outlier vs Non Outlier Counts\")\n",
    "# print(train['is_outlier_loc'].value_counts())\n",
    "# print('Old size: %d' % len(train))\n",
    "# # Let us drop rows, where location is outlier\n",
    "# train=train.loc[train['is_outlier_loc']==0]\n",
    "# train.drop(['is_outlier_loc'],axis=1,inplace=True)\n",
    "# train = train[train.duration>=0]\n",
    "# print('New size: %d' % len(train))\n",
    "# print (train[train.label == 0].shape[0])\n",
    "\n",
    "\n",
    "train_is_outlier_loc = train['is_outlier_loc'].astype(int)\n",
    "test_outlier_loc = test['is_outlier_loc'].astype(int)\n",
    "\n",
    "train['is_outlier_loc'] = train_is_outlier_loc\n",
    "test['is_outlier_loc'] = test_outlier_loc"
   ]
  },
  {
   "cell_type": "code",
   "execution_count": 52,
   "metadata": {
    "colab": {
     "base_uri": "https://localhost:8080/",
     "height": 342
    },
    "colab_type": "code",
    "executionInfo": {
     "elapsed": 4224,
     "status": "ok",
     "timestamp": 1590258476340,
     "user": {
      "displayName": "Lahiru Senevirathne",
      "photoUrl": "https://lh3.googleusercontent.com/a-/AOh14GiRzF3KfxeuLmDoDB90oNXQ5_ivLn8-Ar4kecdc=s64",
      "userId": "12627549003426465017"
     },
     "user_tz": -330
    },
    "id": "0z6o-OOFG28X",
    "outputId": "1d61a639-d24e-44e0-b930-0ceda15b61b5"
   },
   "outputs": [
    {
     "data": {
      "text/plain": [
       "(5.9366, 8.42173)"
      ]
     },
     "execution_count": 52,
     "metadata": {},
     "output_type": "execute_result"
    },
    {
     "data": {
      "image/png": "[encoded data removed]",
      "text/plain": [
       "<Figure size 432x288 with 1 Axes>"
      ]
     },
     "metadata": {},
     "output_type": "display_data"
    }
   ],
   "source": [
    "city_long_border = (79.818, 80.8055)\n",
    "city_lat_border = (5.9366, 8.42173)\n",
    "\n",
    "train.plot(kind='scatter', x='drop_lon', y='drop_lat',\n",
    "                color='green', \n",
    "                s=.02, alpha=.6)\n",
    "plt.title(\"Dropoffs\")\n",
    "\n",
    "plt.xlim(city_long_border)\n",
    "plt.ylim(city_lat_border)\n"
   ]
  },
  {
   "cell_type": "code",
   "execution_count": 53,
   "metadata": {
    "colab": {
     "base_uri": "https://localhost:8080/",
     "height": 342
    },
    "colab_type": "code",
    "executionInfo": {
     "elapsed": 4167,
     "status": "ok",
     "timestamp": 1590258476341,
     "user": {
      "displayName": "Lahiru Senevirathne",
      "photoUrl": "https://lh3.googleusercontent.com/a-/AOh14GiRzF3KfxeuLmDoDB90oNXQ5_ivLn8-Ar4kecdc=s64",
      "userId": "12627549003426465017"
     },
     "user_tz": -330
    },
    "id": "faysrdHpNCbV",
    "outputId": "e4045c26-ba8e-4652-f583-417085f0f8c0"
   },
   "outputs": [
    {
     "data": {
      "text/plain": [
       "(79.818, 80.8055)"
      ]
     },
     "execution_count": 53,
     "metadata": {},
     "output_type": "execute_result"
    },
    {
     "data": {
      "image/png": "[encoded data removed]",
      "text/plain": [
       "<Figure size 432x288 with 1 Axes>"
      ]
     },
     "metadata": {},
     "output_type": "display_data"
    }
   ],
   "source": [
    "train.plot(kind='scatter', x='pick_lon', y='pick_lat',\n",
    "                color='blue', \n",
    "                s=.02, alpha=.6)\n",
    "plt.title(\"Pickups\")\n",
    "\n",
    "plt.ylim(city_lat_border)\n",
    "plt.xlim(city_long_border)"
   ]
  },
  {
   "cell_type": "markdown",
   "metadata": {
    "colab_type": "text",
    "id": "8pqcwDJ7NN2P"
   },
   "source": [
    "## Drop Negative Values "
   ]
  },
  {
   "cell_type": "code",
   "execution_count": 54,
   "metadata": {
    "colab": {},
    "colab_type": "code",
    "id": "SFCfuccq2EYE"
   },
   "outputs": [],
   "source": [
    "# print('Old size: %d' % len(train))\n",
    "# train = train.dropna(how = 'any', axis = 'rows')\n",
    "# print('New size: %d' % len(train))"
   ]
  },
  {
   "cell_type": "code",
   "execution_count": 55,
   "metadata": {
    "colab": {},
    "colab_type": "code",
    "id": "xeqeLqswNZsv"
   },
   "outputs": [],
   "source": [
    "# train['pickup_latitude_round3']=train['pick_lat'].apply(lambda x:round(x,3))\n",
    "# train['pickup_longitude_round3']=train['pick_lon'].apply(lambda x:round(x,3))\n",
    "# train['dropoff_latitude_round3']=train['drop_lat'].apply(lambda x:round(x,3))\n",
    "# train['dropoff_longitude_round3']=train['drop_lon'].apply(lambda x:round(x,3))"
   ]
  },
  {
   "cell_type": "code",
   "execution_count": 56,
   "metadata": {
    "colab": {},
    "colab_type": "code",
    "id": "U4_cZnVmOY3z"
   },
   "outputs": [],
   "source": [
    "# pickup_fare_amount=train.groupby(['pickup_latitude_round3','pickup_longitude_round3'])['fare'].mean().reset_index().rename(columns={'fare':'avg_fare'})\n",
    "# pickup_fare_amount.head()"
   ]
  },
  {
   "cell_type": "markdown",
   "metadata": {
    "colab_type": "text",
    "id": "eLy15Et0PIAt"
   },
   "source": [
    "## Trip Distance"
   ]
  },
  {
   "cell_type": "code",
   "execution_count": 57,
   "metadata": {
    "colab": {},
    "colab_type": "code",
    "id": "MEE_-dE-PHA3"
   },
   "outputs": [],
   "source": [
    "#calculate trip distance in miles\n",
    "def distance(lat1, lat2, lon1,lon2):\n",
    "    p = 0.017453292519943295 # Pi/180\n",
    "    a = 0.5 - np.cos((lat2 - lat1) * p)/2 + np.cos(lat1 * p) * np.cos(lat2 * p) * (1 - np.cos((lon2 - lon1) * p)) / 2\n",
    "    return 0.6213712 * 12742 * np.arcsin(np.sqrt(a))"
   ]
  },
  {
   "cell_type": "code",
   "execution_count": 58,
   "metadata": {
    "colab": {},
    "colab_type": "code",
    "id": "sy8u7zolPPeE"
   },
   "outputs": [],
   "source": [
    "train['trip_distance']=train.apply(lambda row:distance(row['pick_lat'],row['drop_lat'],row['pick_lon'],row['drop_lon']),axis=1)\n",
    "test['trip_distance']=test.apply(lambda row:distance(row['pick_lat'],row['drop_lat'],row['pick_lon'],row['drop_lon']),axis=1)"
   ]
  },
  {
   "cell_type": "code",
   "execution_count": 59,
   "metadata": {
    "colab": {
     "base_uri": "https://localhost:8080/",
     "height": 320
    },
    "colab_type": "code",
    "executionInfo": {
     "elapsed": 6159,
     "status": "ok",
     "timestamp": 1590258478409,
     "user": {
      "displayName": "Lahiru Senevirathne",
      "photoUrl": "https://lh3.googleusercontent.com/a-/AOh14GiRzF3KfxeuLmDoDB90oNXQ5_ivLn8-Ar4kecdc=s64",
      "userId": "12627549003426465017"
     },
     "user_tz": -330
    },
    "id": "822foGbuPaxs",
    "outputId": "9b82ba75-93e8-494f-8cba-b3fc94c9fc18"
   },
   "outputs": [
    {
     "data": {
      "text/plain": [
       "Text(0.5, 1.0, 'Distribution of Trip Distance (log scale)')"
      ]
     },
     "execution_count": 59,
     "metadata": {},
     "output_type": "execute_result"
    },
    {
     "data": {
      "image/png": "[encoded data removed]",
      "text/plain": [
       "<Figure size 432x288 with 1 Axes>"
      ]
     },
     "metadata": {},
     "output_type": "display_data"
    }
   ],
   "source": [
    "sns.kdeplot(test['trip_distance'].values).set_title(\"Distribution of Trip Distance (log scale)\")"
   ]
  },
  {
   "cell_type": "code",
   "execution_count": 60,
   "metadata": {
    "colab": {
     "base_uri": "https://localhost:8080/",
     "height": 342
    },
    "colab_type": "code",
    "executionInfo": {
     "elapsed": 6142,
     "status": "ok",
     "timestamp": 1590258478409,
     "user": {
      "displayName": "Lahiru Senevirathne",
      "photoUrl": "https://lh3.googleusercontent.com/a-/AOh14GiRzF3KfxeuLmDoDB90oNXQ5_ivLn8-Ar4kecdc=s64",
      "userId": "12627549003426465017"
     },
     "user_tz": -330
    },
    "id": "oghmrZZlPydQ",
    "outputId": "7dc53617-33cb-4c53-c3ee-762836e2f0ca"
   },
   "outputs": [
    {
     "data": {
      "text/plain": [
       "Text(0.5, 1.0, 'Trip Distance vs Fare Amount')"
      ]
     },
     "execution_count": 60,
     "metadata": {},
     "output_type": "execute_result"
    },
    {
     "data": {
      "image/png": "[encoded data removed]",
      "text/plain": [
       "<Figure size 432x288 with 1 Axes>"
      ]
     },
     "metadata": {},
     "output_type": "display_data"
    }
   ],
   "source": [
    "plt.scatter(x=train['trip_distance'],y=train['fare'])\n",
    "plt.xlabel(\"Trip Distance\")\n",
    "plt.ylabel(\"Fare Amount\")\n",
    "plt.title(\"Trip Distance vs Fare Amount\")"
   ]
  },
  {
   "cell_type": "markdown",
   "metadata": {
    "colab_type": "text",
    "id": "ltziHraWM3qd"
   },
   "source": [
    "# Save to CSV"
   ]
  },
  {
   "cell_type": "code",
   "execution_count": 61,
   "metadata": {
    "colab": {
     "base_uri": "https://localhost:8080/",
     "height": 544
    },
    "colab_type": "code",
    "executionInfo": {
     "elapsed": 1311,
     "status": "ok",
     "timestamp": 1590258580055,
     "user": {
      "displayName": "Lahiru Senevirathne",
      "photoUrl": "https://lh3.googleusercontent.com/a-/AOh14GiRzF3KfxeuLmDoDB90oNXQ5_ivLn8-Ar4kecdc=s64",
      "userId": "12627549003426465017"
     },
     "user_tz": -330
    },
    "id": "7h3PywFYy8RP",
    "outputId": "b0d020cb-6001-4138-a3fc-f6e5a6dee461"
   },
   "outputs": [
    {
     "name": "stdout",
     "output_type": "stream",
     "text": [
      "<class 'pandas.core.frame.DataFrame'>\n",
      "RangeIndex: 8576 entries, 0 to 8575\n",
      "Data columns (total 24 columns):\n",
      " #   Column                         Non-Null Count  Dtype         \n",
      "---  ------                         --------------  -----         \n",
      " 0   tripid                         8576 non-null   int64         \n",
      " 1   additional_fare                8576 non-null   float64       \n",
      " 2   duration                       8576 non-null   int64         \n",
      " 3   meter_waiting                  8576 non-null   int64         \n",
      " 4   meter_waiting_fare             8576 non-null   float64       \n",
      " 5   meter_waiting_till_pickup      8576 non-null   int64         \n",
      " 6   pickup_time                    8576 non-null   datetime64[ns]\n",
      " 7   drop_time                      8576 non-null   datetime64[ns]\n",
      " 8   pick_lat                       8576 non-null   float64       \n",
      " 9   pick_lon                       8576 non-null   float64       \n",
      " 10  drop_lat                       8576 non-null   float64       \n",
      " 11  drop_lon                       8576 non-null   float64       \n",
      " 12  fare                           8576 non-null   float64       \n",
      " 13  additional_fare_is_outlier     8576 non-null   int64         \n",
      " 14  meter_waiting_fare_is_outlier  8576 non-null   int64         \n",
      " 15  fare_is_outlier                8576 non-null   int64         \n",
      " 16  pickup_date                    8576 non-null   object        \n",
      " 17  pickup_day                     8576 non-null   int64         \n",
      " 18  pickup_hour                    8576 non-null   int64         \n",
      " 19  pickup_day_of_week             8576 non-null   int64         \n",
      " 20  pickup_month                   8576 non-null   int64         \n",
      " 21  pickup_year                    8576 non-null   int64         \n",
      " 22  is_outlier_loc                 8576 non-null   int64         \n",
      " 23  trip_distance                  8576 non-null   float64       \n",
      "dtypes: datetime64[ns](2), float64(8), int64(13), object(1)\n",
      "memory usage: 1.6+ MB\n"
     ]
    }
   ],
   "source": [
    "test.info()"
   ]
  },
  {
   "cell_type": "code",
   "execution_count": 62,
   "metadata": {
    "colab": {},
    "colab_type": "code",
    "id": "oXXv9SDnRBBx"
   },
   "outputs": [],
   "source": [
    "train.to_csv(\"features/7_Train_FeatureEngineering_didnt_fill_null.csv\",index=False)\n",
    "test.to_csv(\"features/7_Test_FeatureEngineering_didnt_fill_null.csv\",index=False)"
   ]
  },
  {
   "cell_type": "code",
   "execution_count": 63,
   "metadata": {
    "colab": {
     "base_uri": "https://localhost:8080/",
     "height": 136
    },
    "colab_type": "code",
    "executionInfo": {
     "elapsed": 4902,
     "status": "ok",
     "timestamp": 1589621989680,
     "user": {
      "displayName": "Lahiru Senevirathne",
      "photoUrl": "https://lh3.googleusercontent.com/a-/AOh14GiRzF3KfxeuLmDoDB90oNXQ5_ivLn8-Ar4kecdc=s64",
      "userId": "12627549003426465017"
     },
     "user_tz": -330
    },
    "id": "U38_rzrT2nl_",
    "outputId": "0eac6a35-883f-4659-adc1-f2a565cf821b"
   },
   "outputs": [
    {
     "name": "stdout",
     "output_type": "stream",
     "text": [
      " Feature_Engineering_Test.ipynb\r\n",
      " Feature_Engineering_Train_1.ipynb\r\n",
      " Feature_Engineering_Train_2.ipynb\r\n",
      " Feature_Engineering_Train_3_do_not_drop_any_feature.ipynb\r\n",
      " Feature_Engineering_Train_5_zscore_normalize.ipynb\r\n",
      "'Feature_Engineering_Train_6_change according_to_ml_project.ipynb'\r\n",
      " Model.ipynb\r\n",
      " README.md\r\n",
      " catboost_info\r\n",
      " features\r\n",
      " predications_submission.csv\r\n",
      " predictions\r\n",
      " sample_submission.csv\r\n",
      " test.csv\r\n",
      " train.csv\r\n"
     ]
    }
   ],
   "source": [
    "!ls"
   ]
  },
  {
   "cell_type": "code",
   "execution_count": 64,
   "metadata": {
    "colab": {
     "base_uri": "https://localhost:8080/",
     "height": 34
    },
    "colab_type": "code",
    "executionInfo": {
     "elapsed": 1290,
     "status": "ok",
     "timestamp": 1588959537128,
     "user": {
      "displayName": "Lahiru Senevirathne",
      "photoUrl": "https://lh3.googleusercontent.com/a-/AOh14GiRzF3KfxeuLmDoDB90oNXQ5_ivLn8-Ar4kecdc=s64",
      "userId": "12627549003426465017"
     },
     "user_tz": -330
    },
    "id": "zuL5uSb8VPLz",
    "outputId": "c517162f-c0c5-42ba-8531-8c19b8b3c6e4"
   },
   "outputs": [
    {
     "name": "stdout",
     "output_type": "stream",
     "text": [
      "1681\n"
     ]
    }
   ],
   "source": [
    "print (train[train.label == 0].shape[0])"
   ]
  },
  {
   "cell_type": "code",
   "execution_count": 65,
   "metadata": {
    "colab": {
     "base_uri": "https://localhost:8080/",
     "height": 255
    },
    "colab_type": "code",
    "executionInfo": {
     "elapsed": 6663,
     "status": "ok",
     "timestamp": 1588958911856,
     "user": {
      "displayName": "Lahiru Senevirathne",
      "photoUrl": "https://lh3.googleusercontent.com/a-/AOh14GiRzF3KfxeuLmDoDB90oNXQ5_ivLn8-Ar4kecdc=s64",
      "userId": "12627549003426465017"
     },
     "user_tz": -330
    },
    "id": "9n0EVdj7Xrbt",
    "outputId": "901ba396-fcf0-4bc9-f345-fca7f86a1aa2"
   },
   "outputs": [
    {
     "data": {
      "text/plain": [
       "<bound method NDFrame.head of          tripid  additional_fare  duration  meter_waiting  meter_waiting_fare  \\\n",
       "0     213284604  10.5             924       42             2.44860              \n",
       "1     213286352  10.5             4249      20             0.00000              \n",
       "2     213293973  10.5             1552      255            2.65880              \n",
       "3     213294622  10.5             462       16             0.00000              \n",
       "4     213298687  10.5             814       392            12.36920             \n",
       "...         ...   ...             ...       ...                 ...             \n",
       "8571  222856243  10.5             1723      429            24.83332             \n",
       "8572  222857785  10.5             1378      80             0.00000              \n",
       "8573  222858416  10.5             418       56             3.28440              \n",
       "8574  222858691  10.5             1604      548            31.67440             \n",
       "8575  222860703  10.5             1698      691            32.88820             \n",
       "\n",
       "      meter_waiting_till_pickup         pickup_time           drop_time  \\\n",
       "0     148                       2020-02-01 00:38:00 2020-02-01 00:53:00   \n",
       "1     91                        2020-02-01 01:02:00 2020-02-01 02:13:00   \n",
       "2     23                        2020-02-01 05:02:00 2020-02-01 05:28:00   \n",
       "3     198                       2020-02-01 05:30:00 2020-02-01 05:38:00   \n",
       "4     69                        2020-02-01 07:00:00 2020-02-01 07:14:00   \n",
       "...   ..                                        ...                 ...   \n",
       "8571  3                         2020-03-16 21:28:00 2020-03-16 21:56:00   \n",
       "8572  125                       2020-03-16 21:59:00 2020-03-16 22:22:00   \n",
       "8573  93                        2020-03-16 22:02:00 2020-03-16 22:09:00   \n",
       "8574  17                        2020-03-16 22:07:00 2020-03-16 22:34:00   \n",
       "8575  42                        2020-03-16 22:58:00 2020-03-16 23:26:00   \n",
       "\n",
       "      pick_lat  pick_lon  ...  meter_waiting_fare_is_outlier  fare_is_outlier  \\\n",
       "0     6.83454   79.8750   ...  0                              0                 \n",
       "1     6.91168   79.8723   ...  0                              0                 \n",
       "2     6.92145   79.8478   ...  0                              0                 \n",
       "3     6.77433   79.9416   ...  0                              0                 \n",
       "4     6.97968   79.9130   ...  0                              0                 \n",
       "...       ...       ...   ... ..                             ..                 \n",
       "8571  6.85103   79.9567   ...  0                              0                 \n",
       "8572  6.91293   79.9656   ...  0                              0                 \n",
       "8573  6.85718   79.9081   ...  0                              0                 \n",
       "8574  6.91289   79.8846   ...  0                              0                 \n",
       "8575  6.91682   79.9192   ...  0                              0                 \n",
       "\n",
       "      pickup_date  pickup_day  pickup_hour  pickup_day_of_week pickup_month  \\\n",
       "0     2020-02-01   1           0            6                   2             \n",
       "1     2020-02-01   1           1            6                   2             \n",
       "2     2020-02-01   1           5            6                   2             \n",
       "3     2020-02-01   1           5            6                   2             \n",
       "4     2020-02-01   1           7            6                   2             \n",
       "...          ...  ..          ..           ..                  ..             \n",
       "8571  2020-03-16   16          21           1                   3             \n",
       "8572  2020-03-16   16          21           1                   3             \n",
       "8573  2020-03-16   16          22           1                   3             \n",
       "8574  2020-03-16   16          22           1                   3             \n",
       "8575  2020-03-16   16          22           1                   3             \n",
       "\n",
       "      pickup_year  is_outlier_loc  trip_distance  \n",
       "0     2020         0               4.166730       \n",
       "1     2020         0               25.823263      \n",
       "2     2020         0               3.676453       \n",
       "3     2020         0               2.051619       \n",
       "4     2020         0               1.608445       \n",
       "...    ...        ..                    ...       \n",
       "8571  2020         0               2.444643       \n",
       "8572  2020         0               4.671116       \n",
       "8573  2020         0               1.278300       \n",
       "8574  2020         0               2.423900       \n",
       "8575  2020         0               3.377320       \n",
       "\n",
       "[8576 rows x 24 columns]>"
      ]
     },
     "execution_count": 65,
     "metadata": {},
     "output_type": "execute_result"
    }
   ],
   "source": [
    "test.head"
   ]
  }
 ],
 "metadata": {
  "colab": {
   "authorship_tag": "ABX9TyOZbIwS+NWUwgMor8+4E6hS",
   "collapsed_sections": [
    "z9gaTCuHk-4N",
    "yzQ68_zsNAli",
    "8pqcwDJ7NN2P"
   ],
   "mount_file_id": "11k3A-HL8vJFAxzYPT5ADQUTNkvAAZiQ0",
   "name": "Feature_Engineering_Train_6_change according_to_ml_project",
   "provenance": [],
   "toc_visible": true
  },
  "kernelspec": {
   "display_name": "Python 3",
   "language": "python",
   "name": "python3"
  },
  "language_info": {
   "codemirror_mode": {
    "name": "ipython",
    "version": 3
   },
   "file_extension": ".py",
   "mimetype": "text/x-python",
   "name": "python",
   "nbconvert_exporter": "python",
   "pygments_lexer": "ipython3",
   "version": "3.7.7"
  }
 },
 "nbformat": 4,
 "nbformat_minor": 1
}
